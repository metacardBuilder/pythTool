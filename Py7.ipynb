{
 "cells": [
  {
   "cell_type": "markdown",
   "metadata": {},
   "source": [
    "---\n",
    "### Universidad de Costa Rica\n",
    "#### IE0405 - Modelos Probabilísticos de Señales y Sistemas\n",
    "---\n",
    "\n",
    "# `Py7` - *Graficación avanzada*\n",
    "\n",
    "> La visualización de resultados es fundamental en el análisis de datos. Python junton con librerías complementarias como `matplotlib` y `seaborn` (también `bokeh` en un `PyX` posterior) ofrecen herramientas avanzadas para muchos tipos de gráficos comúnmente utilizados en muchos contextos académicos y profesionales.\n",
    "\n",
    "---"
   ]
  },
  {
   "cell_type": "markdown",
   "metadata": {},
   "source": [
    "## Tipos de gráficos más populares\n",
    "\n",
    "El ajuste de modelos...\n",
    "\n",
    "**Nota**: Los aspectos básicos de `matplotlib` ya fueron cubiertos en `Py2` y subsiguientes."
   ]
  },
  {
   "cell_type": "markdown",
   "metadata": {},
   "source": [
    "---\n",
    "## 7.1 - Gráficos 3D con `matplotlib`\n",
    "\n",
    "Para iniciar ...\n",
    "\n",
    "(Aquí: cómo hacer una gráfica de una variable aleatoria múltiple bivariada)\n",
    "\n",
    "$$f_{X,Y}(x, y)$$"
   ]
  },
  {
   "cell_type": "code",
   "execution_count": null,
   "metadata": {},
   "outputs": [],
   "source": []
  },
  {
   "cell_type": "markdown",
   "metadata": {},
   "source": [
    "---\n",
    "## 7.2 - Librería `seaborn`\n",
    "\n",
    "> Seaborn es una biblioteca de visualización de datos de Python basada en `matplotlib`. Proporciona una interfaz de alto nivel para dibujar gráficos estadísticos atractivos e informativos.\n",
    "\n",
    "Si es necesario ..."
   ]
  },
  {
   "cell_type": "code",
   "execution_count": null,
   "metadata": {},
   "outputs": [],
   "source": []
  },
  {
   "cell_type": "markdown",
   "metadata": {},
   "source": [
    "## 7.3 - Exportar gráficas para $\\LaTeX$\n",
    "\n",
    "Para incluir en reportes, es útil... "
   ]
  },
  {
   "cell_type": "code",
   "execution_count": null,
   "metadata": {},
   "outputs": [],
   "source": []
  },
  {
   "cell_type": "markdown",
   "metadata": {},
   "source": [
    "---\n",
    "### Más información\n",
    "\n",
    "* [Página web](https://www.google.com/)\n",
    "* Libro o algo\n",
    "* Tutorial [w3schools](https://www.w3schools.com/python/)\n",
    "---"
   ]
  },
  {
   "cell_type": "markdown",
   "metadata": {},
   "source": [
    "---\n",
    "\n",
    "**Universidad de Costa Rica**\n",
    "\n",
    "Facultad de Ingeniería\n",
    "\n",
    "Escuela de Ingeniería Eléctrica\n",
    "\n",
    "---"
   ]
  }
 ],
 "metadata": {
  "kernelspec": {
   "display_name": "Python 3",
   "language": "python",
   "name": "python3"
  },
  "language_info": {
   "codemirror_mode": {
    "name": "ipython",
    "version": 3
   },
   "file_extension": ".py",
   "mimetype": "text/x-python",
   "name": "python",
   "nbconvert_exporter": "python",
   "pygments_lexer": "ipython3",
   "version": "3.7.1"
  }
 },
 "nbformat": 4,
 "nbformat_minor": 2
}
