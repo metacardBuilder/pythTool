{
 "cells": [
  {
   "cell_type": "markdown",
   "metadata": {},
   "source": [
    "---\n",
    "### Universidad de Costa Rica\n",
    "#### IE0405 - Modelos Probabilísticos de Señales y Sistemas\n",
    "---\n",
    "\n",
    "# `Py5` - *Curvas de ajuste de datos*\n",
    "\n",
    "> Los modelos para describir un fenómeno y sus parámetros pueden obtenerse a partir de una muestra de datos. Debido a la gran cantidad de modelos probabilísticos disponibles, a menudo es necesario hacer una comparación de ajuste entre muchas de ellas.\n",
    "\n",
    "---"
   ]
  },
  {
   "cell_type": "markdown",
   "metadata": {},
   "source": [
    "## Ajuste de modelos\n",
    "\n",
    "El ajuste de modelos...\n",
    "\n",
    "### Estimación de máxima verosimilitud (MLE)\n",
    "\n",
    "(Esto es de menor prioridad) La estimación de máxima verosimilitud (**MLE**, *maximum likelihood estimation*) es...\n"
   ]
  },
  {
   "cell_type": "markdown",
   "metadata": {},
   "source": [
    "---\n",
    "## 5.1 - Con el módulo `stats`\n",
    "\n",
    "Para iniciar ..."
   ]
  },
  {
   "cell_type": "code",
   "execution_count": null,
   "metadata": {},
   "outputs": [],
   "source": []
  },
  {
   "cell_type": "markdown",
   "metadata": {},
   "source": [
    "---\n",
    "## 5.2 - Con la librería `fitter`\n",
    "\n",
    "Si es necesario ..."
   ]
  },
  {
   "cell_type": "code",
   "execution_count": null,
   "metadata": {},
   "outputs": [],
   "source": []
  },
  {
   "cell_type": "markdown",
   "metadata": {},
   "source": [
    "---\n",
    "### Más información\n",
    "\n",
    "* [Página web](https://www.google.com/)\n",
    "* Libro o algo\n",
    "* Tutorial [w3schools](https://www.w3schools.com/python/)\n",
    "---"
   ]
  },
  {
   "cell_type": "markdown",
   "metadata": {},
   "source": [
    "---\n",
    "\n",
    "**Universidad de Costa Rica**\n",
    "\n",
    "Facultad de Ingeniería\n",
    "\n",
    "Escuela de Ingeniería Eléctrica\n",
    "\n",
    "---"
   ]
  }
 ],
 "metadata": {
  "kernelspec": {
   "display_name": "Python 3",
   "language": "python",
   "name": "python3"
  },
  "language_info": {
   "codemirror_mode": {
    "name": "ipython",
    "version": 3
   },
   "file_extension": ".py",
   "mimetype": "text/x-python",
   "name": "python",
   "nbconvert_exporter": "python",
   "pygments_lexer": "ipython3",
   "version": "3.7.1"
  }
 },
 "nbformat": 4,
 "nbformat_minor": 2
}
