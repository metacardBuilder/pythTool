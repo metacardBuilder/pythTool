{
 "cells": [
  {
   "cell_type": "markdown",
   "metadata": {},
   "source": [
    "---\n",
    "### Universidad de Costa Rica\n",
    "#### IE0405 - Modelos Probabilísticos de Señales y Sistemas\n",
    "---\n",
    "\n",
    "# `Py4` - *Introducción al módulo de funciones estadísticas*\n",
    "\n",
    "> El módulo **stats** de SciPy ofrece herramientas de manipulación de distribuciones estadísticas, entre ellas: identificar los parámetros de ajuste para datos, encontrar probabilidades en un intervalo, graficar las funciones de distribución, generar datos aleatorios con una distribución particular, etc.\n",
    "\n",
    "---\n",
    "---"
   ]
  },
  {
   "cell_type": "markdown",
   "metadata": {},
   "source": [
    "### Módulo `stats`\n",
    "\n",
    "```python\n",
    "from scipy import stats\n",
    "```\n",
    "\n",
    "> Este módulo contiene una gran cantidad de distribuciones de probabilidad, así como una creciente biblioteca de funciones estadísticas.\n",
    "\n",
    "Con más de 100 distribuciones estadísticas diferentes, muy posiblemente la que necesitamos está ahí. Tiene una variedad de:\n",
    "\n",
    "* Distribuciones continuas\n",
    "* Distribuciones multivariadas\n",
    "* Distribuciones discretas\n",
    "* Descriptores estadísticos (*summary statistics*)\n",
    "* ...\n",
    "\n",
    "La documentación oficial está en [Statistical functions (scipy.stats)](https://docs.scipy.org/doc/scipy/reference/stats.html)."
   ]
  },
  {
   "cell_type": "markdown",
   "metadata": {},
   "source": [
    "---\n",
    "### 4.1 - Creación de un \"objeto aleatorio\"\n",
    "\n",
    "Para iniciar la manipulación de las distribuciones, se crea una instancia de alguna de las **subclases** de las siguientes *clases* del módulo:\n",
    "\n",
    "* `rv_continuous`: Una clase de variable aleatoria **continua** genérica.\n",
    "* `rv_discrete`: Una clase de variable aleatoria **discreta** genérica.\n",
    "* `rv_histogram`: Genera una distribución dada por un histograma.\n",
    "\n",
    "donde `rv` viene de *random variable*. En realidad, ninguna de estas se utiliza, solamente se crean las subclases a partir de cada una, y esta subclase representa la distribución específica. Por ejemplo:\n",
    "\n",
    "```python\n",
    "from scipy import stats\n",
    "\n",
    "X = stats.uniform(0,1)\n",
    "Y = stats.expon(0,1)\n",
    "Z = stats.norm(0,1)\n",
    "```\n",
    "\n",
    "La lista completa está en [Statistical functions (scipy.stats)](https://docs.scipy.org/doc/scipy/reference/stats.html).\n",
    "\n",
    "#### Parámetros\n",
    "\n",
    "Todas las variables aleatorias están definidas por parámetros, y tienen nombres distintos según cada una ($\\lambda$, $\\mu$, $\\alpha$, etc.). En el módulo `stats`, sin embargo, prácticamente todos los parámetros están especificados como \"ubicación\" (`loc`, de *location*) y \"escala\" (`scale`)."
   ]
  },
  {
   "cell_type": "code",
   "execution_count": null,
   "metadata": {},
   "outputs": [],
   "source": []
  },
  {
   "cell_type": "markdown",
   "metadata": {},
   "source": [
    "---\n",
    "### 4.2 - Generación de datos aleatorios\n",
    "\n",
    "En Python, la asignación de..."
   ]
  },
  {
   "cell_type": "code",
   "execution_count": null,
   "metadata": {},
   "outputs": [],
   "source": []
  },
  {
   "cell_type": "markdown",
   "metadata": {},
   "source": [
    "---\n",
    "### 4.3 - Funciones de distribución\n",
    "\n",
    "En Python, la asignación de..."
   ]
  },
  {
   "cell_type": "code",
   "execution_count": null,
   "metadata": {},
   "outputs": [],
   "source": []
  },
  {
   "cell_type": "markdown",
   "metadata": {},
   "source": [
    "---\n",
    "### 4.4 - Otros métodos asociados con la variable aleatoria\n",
    "\n",
    "En Python, la asignación de..."
   ]
  },
  {
   "cell_type": "code",
   "execution_count": null,
   "metadata": {},
   "outputs": [],
   "source": []
  },
  {
   "cell_type": "markdown",
   "metadata": {},
   "source": [
    "---\n",
    "### 4.5 - Cálculo de probabilidades\n",
    "\n",
    "En Python, la asignación de..."
   ]
  },
  {
   "cell_type": "code",
   "execution_count": null,
   "metadata": {},
   "outputs": [],
   "source": []
  },
  {
   "cell_type": "markdown",
   "metadata": {},
   "source": [
    "---\n",
    "### 4.6 - Gráficas\n",
    "\n",
    "En Python, la asignación de..."
   ]
  },
  {
   "cell_type": "code",
   "execution_count": null,
   "metadata": {},
   "outputs": [],
   "source": []
  },
  {
   "cell_type": "markdown",
   "metadata": {},
   "source": [
    "---\n",
    "### 4.7 - Determinación de parámetros (curva de ajuste)\n",
    "\n",
    "En Python, la asignación de..."
   ]
  },
  {
   "cell_type": "code",
   "execution_count": null,
   "metadata": {},
   "outputs": [],
   "source": []
  },
  {
   "cell_type": "markdown",
   "metadata": {},
   "source": [
    "---\n",
    "### 4.8 - Momentos de la variable aleatoria\n",
    "\n",
    "En Python, la asignación de..."
   ]
  },
  {
   "cell_type": "code",
   "execution_count": null,
   "metadata": {},
   "outputs": [],
   "source": []
  },
  {
   "cell_type": "markdown",
   "metadata": {},
   "source": [
    "---\n",
    "### Más información\n",
    "\n",
    "* [Página web](https://www.google.com/)\n",
    "* Libro o algo\n",
    "* Tutorial [w3schools](https://www.w3schools.com/python/)\n",
    "---"
   ]
  },
  {
   "cell_type": "markdown",
   "metadata": {},
   "source": [
    "---\n",
    "\n",
    "**Universidad de Costa Rica**\n",
    "\n",
    "Facultad de Ingeniería\n",
    "\n",
    "Escuela de Ingeniería Eléctrica\n",
    "\n",
    "---"
   ]
  }
 ],
 "metadata": {
  "kernelspec": {
   "display_name": "Python 3",
   "language": "python",
   "name": "python3"
  },
  "language_info": {
   "codemirror_mode": {
    "name": "ipython",
    "version": 3
   },
   "file_extension": ".py",
   "mimetype": "text/x-python",
   "name": "python",
   "nbconvert_exporter": "python",
   "pygments_lexer": "ipython3",
   "version": "3.7.1"
  }
 },
 "nbformat": 4,
 "nbformat_minor": 2
}
