{
 "cells": [
  {
   "cell_type": "markdown",
   "metadata": {},
   "source": [
    "---\n",
    "### Universidad de Costa Rica\n",
    "#### IE0405 - Modelos Probabilísticos de Señales y Sistemas\n",
    "---\n",
    "\n",
    "# `Py4` - *Introducción al módulo de funciones estadísticas*\n",
    "\n",
    "> El módulo **stats** de SciPy ofrece herramientas de manipulación de distribuciones estadísticas, entre ellas: identificación de parámetros de ajuste para datos, cálculo de probabilidades en un intervalo, graficación de funciones de distribución, generación de datos aleatorios con una distribución particular, etc.\n",
    "\n",
    "---"
   ]
  },
  {
   "cell_type": "markdown",
   "metadata": {},
   "source": [
    "## Módulo `stats`\n",
    "\n",
    "```python\n",
    "from scipy import stats\n",
    "```\n",
    "\n",
    "> Este módulo contiene una gran cantidad de distribuciones de probabilidad, así como una creciente biblioteca de funciones estadísticas.\n",
    "\n",
    "Con más de 100 distribuciones estadísticas diferentes, muy posiblemente la que necesitamos está ahí. Tiene una variedad de:\n",
    "\n",
    "* Distribuciones continuas\n",
    "* Distribuciones multivariadas\n",
    "* Distribuciones discretas\n",
    "* Descriptores estadísticos (*summary statistics*)\n",
    "* ...\n",
    "\n",
    "La documentación oficial está en [Statistical functions (scipy.stats)](https://docs.scipy.org/doc/scipy/reference/stats.html)."
   ]
  },
  {
   "cell_type": "markdown",
   "metadata": {},
   "source": [
    "---\n",
    "## 4.1 - Creación de un \"objeto aleatorio\"\n",
    "\n",
    "Para iniciar la manipulación de las distribuciones, existen *clases* generales de variables aleatorias (`rv` viene de *random variable*) que son:\n",
    "\n",
    "* `rv_continuous`: Una clase de variable aleatoria **continua** genérica.\n",
    "* `rv_discrete`: Una clase de variable aleatoria **discreta** genérica.\n",
    "* `rv_histogram`: Genera una distribución dada por un histograma.\n",
    "\n",
    "A su vez, existen **subclases** de estas categorías que representan las distribuciones en sí. Por ejemplo:\n",
    "\n",
    "```python\n",
    "from scipy import stats\n",
    "\n",
    "W = stats.uniform(0,1)  # distribución uniforme\n",
    "X = stats.expon(0,1)    # distribución exponencial\n",
    "Y = stats.norm(0,1)     # distribución normal\n",
    "Z = stats.rayleigh(0,1) # distribución Rayleigh\n",
    "```\n",
    "\n",
    "Aquí, `W`, `X`, `Y` y `Z` son objetos que heredan las propiedades de las distribuciones indicadas. También se dice que son una versión \"congelada\" (*frozen*) de la variable aleatoria.\n",
    "\n",
    "La lista completa está en [Statistical functions (scipy.stats)](https://docs.scipy.org/doc/scipy/reference/stats.html)."
   ]
  },
  {
   "cell_type": "code",
   "execution_count": null,
   "metadata": {},
   "outputs": [],
   "source": [
    "from scipy import stats\n",
    "\n",
    "X = stats.uniform(0,1)\n",
    "\n",
    "print(type(X))"
   ]
  },
  {
   "cell_type": "markdown",
   "metadata": {},
   "source": [
    "---\n",
    "## 4.2 - Generación de datos aleatorios\n",
    "\n",
    "Si es necesario generar datos aleatorios con una distribución específica, el primer *método* por conocer es `rvs` (de *random variates*)."
   ]
  },
  {
   "cell_type": "code",
   "execution_count": null,
   "metadata": {},
   "outputs": [],
   "source": [
    "from scipy import stats\n",
    "\n",
    "X = stats.uniform(0,1)\n",
    "\n",
    "a = X.rvs()\n",
    "b = X.rvs(5)\n",
    "print(a)\n",
    "print(b)"
   ]
  },
  {
   "cell_type": "markdown",
   "metadata": {},
   "source": [
    "---\n",
    "## 4.3 - Funciones de distribución\n",
    "\n",
    "Los objetos aleatorios ponen a disposición \n",
    "\n",
    "#### Función de densidad de probabilidad\n",
    "\n",
    "El método `pdf` entrega la *probability density function* $f_X(x)$, que puede evaluarse para cualquier valor $x$ particular.\n",
    "\n",
    "#### Función de probabilidad acumulativa\n",
    "\n",
    "El método `cdf` entrega la *cumulative distribution function* $F_X(x)$, que puede evaluarse para cualquier valor $x$ particular."
   ]
  },
  {
   "cell_type": "code",
   "execution_count": null,
   "metadata": {},
   "outputs": [],
   "source": [
    "from scipy import stats\n",
    "\n",
    "X = stats.norm(0,1)\n",
    "\n",
    "a = X.pdf(0)\n",
    "b = X.cdf(0)\n",
    "\n",
    "print(a, b)"
   ]
  },
  {
   "cell_type": "markdown",
   "metadata": {},
   "source": [
    "---\n",
    "## 4.4 - Gráficas de las funciones de distribución\n",
    "\n",
    "Con la ayuda de Matplotlib es posible y deseable graficar la forma de las funciones de distribución. Por ejemplo con la función normal recordar que su distribución está dada por:\n",
    "\n",
    "$${\\displaystyle f_X(x) = {\\frac {1}{\\sqrt {2\\pi \\sigma ^{2}}}}e^{-{\\frac {(x-\\mu )^{2}}{2\\sigma ^{2}}}}}$$"
   ]
  },
  {
   "cell_type": "code",
   "execution_count": null,
   "metadata": {},
   "outputs": [],
   "source": [
    "import numpy as np \n",
    "from scipy import stats \n",
    "import matplotlib.pyplot as plt\n",
    "\n",
    "# Parámetros gaussianos: media y desviación estándar\n",
    "mu = 0\n",
    "sigma = 1\n",
    "\n",
    "# Crear \"objeto\" gaussiano (normal) de parámetros dados\n",
    "gaussiana = stats.norm(mu, sigma)\n",
    "\n",
    "# Crear un rango de valores de x en \"todo el rango porcentual\" (ppf, percent point function)\n",
    "x = np.linspace(gaussiana.ppf(0.01), gaussiana.ppf(0.99), 100)\n",
    "\n",
    "# Crear gráfica de función de densidad de probabilidad\n",
    "plt.plot(x, gaussiana.pdf(x))\n",
    "\n",
    "# Configurar área del gráfico\n",
    "plt.title('Distribución normal')\n",
    "plt.ylabel('$f_X(x)$')\n",
    "plt.xlabel('$x$')\n",
    "\n",
    "# Mostrar la gráfica\n",
    "plt.show()"
   ]
  },
  {
   "cell_type": "markdown",
   "metadata": {},
   "source": [
    "---\n",
    "## 4.5 - Modificación de parámetros de la distribución\n",
    "\n",
    "Todas las variables aleatorias están definidas por parámetros que tienen símbolos distintos ($\\lambda$, $\\mu$, $\\alpha$, etc.). En el módulo `stats`, sin embargo, los parámetros están especificados generalmente como \"ubicación\" y \"escala\". Sin cambiar ninguno de estos parámetros, las distribuciones están **normalizadas** o **estandarizadas**. El efecto que tienen los parámetros es:\n",
    "\n",
    "* `loc` (*location*) va a desplazar la media de la distribución.\n",
    "* `scale` va a \"dispersar\" la distribución.\n",
    "\n",
    "#### Ejemplo con la distribución de Rayleigh\n",
    "\n",
    "La función de densidad de probabilidad de Rayleigh es\n",
    "\n",
    "$${\\displaystyle f_X(x) = {\\frac {x}{\\sigma ^{2}}}e^{-x^{2}/\\left(2\\sigma ^{2}\\right)}}$$\n",
    "\n",
    "Para $x \\geq 0$. Y normalizada ($\\sigma = 1$) es\n",
    "\n",
    "$${\\displaystyle f_X(x) = {{x}}e^{-x^{2}/2}}$$\n",
    "\n",
    "Para modificarlo en `stats` se hace \n",
    "\n",
    "* `rayleigh.pdf(x, loc, scale)`, que es equivalente a \n",
    "* `rayleigh.pdf(y) / scale` con `y = (x - loc) / scale`\n",
    "\n",
    "Es decir,\n",
    "\n",
    "$${ \\displaystyle f_X(x) = {\\frac {(x - \\mathsf{loc})}{\\mathsf{scale}^2}} e^{\\frac{-(x - \\mathsf{loc})^{2}}{(2~\\cdot~ \\mathsf{scale}^2)}} }$$\n",
    "\n",
    "Y corresponde entonces que $\\sigma$ = `scale`. En ocasiones se utiliza como notación `shift` = `loc` pues es, en efecto, un desplazamiento a $x_0$."
   ]
  },
  {
   "cell_type": "code",
   "execution_count": null,
   "metadata": {},
   "outputs": [],
   "source": [
    "import numpy as np \n",
    "from scipy import stats \n",
    "import matplotlib.pyplot as plt\n",
    "\n",
    "# Rango de valores de ubicación y escala\n",
    "locs = range(1,6)\n",
    "scales = range(1,6)\n",
    "\n",
    "# Gráfica para varios parámetros de escala\n",
    "plt.figure()\n",
    "plt.title('Distribución de Rayleigh con varios parámetros de escala')\n",
    "plt.ylabel('$f_X(x)$')\n",
    "plt.xlabel('$x$')\n",
    "for scale in scales:\n",
    "    R = stats.rayleigh(0, scale)\n",
    "    x = np.linspace(0, 16, 100)\n",
    "    plt.plot(x, R.pdf(x), label='$\\sigma$ = ' + str(scale))\n",
    "    plt.legend()\n",
    "\n",
    "# Gráfica para varios parámetros de ubicación\n",
    "plt.figure()\n",
    "plt.title('Distribución de Rayleigh con varios parámetros de ubicación')\n",
    "plt.ylabel('$f_X(x)$')\n",
    "plt.xlabel('$x$')\n",
    "for loc in locs:\n",
    "    R = stats.rayleigh(loc, 4)\n",
    "    x = np.linspace(loc, 20, 100)\n",
    "    plt.plot(x, R.pdf(x), label='$x_0$ = ' + str(loc))\n",
    "    plt.legend()"
   ]
  },
  {
   "cell_type": "markdown",
   "metadata": {},
   "source": [
    "---\n",
    "## 4.6 - Cálculo de probabilidades mediante integración\n",
    "\n",
    "En Python, la asignación de..."
   ]
  },
  {
   "cell_type": "code",
   "execution_count": null,
   "metadata": {},
   "outputs": [],
   "source": []
  },
  {
   "cell_type": "markdown",
   "metadata": {},
   "source": [
    "---\n",
    "## 4.7 - Cálculo de probabilidades por `stats`\n",
    "\n",
    "En Python, la asignación de..."
   ]
  },
  {
   "cell_type": "code",
   "execution_count": null,
   "metadata": {},
   "outputs": [],
   "source": [
    "help(np.linspace)"
   ]
  },
  {
   "cell_type": "markdown",
   "metadata": {},
   "source": [
    "---\n",
    "### Más información\n",
    "\n",
    "* [Página web](https://www.google.com/)\n",
    "* Libro o algo\n",
    "* Tutorial [w3schools](https://www.w3schools.com/python/)\n",
    "---"
   ]
  },
  {
   "cell_type": "markdown",
   "metadata": {},
   "source": [
    "---\n",
    "\n",
    "**Universidad de Costa Rica**\n",
    "\n",
    "Facultad de Ingeniería\n",
    "\n",
    "Escuela de Ingeniería Eléctrica\n",
    "\n",
    "---"
   ]
  }
 ],
 "metadata": {
  "kernelspec": {
   "display_name": "Python 3",
   "language": "python",
   "name": "python3"
  },
  "language_info": {
   "codemirror_mode": {
    "name": "ipython",
    "version": 3
   },
   "file_extension": ".py",
   "mimetype": "text/x-python",
   "name": "python",
   "nbconvert_exporter": "python",
   "pygments_lexer": "ipython3",
   "version": "3.7.1"
  }
 },
 "nbformat": 4,
 "nbformat_minor": 2
}
