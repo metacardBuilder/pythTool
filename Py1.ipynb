{
 "cells": [
  {
   "cell_type": "markdown",
   "metadata": {},
   "source": [
    "---\n",
    "### Universidad de Costa Rica\n",
    "#### IE0405 - Modelos Probabilísticos de Señales y Sistemas\n",
    "---\n",
    "\n",
    "# `Py1` - *Funciones y librerías estándar*\n",
    "\n",
    "> Dentro de las librerías estándar de Python hay herramientas útiles para cálculos operaciones numéricas básicas y para el manejo de archivos como los que se van a aplicar en el curso.\n",
    "\n",
    "---\n",
    "---"
   ]
  },
  {
   "cell_type": "markdown",
   "metadata": {},
   "source": [
    "### Funciones, librerías y métodos\n",
    "\n",
    "En programación generalmente se acepta que \"no hay que reinventar la rueda\" y además que \"no hay que repetirse\", y también que \"hay que mantenerlo sencillo\". Una forma de seguir estos buenos consejos es creando funciones que se invocan cuando hay que hacer tareas repetitivas, y también utilizando piezas de código (\"librerías\") que ya han sido desarrollados para resolver aplicaciones específicas.\n",
    "\n",
    "* **DRY**, *don't repeat yourself*\n",
    "* **KISS**, *keep it simple, stupid*"
   ]
  },
  {
   "cell_type": "markdown",
   "metadata": {},
   "source": [
    "---\n",
    "### 1.1 - Funciones\n",
    "\n",
    "En Python, la sintaxis para la creación de una función es:\n",
    "\n",
    "```python\n",
    "def nombre():\n",
    "    <acción de la función>\n",
    "```"
   ]
  },
  {
   "cell_type": "code",
   "execution_count": null,
   "metadata": {},
   "outputs": [],
   "source": []
  },
  {
   "cell_type": "markdown",
   "metadata": {},
   "source": [
    "---\n",
    "### 1.2 - Librerías y métodos\n",
    "\n",
    "Las librerías son...\n",
    "\n",
    "Para llamarlas se utiliza\n",
    "\n",
    "```python\n",
    "import <librería>\n",
    "```\n",
    "\n",
    "donde también se utiliza un \"alias\" es un nombre corto (muy corto, como `np`) para referirse a este por el resto del programa.\n",
    "\n",
    "```python\n",
    "import <librería> as <alias>\n",
    "```\n",
    "\n",
    "Sin embargo en ocasiones no se desea importar toda la librería sino solo algunos componentes o \"módulos\":\n",
    "\n",
    "```python\n",
    "from <librería> import <módulo>\n",
    "```\n"
   ]
  },
  {
   "cell_type": "code",
   "execution_count": null,
   "metadata": {},
   "outputs": [],
   "source": []
  },
  {
   "cell_type": "markdown",
   "metadata": {},
   "source": [
    "#### 1.2.1 - Librería `math`\n",
    "\n",
    "Útiles funciones matemáticas. Hay una gran [variedad](https://docs.python.org/3/library/math.html), entre las que se incluyen:\n",
    "\n",
    "* `math.ceil(x)`: retorna el \"techo\" de `x`, el entero más pequeño mayor o igual que `x`."
   ]
  },
  {
   "cell_type": "code",
   "execution_count": null,
   "metadata": {},
   "outputs": [],
   "source": []
  },
  {
   "cell_type": "markdown",
   "metadata": {},
   "source": [
    "#### 1.2.2 - Librería `random`\n",
    "\n",
    "Útiles funciones matemáticas. Hay una gran [variedad](https://docs.python.org/3/library/random.html), entre las que se incluyen:\n",
    "\n",
    "* `math.ceil(x)`: retorna el \"techo\" de `x`, el entero más pequeño mayor o igual que `x`."
   ]
  },
  {
   "cell_type": "code",
   "execution_count": null,
   "metadata": {},
   "outputs": [],
   "source": []
  },
  {
   "cell_type": "markdown",
   "metadata": {},
   "source": [
    "#### 1.2.3 - Librería `statistics`\n",
    "\n",
    "Útiles funciones matemáticas. Hay una gran [variedad](https://docs.python.org/3/library/math.html), entre las que se incluyen:\n",
    "\n",
    "* `math.ceil(x)`: retorna el \"techo\" de `x`, el entero más pequeño mayor o igual que `x`."
   ]
  },
  {
   "cell_type": "code",
   "execution_count": null,
   "metadata": {},
   "outputs": [],
   "source": []
  },
  {
   "cell_type": "markdown",
   "metadata": {},
   "source": [
    "#### 1.2.4 - Librería `collections`\n",
    "\n",
    "Útiles funciones matemáticas. Hay una gran [variedad](https://docs.python.org/3/library/math.html), entre las que se incluyen:\n",
    "\n",
    "* `math.ceil(x)`: retorna el \"techo\" de `x`, el entero más pequeño mayor o igual que `x`."
   ]
  },
  {
   "cell_type": "code",
   "execution_count": null,
   "metadata": {},
   "outputs": [],
   "source": []
  },
  {
   "cell_type": "markdown",
   "metadata": {},
   "source": [
    "#### 1.2.5 - Librería `csv`\n",
    "\n",
    "Útiles funciones matemáticas. Hay una gran [variedad](https://docs.python.org/3/library/math.html), entre las que se incluyen:\n",
    "\n",
    "* `math.ceil(x)`: retorna el \"techo\" de `x`, el entero más pequeño mayor o igual que `x`."
   ]
  },
  {
   "cell_type": "code",
   "execution_count": null,
   "metadata": {},
   "outputs": [],
   "source": []
  },
  {
   "cell_type": "markdown",
   "metadata": {},
   "source": [
    "#### 1.2.6 - Librería `os`\n",
    "\n",
    "Útiles funciones matemáticas. Hay una gran [variedad](https://docs.python.org/3/library/math.html), entre las que se incluyen:\n",
    "\n",
    "* `math.ceil(x)`: retorna el \"techo\" de `x`, el entero más pequeño mayor o igual que `x`."
   ]
  },
  {
   "cell_type": "code",
   "execution_count": null,
   "metadata": {},
   "outputs": [],
   "source": []
  },
  {
   "cell_type": "markdown",
   "metadata": {},
   "source": [
    "#### 1.2.7 - Otras librerías\n",
    "\n",
    "##### 1.2.7.1 - Librería `datetime`\n",
    "\n",
    "Útiles funciones matemáticas. Hay una gran [variedad](https://docs.python.org/3/library/math.html), entre las que se incluyen:\n",
    "\n",
    "##### 1.2.7.2 - Librería `calendar`"
   ]
  },
  {
   "cell_type": "code",
   "execution_count": null,
   "metadata": {},
   "outputs": [],
   "source": []
  },
  {
   "cell_type": "markdown",
   "metadata": {},
   "source": [
    "---\n",
    "### 1.3 - ¿Cómo crear una librería propia?"
   ]
  },
  {
   "cell_type": "code",
   "execution_count": null,
   "metadata": {},
   "outputs": [],
   "source": []
  },
  {
   "cell_type": "markdown",
   "metadata": {},
   "source": [
    "---\n",
    "### Más información\n",
    "\n",
    "* [Página web](https://www.google.com/)\n",
    "* Libro o algo\n",
    "* Tutorial [w3schools](https://www.w3schools.com/python/)\n",
    "---"
   ]
  },
  {
   "cell_type": "markdown",
   "metadata": {},
   "source": [
    "---\n",
    "\n",
    "**Universidad de Costa Rica**\n",
    "\n",
    "Facultad de Ingeniería\n",
    "\n",
    "Escuela de Ingeniería Eléctrica\n",
    "\n",
    "---"
   ]
  }
 ],
 "metadata": {
  "kernelspec": {
   "display_name": "Python 3",
   "language": "python",
   "name": "python3"
  },
  "language_info": {
   "codemirror_mode": {
    "name": "ipython",
    "version": 3
   },
   "file_extension": ".py",
   "mimetype": "text/x-python",
   "name": "python",
   "nbconvert_exporter": "python",
   "pygments_lexer": "ipython3",
   "version": "3.7.1"
  }
 },
 "nbformat": 4,
 "nbformat_minor": 2
}
