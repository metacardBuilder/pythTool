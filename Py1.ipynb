{
 "cells": [
  {
   "cell_type": "markdown",
   "metadata": {},
   "source": [
    "---\n",
    "### Universidad de Costa Rica\n",
    "#### IE0405 - Modelos Probabilísticos de Señales y Sistemas\n",
    "---\n",
    "\n",
    "# `Py1` - *Funciones y librerías estándar*\n",
    "\n",
    "> Dentro de las librerías estándar de Python hay herramientas útiles para cálculos operaciones numéricas básicas y para el manejo de archivos como los que se van a aplicar en el curso.\n",
    "\n",
    "---\n",
    "---"
   ]
  },
  {
   "cell_type": "markdown",
   "metadata": {},
   "source": [
    "### Librerías y métodos\n",
    "\n",
    "Las librerías son...\n",
    "\n",
    "Para llamarlas se utiliza\n",
    "\n",
    "```\n",
    "import <librería>\n",
    "```\n",
    "\n",
    "donde también se utiliza un \"alias\" es un nombre corto (muy corto, como `np`) para referirse a este por el resto del programa.\n",
    "\n",
    "```\n",
    "import <librería> as <alias>\n",
    "```\n",
    "\n",
    "Sin embargo en ocasiones no se desea importar toda la librería sino solo algunos componentes o \"módulos\":\n",
    "\n",
    "```\n",
    "from <librería> import <módulo>\n",
    "```"
   ]
  },
  {
   "cell_type": "markdown",
   "metadata": {},
   "source": [
    "---\n",
    "### 1.1 - Librerías y métodos\n",
    "\n",
    "En Python, la asignación de...\n"
   ]
  },
  {
   "cell_type": "code",
   "execution_count": null,
   "metadata": {},
   "outputs": [],
   "source": []
  },
  {
   "cell_type": "markdown",
   "metadata": {},
   "source": [
    "---\n",
    "---\n",
    "---\n",
    "\n",
    "**Universidad de Costa Rica**\n",
    "\n",
    "Facultad de Ingeniería\n",
    "\n",
    "Escuela de Ingeniería Eléctrica\n",
    "\n",
    "---"
   ]
  }
 ],
 "metadata": {
  "kernelspec": {
   "display_name": "Python 3",
   "language": "python",
   "name": "python3"
  },
  "language_info": {
   "codemirror_mode": {
    "name": "ipython",
    "version": 3
   },
   "file_extension": ".py",
   "mimetype": "text/x-python",
   "name": "python",
   "nbconvert_exporter": "python",
   "pygments_lexer": "ipython3",
   "version": "3.7.1"
  }
 },
 "nbformat": 4,
 "nbformat_minor": 2
}
