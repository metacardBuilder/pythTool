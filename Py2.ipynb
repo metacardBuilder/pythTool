{
 "cells": [
  {
   "cell_type": "markdown",
   "metadata": {},
   "source": [
    "---\n",
    "### Universidad de Costa Rica\n",
    "#### IE0405 - Modelos Probabilísticos de Señales y Sistemas\n",
    "---\n",
    "\n",
    "# `Py2` - *Librerías de computación científica*\n",
    "\n",
    "> Con librerías externas es posible acceder a poderosas herramientas computacionales que hacen a Python comparable con otros programas de cálculo numérico, como Matlab, R, Mathematica y otros.\n",
    "\n",
    "---"
   ]
  },
  {
   "cell_type": "markdown",
   "metadata": {},
   "source": [
    "## Librerías especializadas\n",
    "\n",
    "Fuera de las librerías de ejemplos anteriores, que pertenecen a [The Python Standard Library](https://docs.python.org/3/library/), otras personas y organizaciones han creado poderosas librerías de aplicación específica. Entre ellas, algunas útiles para el estudio de la probabilidad, la estadística y el análisis de datos, entre otros."
   ]
  },
  {
   "cell_type": "markdown",
   "metadata": {},
   "source": [
    "---\n",
    "## 2.1 - NumPy\n",
    "\n",
    "Según su [página oficial](https://numpy.org/), \n",
    "\n",
    "> NumPy es el paquete fundamental para la computación científica con Python,es una biblioteca de Python utilizada para trabajar con matrices.\n",
    "\n",
    "NumPy generalmente se importa bajo el np alias.\n",
    "\n",
    "alias: en Python los alias son un nombre alternativo para referirse a la misma cosa.\n",
    "\n",
    "\n",
    "\n",
    "**Nota 1**: La función `print()` muestra el resultado...\n",
    "\n",
    "**Nota 2**: Cree un alias con la palabra clave mientras importa: `import numpy as np`"
   ]
  },
  {
   "cell_type": "code",
   "execution_count": 59,
   "metadata": {},
   "outputs": [
    {
     "name": "stdout",
     "output_type": "stream",
     "text": [
      "[1 2 3 4 5]\n"
     ]
    }
   ],
   "source": [
    "import numpy as np\n",
    "\n",
    "arr = np.array([1, 2, 3, 4, 5])\n",
    "\n",
    "print(arr)"
   ]
  },
  {
   "cell_type": "markdown",
   "metadata": {},
   "source": [
    "### Crear un objeto NumPy `ndarray`\n",
    "NumPy se usa para trabajar con matrices. Se llama al objeto de matriz en NumPy `ndarray`.\n",
    "\n",
    "Podemos crear un `ndarray` objeto NumPy utilizando la `array()`función\n",
    "\n",
    "**Nota 1:** `type ()`: esta función incorporada de Python nos dice el tipo de objeto que se le pasó. Al igual que en el código anterior, muestra que `arr` es `numpy.ndarray` tipo."
   ]
  },
  {
   "cell_type": "code",
   "execution_count": 60,
   "metadata": {},
   "outputs": [
    {
     "name": "stdout",
     "output_type": "stream",
     "text": [
      "[1 3 5 7 9]\n",
      "<type 'numpy.ndarray'>\n"
     ]
    }
   ],
   "source": [
    "import numpy as np\n",
    "\n",
    "arr = np.array([1, 3, 5, 7, 9])\n",
    "\n",
    "print(arr)\n",
    "\n",
    "print(type(arr))"
   ]
  },
  {
   "cell_type": "markdown",
   "metadata": {},
   "source": [
    "### Matrices tridimencionales\n",
    "Se pueden crear matrices en 3D, que podrían ser útiles para muchos casos, por ejemplo gracias a esta se puede representar un tensor. \n",
    "\n",
    "**Nota 1:** NumPy Arrays proporciona el `ndim` atributo que devuelve un entero que nos dice cuántas dimensiones tiene la matriz. Es decir, el número de filas de una matriz."
   ]
  },
  {
   "cell_type": "code",
   "execution_count": 61,
   "metadata": {},
   "outputs": [
    {
     "name": "stdout",
     "output_type": "stream",
     "text": [
      "0\n",
      "1\n",
      "2\n",
      "3\n"
     ]
    }
   ],
   "source": [
    "import numpy as np\n",
    "\n",
    "a = np.array(42)\n",
    "b = np.array([1, 2, 3, 4, 5])\n",
    "c = np.array([[7, 7, 7], [6, 6, 6]])\n",
    "d = np.array([[[24, 12, 86], [98, 9, 6]], [[1, 2, 3], [4, 5, 6]]])\n",
    "\n",
    "print(a.ndim)\n",
    "print(b.ndim)\n",
    "print(c.ndim)\n",
    "print(d.ndim)"
   ]
  },
  {
   "cell_type": "markdown",
   "metadata": {},
   "source": [
    "### Acceso a elementos de una matriz\n",
    "La indexación de matriz es lo mismo que acceder a un elemento de matriz.\n",
    "\n",
    "Puede acceder a un elemento de matriz haciendo referencia a su número de índice.\n",
    "\n",
    "Los índices en las matrices NumPy comienzan con 0, lo que significa que el primer elemento tiene índice 0, y el segundo tiene índice 1, etc.\n",
    "\n",
    "En el siguiente ejemplo se desea acceder al tercer elemento de la segunda fila.\n",
    "\n",
    "**Nota 1:** El primer número representa la primera dimensión, que contiene dos matrices, Desde seleccionamos 0, nos quedamos con la primera matriz.\n",
    "\n",
    "**Nota 2:** El segundo número representa la segunda dimensión, que también contiene dos matrices, Como seleccionamos 1, nos queda la segunda matriz.\n",
    "\n",
    "**Nota 3:** El tercer número representa la tercera dimensión, que contiene tres valores, Como seleccionamos 2, terminamos con el tercer valor."
   ]
  },
  {
   "cell_type": "code",
   "execution_count": 62,
   "metadata": {},
   "outputs": [
    {
     "name": "stdout",
     "output_type": "stream",
     "text": [
      "6\n"
     ]
    }
   ],
   "source": [
    "import numpy as np\n",
    "\n",
    "arr = np.array([[[1, 2, 3], [4, 5, 6]], [[7, 8, 9], [10, 11, 12]]])\n",
    "\n",
    "print(arr[0, 1, 2])"
   ]
  },
  {
   "cell_type": "markdown",
   "metadata": {},
   "source": [
    "### Tipos de datos en NumPy\n",
    "NumPy tiene algunos tipos de datos adicionales, y se refiere a los tipos de datos con un carácter, como ienteros, uenteros sin signo, etc.\n",
    "\n",
    "A continuación se muestra una lista de todos los tipos de datos en NumPy y los caracteres utilizados para representarlos.\n",
    "\n",
    "| Símbolo | Tipo |\n",
    "| ------- | ---- |\n",
    "| `i`     | entero     |\n",
    "| `b`        | booleano     |\n",
    "| `u`        | entero sin signo     |\n",
    "| `f`        | flotante     |\n",
    "| `c`        | flotante complejo     |\n",
    "| `m`        | timedelta     |\n",
    "| `M`        | fecha y hora     |\n",
    "| `O`        | objeto     |\n",
    "| `S`        | cadena     |\n",
    "| `U`        | cadena unicode     |\n",
    "| `V`        | fragmento de memoria =     |\n",
    "\n",
    "= fijo para otro tipo (nulo) \n",
    "\n",
    "**Nota 1:** El objeto de matriz NumPy tiene una propiedad llamada `dtype` que devuelve el tipo de datos de la matriz:\n",
    "\n"
   ]
  },
  {
   "cell_type": "code",
   "execution_count": 63,
   "metadata": {},
   "outputs": [
    {
     "name": "stdout",
     "output_type": "stream",
     "text": [
      "int32\n",
      "|S6\n"
     ]
    }
   ],
   "source": [
    "import numpy as np\n",
    "\n",
    "arr1 = np.array([[1, 2, 3, 4], [9, 8, 7, 6]])\n",
    "arr2 = np.array(['apple', 'banana', 'cherry'])\n",
    "\n",
    "print(arr1.dtype)\n",
    "\n",
    "print(arr2.dtype)\n"
   ]
  },
  {
   "cell_type": "markdown",
   "metadata": {},
   "source": [
    "### Conversión de tipo de datos en matrices existentes\n",
    "La mejor manera de cambiar el tipo de datos de una matriz existente es hacer una copia de la matriz con el `astype()` método.\n",
    "\n",
    "La `astype()` función crea una copia de la matriz y le permite especificar el tipo de datos como parámetro.\n",
    "\n",
    "El tipo de datos se puede especificar usando una cadena, como `'f'`para flotante, `'i'`para entero, etc. o puede usar el tipo de datos directamente como `float`para flotante y intpara entero.\n",
    "\n",
    "**Nota1:** Para el ejemplo cambie el tipo de datos de flotante a entero utilizando `int` como valor de parámetro\n"
   ]
  },
  {
   "cell_type": "code",
   "execution_count": 64,
   "metadata": {},
   "outputs": [
    {
     "name": "stdout",
     "output_type": "stream",
     "text": [
      "[1 2 3]\n",
      "int32\n"
     ]
    }
   ],
   "source": [
    "import numpy as np\n",
    "\n",
    "arr = np.array([1.1, 2.1, 3.1])\n",
    "\n",
    "newarr = arr.astype(int)\n",
    "\n",
    "print(newarr)\n",
    "print(newarr.dtype)"
   ]
  },
  {
   "cell_type": "markdown",
   "metadata": {},
   "source": [
    "### Arreglos iterativos\n",
    "Iterar significa pasar por elementos uno por uno.\n",
    "\n",
    "Como tratamos con matrices multidimensionales en numpy, podemos hacer esto usando el `for` bucle básico de python.\n",
    "\n",
    "**Nota:** En el siguiente ejemplo se debe iterar hasta los escalares: "
   ]
  },
  {
   "cell_type": "code",
   "execution_count": 65,
   "metadata": {},
   "outputs": [
    {
     "name": "stdout",
     "output_type": "stream",
     "text": [
      "1\n",
      "2\n",
      "3\n",
      "4\n",
      "5\n",
      "6\n",
      "7\n",
      "8\n",
      "9\n",
      "10\n",
      "11\n",
      "12\n"
     ]
    }
   ],
   "source": [
    "import numpy as np\n",
    "\n",
    "arr = np.array([[[1, 2, 3], [4, 5, 6]], [[7, 8, 9], [10, 11, 12]]])\n",
    "\n",
    "for x in arr:\n",
    "    for y in x:\n",
    "        for z in y:\n",
    "              print(z)\n",
    "    "
   ]
  },
  {
   "cell_type": "markdown",
   "metadata": {},
   "source": [
    "---\n",
    "## 2.2 - SciPy\n",
    "\n",
    "Según su [página oficial](https://www.scipy.org/), \n",
    "\n",
    "> SciPy es un ecosistema de software de código abierto basado en Python para matemáticas, ciencias e ingeniería.\n",
    "\n",
    "Y son parte de este ecosistema, de hecho, NumPy, Matplotlib y Pandas, que estudiaremos por separado.\n",
    "\n",
    "> SciPy se basa en NumPy, y para todas las necesidades básicas de manejo de arreglos puede usar las funciones de NumPy\n",
    "\n",
    "**Nota 1:** En primera instancia se debe importar scipy\n",
    "\n",
    "` from scipy import some_module`\n",
    "\n",
    "` some_module.some_function()`"
   ]
  },
  {
   "cell_type": "markdown",
   "metadata": {
    "collapsed": true
   },
   "source": [
    "### Polinomios\n",
    "Existen dos formas de tratar con polinomios 1-D en SciPy. El primero es usar la `poly1d` clase de NumPy. Esta clase acepta coeficientes o raíces polinómicas para inicializar un polinomio. El objeto polinomial puede manipularse en expresiones algebraicas, integrarse, diferenciarse y evaluarse. Incluso se imprime como un polinomio:\n",
    "\n",
    "La otra forma de manejar polinomios es como una matriz de coeficientes con el primer elemento de la matriz dando el coeficiente de la potencia más alta. Hay funciones explícitas para sumar, restar, multiplicar, dividir, integrar, diferenciar y evaluar polinomios representados como secuencias de coeficientes.\n",
    "\n",
    "**Notas:** En el siguiente ejemplo, se utilizan algunas funciones como integrar y derivar. "
   ]
  },
  {
   "cell_type": "code",
   "execution_count": 66,
   "metadata": {},
   "outputs": [
    {
     "name": "stdout",
     "output_type": "stream",
     "text": [
      "   2\n",
      "3 x + 4 x + 5\n",
      "   4      3      2\n",
      "9 x + 24 x + 46 x + 40 x + 25\n",
      "   3     2\n",
      "1 x + 2 x + 5 x + 6\n",
      " \n",
      "6 x + 4\n"
     ]
    }
   ],
   "source": [
    ">>> from numpy import poly1d\n",
    ">>> p = poly1d([3,4,5])\n",
    ">>> print(p)\n",
    ">>> print(p*p)\n",
    ">>> print(p.integ(k=6))\n",
    ">>> print(p.deriv())\n"
   ]
  },
  {
   "cell_type": "markdown",
   "metadata": {
    "collapsed": true
   },
   "source": [
    "### Funciones de vectorización\n",
    "Una de las características que proporciona NumPy es una clase **vectorize** para convertir una función Python ordinaria que acepta escalares y devuelve escalares en una \"función vectorizada\" con las mismas reglas de transmisión que otras funciones NumPy (es decir, las funciones universales o ufuncs). Por ejemplo, suponga que tiene una función Python denominada `addsubtract` definida como:"
   ]
  },
  {
   "cell_type": "code",
   "execution_count": 67,
   "metadata": {
    "collapsed": true
   },
   "outputs": [],
   "source": [
    ">>> def addsubtract(a,b):\n",
    "...    if a > b:\n",
    "...        return a - b\n",
    "...    else:\n",
    "...        return a + b"
   ]
  },
  {
   "cell_type": "markdown",
   "metadata": {},
   "source": [
    "que define una función de dos variables escalares y devuelve un resultado escalar. La clase vectorize se puede usar para \"vectorizar\" esta función para que"
   ]
  },
  {
   "cell_type": "code",
   "execution_count": 68,
   "metadata": {},
   "outputs": [
    {
     "data": {
      "text/plain": [
       "array([1, 6, 1, 2])"
      ]
     },
     "execution_count": 68,
     "metadata": {},
     "output_type": "execute_result"
    }
   ],
   "source": [
    "import numpy as np\n",
    "vec_addsubtract = np.vectorize(addsubtract)\n",
    "vec_addsubtract([0,3,6,9],[1,3,5,7])\n"
   ]
  },
  {
   "cell_type": "markdown",
   "metadata": {},
   "source": [
    "### Otras funciones útiles\n",
    "También hay varias otras funciones útiles que deben mencionarse. Para hacer el procesamiento de fase, las funciones **angle** y **unwrap** son útiles. Además, las funciones **linspace** y **logspace** devuelven muestras igualmente espaciadas en una escala lineal o logarítmica. Finalmente, es útil estar al tanto de las capacidades de indexación de NumPy. Debe mencionarse la función **select** que amplía la funcionalidad de **where** incluye múltiples condiciones y múltiples opciones. La convención de convocatoria es una forma vectorizada de la declaración múltiple *if*. Permite la construcción rápida de una función que devuelve una serie de resultados basados en una lista de condiciones. \n",
    "\n",
    "Cada elemento de la matriz de retorno se toma de la matriz en un correspondiente a la primera condición en `select(condlist, choicelist, default=0)numpy.selectchoicelistcondlist` eso es verdad. Por ejemplo:"
   ]
  },
  {
   "cell_type": "code",
   "execution_count": 69,
   "metadata": {},
   "outputs": [
    {
     "data": {
      "text/plain": [
       "array([ 0,  1,  2,  0,  0,  0, 36, 49, 64, 81])"
      ]
     },
     "execution_count": 69,
     "metadata": {},
     "output_type": "execute_result"
    }
   ],
   "source": [
    "import numpy as np\n",
    ">>> x = np.arange(10)\n",
    ">>> condlist = [x<3, x>5]\n",
    ">>> choicelist = [x, x**2]\n",
    ">>> np.select(condlist, choicelist)\n"
   ]
  },
  {
   "cell_type": "markdown",
   "metadata": {},
   "source": [
    "### Integración\n",
    "\n",
    "\n",
    "El **scipy.integrate** subpaquete proporciona varias técnicas de integración, incluido un integrador de ecuaciones diferenciales ordinarias. \n",
    "\n",
    "**Nota 1**\n",
    "La función quadse proporciona para integrar una función de una variable entre dos puntos.\n",
    "\n",
    "Si la función para integrar toma parámetros adicionales, se pueden proporcionar en el argumento `args` . \n",
    "\n",
    "Suponga que se calcula la siguiente integral:\n",
    "I(a,b) = int (aX^2 + b) dx, evaluada de 0 a 1."
   ]
  },
  {
   "cell_type": "code",
   "execution_count": 70,
   "metadata": {},
   "outputs": [
    {
     "data": {
      "text/plain": [
       "(1.6666666666666667, 1.8503717077085944e-14)"
      ]
     },
     "execution_count": 70,
     "metadata": {},
     "output_type": "execute_result"
    }
   ],
   "source": [
    ">>> from scipy.integrate import quad\n",
    ">>> def integrand(x, a, b):\n",
    "      return a*x**2 + b\n",
    ">>> a = 2\n",
    ">>> b = 1\n",
    ">>> I = quad(integrand, 0, 1, args=(a,b))\n",
    ">>> I    "
   ]
  },
  {
   "cell_type": "markdown",
   "metadata": {},
   "source": [
    "### Variable aleatoria\n",
    "\n",
    "Hay dos clases de distribución general que se han implementado para encapsular variables aleatorias continuas y variables aleatorias discretas . Se han implementado más de 80 variables aleatorias continuas (RV) y 10 variables aleatorias discretas utilizando estas clases. Además de esto, el usuario final puede agregar fácilmente nuevas rutinas y distribuciones. (Si crea uno, por favor contribuya).\n",
    "\n",
    "Todas las funciones estadísticas se encuentran en el subpaquete **scipy.stats** y se puede obtener una lista bastante completa de estas funciones `info(stats)`. La lista de las variables aleatorias disponibles también se puede obtener de la cadena de documentación para el subpaquete de estadísticas.\n",
    "\n",
    "En la discusión a continuación, nos centramos principalmente en vehículos recreativos continuos. Casi todo también se aplica a variables discretas, pero señalamos algunas diferencias aquí: Puntos específicos para distribuciones discretas .\n",
    "\n",
    "En los ejemplos de código a continuación, asumimos que el **scipy.stats** paquete se importa como\n",
    "\n",
    "**Nota 1:**\n",
    "\n",
    "El siguiente ejemplo se calculará una función de distribución acumulativa se pueden calcular mediante `from scipy import stats` y `from scipy.stats import norm`\n",
    "\n",
    "**Nota 2:**\n",
    "\n",
    "Para el ejemplo dos se calcula una distribución uniforme usando `from scipy.stats import uniform`\n"
   ]
  },
  {
   "cell_type": "code",
   "execution_count": 71,
   "metadata": {},
   "outputs": [
    {
     "data": {
      "text/plain": [
       "array([ 0.15865525,  0.5       ,  0.84134475])"
      ]
     },
     "execution_count": 71,
     "metadata": {},
     "output_type": "execute_result"
    }
   ],
   "source": [
    ">>> import numpy as np\n",
    ">>> from scipy import stats\n",
    ">>> from scipy.stats import norm\n",
    ">>> norm.cdf(np.array([-1., 0, 1]))"
   ]
  },
  {
   "cell_type": "code",
   "execution_count": 72,
   "metadata": {},
   "outputs": [
    {
     "data": {
      "text/plain": [
       "array([ 0.  ,  0.  ,  0.25,  0.5 ,  0.75,  1.  ])"
      ]
     },
     "execution_count": 72,
     "metadata": {},
     "output_type": "execute_result"
    }
   ],
   "source": [
    ">>> from scipy.stats import uniform\n",
    ">>> uniform.cdf([0, 1, 2, 3, 4, 5], loc=1, scale=4)"
   ]
  },
  {
   "cell_type": "markdown",
   "metadata": {},
   "source": [
    "---\n",
    "## 2.3 - Matplotlib\n",
    "\n",
    "Según su [página oficial](https://matplotlib.org/), \n",
    "\n",
    "> Matplotlib es una biblioteca completa para crear visualizaciones estáticas, animadas e interactivas en Python.\n",
    "\n",
    "En esa primera aproximación a Matplotlib, estudiaremos gráficas bidimensionales estáticas.\n",
    "\n",
    "**Nota 1:** Para generar gráficas de funciones se debe utilizar: \n",
    "\n",
    "`import matplotlib.pyplot as plt`\n",
    "\n",
    "`import numpy as np`"
   ]
  },
  {
   "cell_type": "code",
   "execution_count": 2,
   "metadata": {},
   "outputs": [
    {
     "data": {
      "image/png": "[encoded data removed]",
      "text/plain": [
       "<Figure size 432x288 with 1 Axes>"
      ]
     },
     "metadata": {
      "needs_background": "light"
     },
     "output_type": "display_data"
    }
   ],
   "source": [
    "import matplotlib.pyplot as plt\n",
    "from numpy import arange,sin,pi\n",
    "x=arange(0.0,4*pi,0.01)\n",
    "y=sin(x)\n",
    "plt.plot(x,y)\n",
    "plt.grid(axis='both')\n",
    "plt.ylabel('$\\sin(x)$')\n",
    "plt.xlabel('x')\n",
    "plt.show()\n"
   ]
  },
  {
   "cell_type": "code",
   "execution_count": 74,
   "metadata": {},
   "outputs": [
    {
     "data": {
      "image/png": "[encoded data removed]",
      "text/plain": [
       "<matplotlib.figure.Figure at 0xbe1aa10>"
      ]
     },
     "metadata": {},
     "output_type": "display_data"
    }
   ],
   "source": [
    "\n",
    "import numpy as np\n",
    "import matplotlib.pyplot as plt\n",
    "x = np.linspace(0, 2, 100)\n",
    "\n",
    "plt.plot(x, x, label='Lineal')  # Plot some data on the (implicit) axes.\n",
    "plt.plot(x, x**2, label='Cuadrática')  # etc.\n",
    "plt.plot(x, x**3, label='Cúbica')\n",
    "plt.xlabel('x')\n",
    "plt.ylabel('y')\n",
    "plt.title(\"Algunas funciones\")\n",
    "plt.legend()\n",
    "plt.show()"
   ]
  },
  {
   "cell_type": "code",
   "execution_count": 75,
   "metadata": {},
   "outputs": [
    {
     "data": {
      "image/png": "[encoded data removed]",
      "text/plain": [
       "<matplotlib.figure.Figure at 0xce572f0>"
      ]
     },
     "metadata": {},
     "output_type": "display_data"
    }
   ],
   "source": [
    "#se grafica un funcion exponencial\n",
    "import matplotlib.pyplot as plt\n",
    "import numpy as np\n",
    "def f(x):\n",
    "    return np.exp(x)\n",
    "x=np.linspace(0,10,100)\n",
    "plt.plot(x,f(x))\n",
    "plt.show()"
   ]
  },
  {
   "cell_type": "code",
   "execution_count": 76,
   "metadata": {},
   "outputs": [
    {
     "data": {
      "image/png": "[encoded data removed]",
      "text/plain": [
       "<matplotlib.figure.Figure at 0x5461810>"
      ]
     },
     "metadata": {},
     "output_type": "display_data"
    }
   ],
   "source": [
    "#se grafica un funcion logaritmica\n",
    "import matplotlib.pyplot as plt\n",
    "import numpy as np\n",
    "def f(x):\n",
    "    return np.log(x)\n",
    "x=np.linspace(1,10,100)\n",
    "plt.plot(x,f(x))\n",
    "plt.show()"
   ]
  },
  {
   "cell_type": "markdown",
   "metadata": {},
   "source": [
    "### Coordenada de datos\n",
    "Comencemos con la coordenada más utilizada, el sistema de coordenadas de datos . Cada vez que agrega datos a los ejes, Matplotlib actualiza los límites de datos, más comúnmente actualizados con los métodos `set_xlim()` y `set_ylim()`. Por ejemplo, en la figura siguiente, los límites de datos se extienden de 0 a 10 en el eje xy de -1 a 1 en el eje y"
   ]
  },
  {
   "cell_type": "code",
   "execution_count": 77,
   "metadata": {},
   "outputs": [
    {
     "data": {
      "image/png": "[encoded data removed]",
      "text/plain": [
       "<matplotlib.figure.Figure at 0xbfd52f0>"
      ]
     },
     "metadata": {},
     "output_type": "display_data"
    }
   ],
   "source": [
    "import numpy as np\n",
    "import matplotlib.pyplot as plt\n",
    "import matplotlib.patches as mpatches\n",
    "\n",
    "x = np.arange(0, 10, 0.005)\n",
    "y = np.exp(-x/2.) * np.sin(2*np.pi*x)\n",
    "\n",
    "fig, ax = plt.subplots()\n",
    "ax.plot(x, y)\n",
    "ax.set_xlim(0, 10)\n",
    "ax.set_ylim(-1, 1)\n",
    "\n",
    "plt.show()"
   ]
  },
  {
   "cell_type": "markdown",
   "metadata": {},
   "source": [
    "### Transformaciones combinadas\n",
    "\n",
    "Dibujar en espacios de coordenadas combinadas que mezclan ejes con coordenadas de datos es extremadamente útil, por ejemplo, para crear un tramo horizontal que resalta alguna región de los datos y pero se extiende a través del eje x independientemente de los límites de datos, nivel de panorámica o zoom, etc. . de hecho, estas líneas combinadas y vanos son tan útiles, que hemos construido en funciones para que sean fáciles de trama (véase `axhline(), axvline(), axhspan(), axvspan()`) pero con fines didácticos vamos a implementar la extensión horizontal aquí usando una transformación mezclado. Este truco solo funciona para transformaciones separables, como se ve en los sistemas de coordenadas cartesianas normales, pero no en transformaciones inseparables como el `PolarTransform`."
   ]
  },
  {
   "cell_type": "code",
   "execution_count": 78,
   "metadata": {},
   "outputs": [
    {
     "data": {
      "image/png": "[encoded data removed]",
      "text/plain": [
       "<matplotlib.figure.Figure at 0x9343910>"
      ]
     },
     "metadata": {},
     "output_type": "display_data"
    }
   ],
   "source": [
    "import matplotlib.transforms as transforms\n",
    "\n",
    "fig, ax = plt.subplots()\n",
    "x = np.random.randn(1000)\n",
    "\n",
    "ax.hist(x, 30)\n",
    "ax.set_title(r'$\\sigma=1 \\/ \\dots \\/ \\sigma=2$', fontsize=16)\n",
    "\n",
    "# the x coords of this transformation are data, and the\n",
    "# y coord are axes\n",
    "trans = transforms.blended_transform_factory(\n",
    "    ax.transData, ax.transAxes)\n",
    "\n",
    "# highlight the 1..2 stddev region with a span.\n",
    "# We want x to be in data coordinates and y to\n",
    "# span from 0..1 in axes coords\n",
    "rect = mpatches.Rectangle((1, 0), width=1, height=1,\n",
    "                         transform=trans, color='yellow',\n",
    "                         alpha=0.5)\n",
    "\n",
    "ax.add_patch(rect)\n",
    "\n",
    "plt.show()"
   ]
  },
  {
   "cell_type": "markdown",
   "metadata": {},
   "source": [
    "**Nota**\n",
    "\n",
    "Las transformaciones combinadas donde x está en coordenadas de datos e y en coordenadas de ejes es tan útil que tenemos métodos auxiliares para devolver las versiones que Matplotlib usa internamente para dibujar ticks, ticklabels, etc. Los métodos son `matplotlib.axes.Axes.get_xaxis_transform()y matplotlib.axes.Axes.get_yaxis_transform()`. Entonces, en el ejemplo anterior, la llamada a `blended_transform_factory()` se puede reemplazar por `get_xaxis_transform`."
   ]
  },
  {
   "cell_type": "markdown",
   "metadata": {},
   "source": [
    "---\n",
    "### Más información\n",
    "\n",
    "* [Página web](https://www.google.com/)\n",
    "* Libro o algo\n",
    "* Tutorial [w3schools](https://www.w3schools.com/python/)\n",
    "---"
   ]
  },
  {
   "cell_type": "markdown",
   "metadata": {},
   "source": [
    "---\n",
    "\n",
    "**Universidad de Costa Rica**\n",
    "\n",
    "Facultad de Ingeniería\n",
    "\n",
    "Escuela de Ingeniería Eléctrica\n",
    "\n",
    "---"
   ]
  }
 ],
 "metadata": {
  "kernelspec": {
   "display_name": "Python 3",
   "language": "python",
   "name": "python3"
  },
  "language_info": {
   "codemirror_mode": {
    "name": "ipython",
    "version": 3
   },
   "file_extension": ".py",
   "mimetype": "text/x-python",
   "name": "python",
   "nbconvert_exporter": "python",
   "pygments_lexer": "ipython3",
   "version": "3.7.1"
  }
 },
 "nbformat": 4,
 "nbformat_minor": 2
}
