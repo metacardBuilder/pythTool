{
 "cells": [
  {
   "cell_type": "markdown",
   "metadata": {},
   "source": [
    "---\n",
    "### Universidad de Costa Rica\n",
    "#### IE0405 - Modelos Probabilísticos de Señales y Sistemas\n",
    "---\n",
    "\n",
    "# `Py2` - *Librerías de computación científica*\n",
    "\n",
    "> Con librerías externas es posible acceder a poderosas herramientas computacionales que hacen a Python comparable con otros programas de cálculo numérico, como Matlab, R, Mathematica y otros.\n",
    "\n",
    "---"
   ]
  },
  {
   "cell_type": "markdown",
   "metadata": {},
   "source": [
    "## Librerías especializadas\n",
    "\n",
    "Fuera de las librerías de ejemplos anteriores, que pertenecen a [The Python Standard Library](https://docs.python.org/3/library/), otras personas y organizaciones han creado poderosas librerías de aplicación específica. Entre ellas, algunas útiles para el estudio de la probabilidad, la estadística y el análisis de datos, entre otros."
   ]
  },
  {
   "cell_type": "markdown",
   "metadata": {},
   "source": [
    "---\n",
    "## 2.1 - NumPy\n",
    "\n",
    "Según su [página oficial](https://numpy.org/), \n",
    "\n",
    "> NumPy es el paquete fundamental para la computación científica con Python.\n",
    "\n",
    "Y entonces, y luego, y después y taca\n",
    "\n",
    "**Nota 1**: La función `print()` muestra el resultado...\n",
    "\n",
    "**Nota 2**: Los comentarios en el código fuente..."
   ]
  },
  {
   "cell_type": "code",
   "execution_count": null,
   "metadata": {},
   "outputs": [],
   "source": []
  },
  {
   "cell_type": "markdown",
   "metadata": {},
   "source": [
    "---\n",
    "## 2.2 - SciPy\n",
    "\n",
    "Según su [página oficial](https://www.scipy.org/), \n",
    "\n",
    "> SciPy es un ecosistema de software de código abierto basado en Python para matemáticas, ciencias e ingeniería.\n",
    "\n",
    "Y son parte de este ecosistema, de hecho, NumPy, Matplotlib y Pandas, que estudiaremos por separado.\n",
    "\n",
    "> En un lugar de La Mancha, de cuyo nombre no quiero acordarme, no ha mucho tiempo que vivía un caballero de los de adarga antigua, rocín flaco, lanza en astillero y galgo corredor. (*Miguel de Cervantes Saavedra*, **El ingenioso hidalgo don Quijote de La Mancha**)"
   ]
  },
  {
   "cell_type": "code",
   "execution_count": null,
   "metadata": {},
   "outputs": [],
   "source": []
  },
  {
   "cell_type": "markdown",
   "metadata": {},
   "source": [
    "---\n",
    "## 2.3 - Matplotlib\n",
    "\n",
    "Según su [página oficial](https://matplotlib.org/), \n",
    "\n",
    "> Matplotlib es una biblioteca completa para crear visualizaciones estáticas, animadas e interactivas en Python.\n",
    "\n",
    "En esa primera aproximación a Matplotlib, estudiaremos gráficas bidimensionales estáticas."
   ]
  },
  {
   "cell_type": "code",
   "execution_count": null,
   "metadata": {},
   "outputs": [],
   "source": []
  },
  {
   "cell_type": "markdown",
   "metadata": {},
   "source": [
    "---\n",
    "### Más información\n",
    "\n",
    "* [Página web](https://www.google.com/)\n",
    "* Libro o algo\n",
    "* Tutorial [w3schools](https://www.w3schools.com/python/)\n",
    "---"
   ]
  },
  {
   "cell_type": "markdown",
   "metadata": {},
   "source": [
    "---\n",
    "\n",
    "**Universidad de Costa Rica**\n",
    "\n",
    "Facultad de Ingeniería\n",
    "\n",
    "Escuela de Ingeniería Eléctrica\n",
    "\n",
    "---"
   ]
  }
 ],
 "metadata": {
  "kernelspec": {
   "display_name": "Python 3",
   "language": "python",
   "name": "python3"
  },
  "language_info": {
   "codemirror_mode": {
    "name": "ipython",
    "version": 3
   },
   "file_extension": ".py",
   "mimetype": "text/x-python",
   "name": "python",
   "nbconvert_exporter": "python",
   "pygments_lexer": "ipython3",
   "version": "3.7.1"
  }
 },
 "nbformat": 4,
 "nbformat_minor": 2
}
