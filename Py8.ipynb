{
 "cells": [
  {
   "cell_type": "markdown",
   "metadata": {},
   "source": [
    "---\n",
    "### Universidad de Costa Rica\n",
    "#### IE0405 - Modelos Probabilísticos de Señales y Sistemas\n",
    "---\n",
    "\n",
    "# `Py8` - *Simulaciones aleatorias*\n",
    "\n",
    "> Conocidas como **simulaciones de Monte Carlo**, las simulaciones o experimentos aleatorios repiten una acción utilizando datos aleatorios para analizar sus resultados. El objetivo es conocer el comportamiento de un fenómeno o sistema para el cual se conoce el modelo de probabilidad de sus entradas y el modelo propio.\n",
    "\n",
    "---"
   ]
  },
  {
   "cell_type": "markdown",
   "metadata": {},
   "source": [
    "## Introducción\n",
    "\n",
    "Taca taca..."
   ]
  },
  {
   "cell_type": "markdown",
   "metadata": {},
   "source": [
    "---\n",
    "## 8.1 - Simulaciones aleatorias aplicadas a transformaciones de variables aleatorias\n",
    "\n",
    "Aun sin conocer una expresión para la función de densidad $f_Y(y)$ de una variable aleatoria $Y$ producto de una transformación $Y = T(X)$, es posible conocer el efecto que tiene esta transformación sobre una muestra de datos aleatorios con una distribución de probabilidad $X$ conocida.\n",
    "\n",
    "### Ejemplo de una distribución normal con una transformación cuadrática\n",
    "\n",
    "A una distribución $X \\sim \\mathcal{N}(0, 0.7737)$ se aplica una transformación $Y = X^2$. Es útil visualizar los dos conjuntos de datos."
   ]
  },
  {
   "cell_type": "code",
   "execution_count": 2,
   "metadata": {},
   "outputs": [
    {
     "data": {
      "image/png": "[encoded data removed]",
      "text/plain": [
       "<Figure size 432x288 with 1 Axes>"
      ]
     },
     "metadata": {
      "needs_background": "light"
     },
     "output_type": "display_data"
    },
    {
     "data": {
      "image/png": "[encoded data removed]",
      "text/plain": [
       "<Figure size 432x288 with 1 Axes>"
      ]
     },
     "metadata": {
      "needs_background": "light"
     },
     "output_type": "display_data"
    }
   ],
   "source": [
    "import numpy as np\n",
    "from scipy import stats\n",
    "import matplotlib.pyplot as plt\n",
    "import csv\n",
    "\n",
    "# Repeticiones\n",
    "N = 500\n",
    "\n",
    "# Distribución de X\n",
    "Xva = stats.truncnorm(-2,2)\n",
    "\n",
    "# Muestra de N valores aleatorios\n",
    "X = Xva.rvs(N)\n",
    "\n",
    "# Función aplicada sobre X\n",
    "Y = X**2\n",
    "\n",
    "# Crear histograma de X\n",
    "a,b,c = plt.hist(X,20)\n",
    "plt.show()\n",
    "\n",
    "# Crear histograma de Y\n",
    "a,b,c = plt.hist(Y,20)\n",
    "plt.show()"
   ]
  },
  {
   "cell_type": "markdown",
   "metadata": {},
   "source": [
    "### Ejemplo de (alguna distribución) con (una transformación)\n",
    "\n",
    "(Hacer otros ejemplos similares al anterior, con otras distribuciones. Colocar además sobre el histograma de la transformación el pdf de la función encontrada vía analítica)"
   ]
  },
  {
   "cell_type": "code",
   "execution_count": 4,
   "metadata": {},
   "outputs": [
    {
     "data": {
      "text/plain": [
       "0.7737413035499232"
      ]
     },
     "execution_count": 4,
     "metadata": {},
     "output_type": "execute_result"
    }
   ],
   "source": [
    "Xva.var()"
   ]
  },
  {
   "cell_type": "markdown",
   "metadata": {},
   "source": [
    "---\n",
    "## 8.2 - Ejemplo del canal de comunicaciones\n",
    "\n",
    "(La diferencia aquí es que hay que utilizar un `for` para hacer una operación varias veces)\n",
    "\n",
    "Mencionar el ruido **AWGN** (*additive white Gaussian noise*)"
   ]
  },
  {
   "cell_type": "code",
   "execution_count": null,
   "metadata": {},
   "outputs": [],
   "source": [
    "\n",
    "# Número de bits\n",
    "B = 1000\n",
    "\n",
    "# Niveles de ruido (varianza de la gaussiana)\n",
    "N = range(10)\n",
    "\n",
    "# Generar bits aleatorios\n",
    "\n",
    "# Con un for, agregar ruido AWGN a cada bit\n",
    "\n",
    "# \"Recibir\" los bits y \"decidir\" si es 1 o 0\n",
    "\n",
    "# Comparar con los bits originales y contar errores\n",
    "\n",
    "# Crear gráfica"
   ]
  },
  {
   "cell_type": "markdown",
   "metadata": {},
   "source": [
    "## 8.3 - Ejemplo de la aproximación del número $\\pi$\n",
    "\n",
    "Para incluir en reportes, es útil... "
   ]
  },
  {
   "cell_type": "code",
   "execution_count": null,
   "metadata": {},
   "outputs": [],
   "source": []
  },
  {
   "cell_type": "markdown",
   "metadata": {},
   "source": [
    "---\n",
    "### Más información\n",
    "\n",
    "* [Página web](https://www.google.com/)\n",
    "* Libro o algo\n",
    "* Tutorial [w3schools](https://www.w3schools.com/python/)\n",
    "---"
   ]
  },
  {
   "cell_type": "markdown",
   "metadata": {},
   "source": [
    "---\n",
    "\n",
    "**Universidad de Costa Rica**\n",
    "\n",
    "Facultad de Ingeniería\n",
    "\n",
    "Escuela de Ingeniería Eléctrica\n",
    "\n",
    "---"
   ]
  }
 ],
 "metadata": {
  "kernelspec": {
   "display_name": "Python 3",
   "language": "python",
   "name": "python3"
  },
  "language_info": {
   "codemirror_mode": {
    "name": "ipython",
    "version": 3
   },
   "file_extension": ".py",
   "mimetype": "text/x-python",
   "name": "python",
   "nbconvert_exporter": "python",
   "pygments_lexer": "ipython3",
   "version": "3.7.1"
  }
 },
 "nbformat": 4,
 "nbformat_minor": 2
}
