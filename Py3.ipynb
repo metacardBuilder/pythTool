{
 "cells": [
  {
   "cell_type": "markdown",
   "metadata": {},
   "source": [
    "---\n",
    "\n",
    "**Universidad de Costa Rica**\\\n",
    "Escuela de Ingeniería Eléctrica\\\n",
    "*IE0405 - Modelos Probabilísticos de Señales y Sistemas*\n",
    "\n",
    "### `PyX` - Serie de tutoriales de Python para el análisis de datos\n",
    "\n",
    "\n",
    "# `Py3` - *Librería de manipulación y análisis de datos Pandas*\n",
    "\n",
    "> **Pandas** es una útil y popular librería de manipulación de datos que ofrece estructuras de datos para el análisis de tablas numéricas y series de tiempo. Esta es una introducción al objeto `DataFrame` y otras características básicas.\n",
    "\n",
    "*Fabián Abarca Calderón* \\\n",
    "*Jonathan Rojas Sibaja*\n",
    "\n",
    "---"
   ]
  },
  {
   "cell_type": "markdown",
   "metadata": {},
   "source": [
    "## Librería Pandas\n",
    "\n",
    "Para trabajar con una gran cantidad de datos, es deseable un conjunto de herramientas que nos permitan efectuar operaciones comunes de forma intuitiva y eficiente. Pandas, es la solución por defecto para hacerlo en Python, y es parte del ecosistema de SciPy. Viene instalado con Anaconda.\n",
    "\n",
    "**Nota 0**: La documentación oficial está en [https://pandas.pydata.org/docs/](https://pandas.pydata.org/docs/).\n",
    "\n",
    "Esta guía está basada en \"[10 minutes to pandas](https://pandas.pydata.org/docs/getting_started/10min.html)\".\n",
    "\n",
    "**Nota 1**: Para toda esta guía se hará la siguiente importación de librerías.\n",
    "\n",
    "**Nota 2**: Por convención, el *alias* de Pandas es `pd`."
   ]
  },
  {
   "cell_type": "code",
   "execution_count": null,
   "metadata": {},
   "outputs": [],
   "source": [
    "import numpy as np\n",
    "import pandas as pd\n",
    "import datetime"
   ]
  },
  {
   "cell_type": "markdown",
   "metadata": {},
   "source": [
    "---\n",
    "## 3.1. - `Series`\n",
    "\n",
    "En Python, las `Series` corresponden a un arreglo de **una** dimensión que admite diversos tipos de datos (números enteros, palabras, números flotantes, objetos de Python, etc.) y que además están etiquetados mediante un índice que el usuario puede definir o permitir que Python lo cree por defecto. \n",
    "\n",
    "Para crear listas o `Series` de valores se utiliza la siguiente sintaxis, según la [documentación](https://pandas.pydata.org/docs/reference/api/pandas.Series.html):\n",
    "\n",
    "```python\n",
    "pandas.Series(data=None, index=None, \n",
    "              dtype=None, name=None, copy=False, fastpath=False)\n",
    "```\n",
    "\n",
    "donde `data` es una secuencia iterable, como una lista, tupla o diccionario. El siguiente ejemplo tiene indexado automático."
   ]
  },
  {
   "cell_type": "code",
   "execution_count": null,
   "metadata": {},
   "outputs": [],
   "source": [
    "s = pd.Series([1, 3, 5, np.nan, \"modelos\", 8.5])\n",
    "print(s)"
   ]
  },
  {
   "cell_type": "markdown",
   "metadata": {},
   "source": [
    "Utilizado el comando de NumPy `random.randn` es posible generar datos aleatorios para la lista. También es posible agregar índices distintos a los numéricos, utilizando el argumento `index` y una lista de índice del mismo tamaño que los datos."
   ]
  },
  {
   "cell_type": "code",
   "execution_count": null,
   "metadata": {},
   "outputs": [],
   "source": [
    "s = pd.Series(np.random.randn(5), index=['a', 'b', 'c', 'd', 'e'])\n",
    "print(s)\n",
    "\n",
    "p = pd.Series([1, '!', 5, '?', \"hola\", 13], index=[6, 5, 4, 3, 2, 1])\n",
    "print(p)\n",
    "\n",
    "q = pd.Series(range(5), index=['a', 'b', 'c', 'd', 'e'])\n",
    "print(q)"
   ]
  },
  {
   "cell_type": "markdown",
   "metadata": {},
   "source": [
    "Una vez creada la `Serie` se pueden ejecutar operaciones vectoriales con la misma o agregar otros atributos, como un nombre."
   ]
  },
  {
   "cell_type": "code",
   "execution_count": null,
   "metadata": {},
   "outputs": [],
   "source": [
    "d = pd.Series(q + q, name='suma')\n",
    "print(d)\n",
    "\n",
    "e = pd.Series(q**2, name='potencia')\n",
    "print(e)"
   ]
  },
  {
   "cell_type": "markdown",
   "metadata": {},
   "source": [
    "---\n",
    "## 3.2. - `DataFrame`\n",
    "\n",
    "En Pandas, un `DataFrame` corresponde a un arreglo de **dos dimensiones**, etiquetado, semejante a concatenar varias `Series`. También admite varios tipos de datos. \n",
    "\n",
    "> Un `DataFrame` tiene una funcionalidad equivalente a una hoja de cálculo o una tabla SQL y permite manipular datos de forma versátil y eficiente. \n",
    "\n",
    "La sintaxis de un `DataFrame`, según la [documentación](https://pandas.pydata.org/docs/reference/api/pandas.DataFrame.html), es:\n",
    "\n",
    "```python\n",
    "pandas.DataFrame(data=None, index=None, \n",
    "                 columns=None, dtype=None, copy=None)\n",
    "```\n",
    "\n",
    "La asignación de las etiquetas puede ser decidida por el usuario y Python hará coincidir los valores, en caso de diferencias en los tamaños de las listas agregadas, rellenará esos espacios siguiendo reglas de sentido común. \n",
    "\n",
    "A continuación un ejemplo de dos `Series` de diferentes tamaños. Observar las diferencias en el orden de los índices."
   ]
  },
  {
   "cell_type": "code",
   "execution_count": null,
   "metadata": {},
   "outputs": [],
   "source": [
    "# Creación de un diccionario con las series indexadas\n",
    "d = {'esta': pd.Series([1., 2., 3.], index=['a', 'b', 'c']),\n",
    "     'otra': pd.Series([1., 2., 3., 4.], index=['c', 'a', 'd', 'b'])}\n",
    "\n",
    "# Creación del DataFrame a partir del diccionario\n",
    "df = pd.DataFrame(d)\n",
    "\n",
    "df"
   ]
  },
  {
   "cell_type": "markdown",
   "metadata": {},
   "source": [
    "Estos indices también pueden indicar una estampa de tiempo (*timestamp*), tal como se muestra en el siguiente ejemplo:"
   ]
  },
  {
   "cell_type": "code",
   "execution_count": null,
   "metadata": {},
   "outputs": [],
   "source": [
    "# Creación de un rango de fechas\n",
    "fechas = pd.date_range('20200101', periods=6)\n",
    "\n",
    "# Creación de un DataFrame con las fechas como índices\n",
    "df = pd.DataFrame(np.random.randn(6, 4), index=fechas, columns=list('ABCD'))\n",
    "\n",
    "df    "
   ]
  },
  {
   "cell_type": "markdown",
   "metadata": {},
   "source": [
    "##### `DataFrame` con distintos tipos de datos\n",
    "\n",
    "Como en las `Series`, los `DataFrame` pueden utilizar diferentes tipos de datos en cada columna y asignarse como diccionarios."
   ]
  },
  {
   "cell_type": "code",
   "execution_count": null,
   "metadata": {},
   "outputs": [],
   "source": [
    "df = pd.DataFrame({'A': 1.,\n",
    "                   'B': pd.Timestamp('20200101'),\n",
    "                   'C': pd.Series(1, index=list(range(4))),\n",
    "                   'D': np.array([3] * 4, dtype='int32'),\n",
    "                   'E': pd.Categorical(['norte', 'sur', 'este', 'oeste']),\n",
    "                   'F': 'hola'\n",
    "                  })\n",
    "\n",
    "df"
   ]
  },
  {
   "cell_type": "markdown",
   "metadata": {},
   "source": [
    "Una vez incializado el `DataFrame`, se pueden ejecutar acciones como extraer, eliminar e insertar columnas, con una sintaxis similar a la de los [diccionarios](https://www.w3schools.com/python/python_dictionaries.asp)."
   ]
  },
  {
   "cell_type": "code",
   "execution_count": null,
   "metadata": {},
   "outputs": [],
   "source": [
    "# Extraer una columna\n",
    "df['E']"
   ]
  },
  {
   "cell_type": "code",
   "execution_count": null,
   "metadata": {},
   "outputs": [],
   "source": [
    "# Eliminar columna 'F'\n",
    "del df['F']\n",
    "\n",
    "# Mostrar nuevo DataFrame sin columna 'F'\n",
    "df"
   ]
  },
  {
   "cell_type": "code",
   "execution_count": null,
   "metadata": {},
   "outputs": [],
   "source": [
    "# Asignar nuevos datos a la columna 'A'\n",
    "df['A'] = pd.Series(np.random.randn(4), index=list(range(4)))\n",
    "\n",
    "df"
   ]
  },
  {
   "cell_type": "code",
   "execution_count": null,
   "metadata": {},
   "outputs": [],
   "source": [
    "# Crear nueva columna 'A+' y agregar valores según criterio\n",
    "df['A+'] = df['A'] > 0\n",
    "\n",
    "# Mostrar nuevo DataFrame\n",
    "df"
   ]
  },
  {
   "cell_type": "markdown",
   "metadata": {},
   "source": [
    "---\n",
    "## 3.3. - Visualizar datos\n",
    "\n",
    "Es posible (y útil) \"echar un vistazo\" a los primeros y últimos datos. Por ejemplo, del `DataFrame` llamado `df` se pueden ver las primeras **N** filas de datos con el comando `head`."
   ]
  },
  {
   "cell_type": "code",
   "execution_count": null,
   "metadata": {},
   "outputs": [],
   "source": [
    "df.head(2)"
   ]
  },
  {
   "cell_type": "markdown",
   "metadata": {},
   "source": [
    "Si solamente se desea visualizar las útimas tres líneas se utiliza el comando `tail`:"
   ]
  },
  {
   "cell_type": "code",
   "execution_count": null,
   "metadata": {},
   "outputs": [],
   "source": [
    "df.tail(3)"
   ]
  },
  {
   "cell_type": "markdown",
   "metadata": {},
   "source": [
    "Para visualizar los índices, se utiliza:"
   ]
  },
  {
   "cell_type": "code",
   "execution_count": null,
   "metadata": {},
   "outputs": [],
   "source": [
    "df.index"
   ]
  },
  {
   "cell_type": "markdown",
   "metadata": {},
   "source": [
    "##### Convertir a NumPy\n",
    "\n",
    "Cuando sea deseable, se puede transformar el `DataFrame` a NumPy."
   ]
  },
  {
   "cell_type": "code",
   "execution_count": null,
   "metadata": {},
   "outputs": [],
   "source": [
    "df.to_numpy()"
   ]
  },
  {
   "cell_type": "markdown",
   "metadata": {},
   "source": [
    "Lo anterior tanto si el `DataFrame` tiene un solo tipo o diversos tipos de datos."
   ]
  },
  {
   "cell_type": "markdown",
   "metadata": {},
   "source": [
    "##### Manipulación para `DataFrame` de un solo tipo de datos\n",
    "\n",
    "Sin embargo, si todos los elementos son del mismo tipo, se pueden ejecutar más funciones de análisis y manipulación."
   ]
  },
  {
   "cell_type": "code",
   "execution_count": null,
   "metadata": {},
   "outputs": [],
   "source": [
    "df_num = pd.DataFrame(np.random.randn(6, 4), columns=list(\"ABCD\"), index=['a', 'b', 'c', 'd', 'e', 'f'])\n",
    "\n",
    "df_num"
   ]
  },
  {
   "cell_type": "markdown",
   "metadata": {},
   "source": [
    "Es posible obtener una descripción de las principales características estadísticas de cada columna, en este caso el conteo de elementos, la media, la desviación estándar, el valor mínimo, el primer, segundo y tercer cuartil, y el valor máximo."
   ]
  },
  {
   "cell_type": "code",
   "execution_count": null,
   "metadata": {},
   "outputs": [],
   "source": [
    "df_num.describe()"
   ]
  },
  {
   "cell_type": "markdown",
   "metadata": {},
   "source": [
    "O también reordenar los datos con alguna columna de referencia:"
   ]
  },
  {
   "cell_type": "code",
   "execution_count": null,
   "metadata": {},
   "outputs": [],
   "source": [
    "df_num.sort_values(by='B')"
   ]
  },
  {
   "cell_type": "markdown",
   "metadata": {},
   "source": [
    "---\n",
    "## 3.4. - Seleccionar datos\n",
    "\n",
    "En Python, la selección (o búsqueda) de datos utilizando Pandas es más eficiente que las expresiones para seleccionar y obtener datos en NumPy. Por ejemplo, para ubicar una **fila** de datos, se puede utilizar el comando  `loc`, que tiene muchas opciones para buscar índices, según la [documentación](https://pandas.pydata.org/docs/reference/api/pandas.DataFrame.loc.html):"
   ]
  },
  {
   "cell_type": "code",
   "execution_count": null,
   "metadata": {},
   "outputs": [],
   "source": [
    "df.loc[2]"
   ]
  },
  {
   "cell_type": "markdown",
   "metadata": {},
   "source": [
    "También se pueden seleccionar un rango de columnas al mismo tiempo:"
   ]
  },
  {
   "cell_type": "code",
   "execution_count": null,
   "metadata": {},
   "outputs": [],
   "source": [
    "df[0:3]"
   ]
  },
  {
   "cell_type": "markdown",
   "metadata": {},
   "source": [
    "Para obtener una posición en específico, se debe indicar la fila y la columna mediante el comando `at`:"
   ]
  },
  {
   "cell_type": "code",
   "execution_count": null,
   "metadata": {},
   "outputs": [],
   "source": [
    "df.at[2, 'E']"
   ]
  },
  {
   "cell_type": "markdown",
   "metadata": {},
   "source": [
    "Se puede ubicar ese mismo elemento por medio de la posición y no los índices, utilizando el comando `iloc`:"
   ]
  },
  {
   "cell_type": "code",
   "execution_count": null,
   "metadata": {},
   "outputs": [],
   "source": [
    "df.iloc[2, 4]"
   ]
  },
  {
   "cell_type": "markdown",
   "metadata": {},
   "source": [
    "Se pueden ubicar los datos que cumplan con cierta condición booleana:"
   ]
  },
  {
   "cell_type": "code",
   "execution_count": null,
   "metadata": {},
   "outputs": [],
   "source": [
    "df[df['A'] > 0]"
   ]
  },
  {
   "cell_type": "markdown",
   "metadata": {},
   "source": [
    "---\n",
    "## 3.5. - Operaciones sobre datos\n",
    "\n",
    "En Python, las operaciones se ejecutan sobre todos los datos arrojando el valor de salida por filas o columnas, por ejemplo para calcular la media estadística de los datos de cada columna, se utiliza el comando `mean` de la siguiente manera:"
   ]
  },
  {
   "cell_type": "code",
   "execution_count": null,
   "metadata": {},
   "outputs": [],
   "source": [
    "df_num.mean()"
   ]
  },
  {
   "cell_type": "markdown",
   "metadata": {},
   "source": [
    "Si en cambio se desea conocer la media de los valores por filas, se utiliza la siguiente variación:"
   ]
  },
  {
   "cell_type": "code",
   "execution_count": null,
   "metadata": {},
   "outputs": [],
   "source": [
    "df_num.mean(1)"
   ]
  },
  {
   "cell_type": "markdown",
   "metadata": {},
   "source": [
    "Para la siguiente serie de ejemplo:"
   ]
  },
  {
   "cell_type": "code",
   "execution_count": null,
   "metadata": {},
   "outputs": [],
   "source": [
    "serie = pd.Series(np.random.randint(0, 6, size=10))\n",
    "serie"
   ]
  },
  {
   "cell_type": "markdown",
   "metadata": {},
   "source": [
    "También se pueden aplicar operaciones tales como el conteo (o \"apariciones de cada uno\") sobre `Series` o `DataFrame`, y devuelve un resultado clasificado de mayor a menor número de ocurrencias."
   ]
  },
  {
   "cell_type": "code",
   "execution_count": null,
   "metadata": {},
   "outputs": [],
   "source": [
    "serie.value_counts()"
   ]
  },
  {
   "cell_type": "code",
   "execution_count": null,
   "metadata": {},
   "outputs": [],
   "source": [
    "df.value_counts(df['A+'])"
   ]
  },
  {
   "cell_type": "markdown",
   "metadata": {},
   "source": [
    "##### Operaciones sobre caracteres\n",
    "\n",
    "También existen operaciones que se pueden aplicar sobre `Series` de palabras:"
   ]
  },
  {
   "cell_type": "code",
   "execution_count": null,
   "metadata": {},
   "outputs": [],
   "source": [
    "g = pd.Series(['ÁRbOL', 'BLanCO', 'AvE', 'BuRRo', np.nan])\n",
    "\n",
    "print(g)\n",
    "print(g.str.lower())"
   ]
  },
  {
   "cell_type": "markdown",
   "metadata": {},
   "source": [
    "---\n",
    "## 3.6. - Fusionar datos\n",
    "\n",
    "En Pandas, para concatenar datos se utiliza el comando `concat()` de la siguiente forma:"
   ]
  },
  {
   "cell_type": "code",
   "execution_count": null,
   "metadata": {},
   "outputs": [],
   "source": [
    "# Crear DataFrame de ejemplo\n",
    "df_a = pd.DataFrame(np.random.randn(10,2))\n",
    "df_b = pd.DataFrame(np.random.randn(10,2))\n",
    "\n",
    "# Extraer fragmentos y concatenarlos\n",
    "fragmentos = [df_a[:], df_b[:]]\n",
    "pd.concat(fragmentos)"
   ]
  },
  {
   "cell_type": "markdown",
   "metadata": {},
   "source": [
    "**Nota**: Observar que es necesario extraer los fragmentos primero porque no se pueden concatenar `DataFrame` directamente."
   ]
  },
  {
   "cell_type": "markdown",
   "metadata": {},
   "source": [
    "---\n",
    "## 3.7. - Agrupar datos\n",
    "\n",
    "En Pandar, \"agrupar\" se refiere a:\n",
    "\n",
    "- Separar los datos en grupos basándose en un criterio.\n",
    "- Aplicar una función a cada grupo independientemente.\n",
    "- Combinar los resultados en una estructura de datos.\n",
    "\n",
    "A continuación hay un ejemplo de agrupación aplicando una suma a las columnas numéricas asociadas por cierto criterio:"
   ]
  },
  {
   "cell_type": "code",
   "execution_count": null,
   "metadata": {},
   "outputs": [],
   "source": [
    "df_foo = pd.DataFrame({'A': ['foo', 'bar', 'foo', 'bar', 'foo'],\n",
    "                       'B': ['uno', 'dos', 'dos', 'tres', 'dos'],\n",
    "                       'C': np.random.randn(5),\n",
    "                       'D': np.random.randn(5)})\n",
    "df_foo"
   ]
  },
  {
   "cell_type": "markdown",
   "metadata": {},
   "source": [
    "El siguiente resultado agrupa las filas según los elementos en `A` y suma los resultados de las columnas no categóricas (es decir, numéricas), que en este caso son `C` y `D`."
   ]
  },
  {
   "cell_type": "code",
   "execution_count": null,
   "metadata": {},
   "outputs": [],
   "source": [
    "df_foo.groupby('A').sum()"
   ]
  },
  {
   "cell_type": "markdown",
   "metadata": {},
   "source": [
    "El siguiente resultado agrupa primero por `A` y luego por `B`, para finalmente sumar las columnas `C` y `D` asociadas."
   ]
  },
  {
   "cell_type": "code",
   "execution_count": null,
   "metadata": {},
   "outputs": [],
   "source": [
    "df_foo.groupby(['A', 'B']).sum()"
   ]
  },
  {
   "cell_type": "markdown",
   "metadata": {},
   "source": [
    "---\n",
    "## 3.8. - Reacomodar datos\n",
    "\n",
    "En Pandas, una forma de reacomodar los datos es mediante el comando `stack`:"
   ]
  },
  {
   "cell_type": "code",
   "execution_count": null,
   "metadata": {},
   "outputs": [],
   "source": [
    "pila = df.stack()\n",
    "\n",
    "pila"
   ]
  },
  {
   "cell_type": "markdown",
   "metadata": {},
   "source": [
    "También se puede cambiar la forma de ordenar los datos como tablas de pivot:"
   ]
  },
  {
   "cell_type": "code",
   "execution_count": null,
   "metadata": {},
   "outputs": [],
   "source": [
    "df_piv = pd.DataFrame({'A': ['uno', 'uno', 'dos', 'tres']*3,\n",
    "                       'B': ['A', 'B', 'C']*4,\n",
    "                       'C': ['foo', 'foo', 'foo', 'bar', 'bar', 'bar']*2,\n",
    "                       'D': np.random.randn(12),\n",
    "                       'E': np.random.randn(12)})\n",
    "df_piv"
   ]
  },
  {
   "cell_type": "markdown",
   "metadata": {},
   "source": [
    "En la siguiente tabla va a sumar los valores en `D` asociados con la agrupación con respecto a `A` y `B`, para cada categoría en `C`. Es una herramienta poderosa."
   ]
  },
  {
   "cell_type": "code",
   "execution_count": null,
   "metadata": {},
   "outputs": [],
   "source": [
    "v = pd.pivot_table(df_piv, values='D', index=['A', 'B'], columns=['C'])\n",
    "v"
   ]
  },
  {
   "cell_type": "code",
   "execution_count": null,
   "metadata": {},
   "outputs": [],
   "source": [
    "# Extraer un elemento\n",
    "\n",
    "v['bar']['dos']['B']"
   ]
  },
  {
   "cell_type": "markdown",
   "metadata": {},
   "source": [
    "---\n",
    "## 3.9. - Series de tiempo\n",
    "\n",
    "En Pandas, las series de tiempo permiten generar secuencias con una frecuencia fija en un lapso de tiempo, como por ejemplo:"
   ]
  },
  {
   "cell_type": "code",
   "execution_count": null,
   "metadata": {},
   "outputs": [],
   "source": [
    "# Tres ciclos horarios que inician el 1 de enero de 2020\n",
    "dti = pd.date_range('1-1-2020', periods=3, freq='H')\n",
    "dti"
   ]
  },
  {
   "cell_type": "markdown",
   "metadata": {},
   "source": [
    "Cuya hora se puede convertir a una zona horaria diferente, como *Central Time*:"
   ]
  },
  {
   "cell_type": "code",
   "execution_count": null,
   "metadata": {},
   "outputs": [],
   "source": [
    "dti = dti.tz_convert('America/Costa_Rica')\n",
    "dti"
   ]
  },
  {
   "cell_type": "markdown",
   "metadata": {},
   "source": [
    "También se pueden convertir una serie de tiempo a una frecuencia particular:"
   ]
  },
  {
   "cell_type": "code",
   "execution_count": null,
   "metadata": {},
   "outputs": [],
   "source": [
    "idx = pd.date_range('2020-01-01', periods=5, freq='H')\n",
    "ts = pd.Series(range(len(idx)), index=idx)\n",
    "ts"
   ]
  },
  {
   "cell_type": "code",
   "execution_count": null,
   "metadata": {},
   "outputs": [],
   "source": [
    "ts.resample('2H').mean()"
   ]
  },
  {
   "cell_type": "markdown",
   "metadata": {},
   "source": [
    "---\n",
    "## 3.10. - Gráficas\n",
    "\n",
    "En Python, se utiliza la asignación estándar para utilizar los comandos del API de `matplotlib` como métodos de la `Series` y `DataFrame`. Así, por ejemplo, se puede graficar una `Serie` de datos:"
   ]
  },
  {
   "cell_type": "code",
   "execution_count": null,
   "metadata": {},
   "outputs": [],
   "source": [
    "import matplotlib.pyplot as plt\n",
    "\n",
    "plt.close('all')\n",
    "\n",
    "# Crear serie temporal\n",
    "ts = pd.Series(np.random.randn(1000),\n",
    "              index=pd.date_range('1/1/2020', periods=1000))\n",
    "\n",
    "# Suma acumulada\n",
    "ts = ts.cumsum()\n",
    "\n",
    "# Método .plot() de Matplotlib sobre la serie temporal\n",
    "ts.plot()\n",
    "plt.xlabel('Días')\n",
    "plt.ylabel('Valor')"
   ]
  },
  {
   "cell_type": "markdown",
   "metadata": {},
   "source": [
    "También se pueden graficar arreglos del tipo `DataFrame` de manera que se grafican varias curvas en una misma gráfica como se muestra a continuación:"
   ]
  },
  {
   "cell_type": "code",
   "execution_count": null,
   "metadata": {
    "scrolled": true
   },
   "outputs": [],
   "source": [
    "# Crear números aleatorias con el mísmo índice de ts\n",
    "df = pd.DataFrame(np.random.randn(1000, 4), index=ts.index,\n",
    "                 columns=['A', 'B', 'C', 'D'])\n",
    "df = df.cumsum()\n",
    "\n",
    "# Graficar las curvas\n",
    "plt.figure()\n",
    "df.plot()\n",
    "plt.legend(loc='best')\n",
    "plt.xlabel('Días')\n",
    "plt.ylabel('Valor')"
   ]
  },
  {
   "cell_type": "markdown",
   "metadata": {},
   "source": [
    "---\n",
    "## 3.11. - Importar y exportar datos\n",
    "\n",
    "Pandas es un excelente \"manejador\" de archivos externos de datos, tipo `.xls` o `.csv`. Por ejemplo, para crear un archivo `modelos.csv` a partir de los datos anteriores:"
   ]
  },
  {
   "cell_type": "code",
   "execution_count": null,
   "metadata": {
    "scrolled": true
   },
   "outputs": [],
   "source": [
    "df.to_csv('modelos')"
   ]
  },
  {
   "cell_type": "markdown",
   "metadata": {},
   "source": [
    "Cuyo contenido se puede \"llamar\" nuevamente utilizando el comando, que lo guarda como un `DataFrame`."
   ]
  },
  {
   "cell_type": "code",
   "execution_count": null,
   "metadata": {},
   "outputs": [],
   "source": [
    "pd.read_csv('modelos')"
   ]
  },
  {
   "cell_type": "markdown",
   "metadata": {},
   "source": [
    "---\n",
    "### Más información\n",
    "\n",
    "* [Página oficial de Pandas](https://pandas.pydata.org/)\n",
    "\n",
    "---"
   ]
  },
  {
   "cell_type": "markdown",
   "metadata": {},
   "source": [
    "---\n",
    "**Universidad de Costa Rica**\\\n",
    "Facultad de Ingeniería\\\n",
    "Escuela de Ingeniería Eléctrica\n",
    "\n",
    "&copy; 2021\n",
    "\n",
    "---"
   ]
  }
 ],
 "metadata": {
  "kernelspec": {
   "display_name": "Python 3",
   "language": "python",
   "name": "python3"
  },
  "language_info": {
   "codemirror_mode": {
    "name": "ipython",
    "version": 3
   },
   "file_extension": ".py",
   "mimetype": "text/x-python",
   "name": "python",
   "nbconvert_exporter": "python",
   "pygments_lexer": "ipython3",
   "version": "3.7.10"
  }
 },
 "nbformat": 4,
 "nbformat_minor": 2
}
