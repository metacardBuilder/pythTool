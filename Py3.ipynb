{
 "cells": [
  {
   "cell_type": "markdown",
   "metadata": {},
   "source": [
    "---\n",
    "### Universidad de Costa Rica\n",
    "#### IE0405 - Modelos Probabilísticos de Señales y Sistemas\n",
    "---\n",
    "\n",
    "# `Py3` - *Librerías de manipulación de datos*\n",
    "\n",
    "> **Pandas**, en particular, es una útil librería de manipulación de datos que ofrece estructuras de datos para el análisis de tablas numéricas y series de tiempo. Esta es una introducción al objeto `DataFrame` y otras características básicas.\n",
    "\n",
    "---"
   ]
  },
  {
   "cell_type": "markdown",
   "metadata": {},
   "source": [
    "## Librería Pandas\n",
    "\n",
    "Para trabajar con una gran cantidad de datos, es deseable un conjunto de herramientas que nos permitan efectuar operaciones comunes de forma intuitiva y eficiente. Pandas, es la solución por defecto para hacerlo en Python.\n",
    "\n",
    "Esta guía está basada en [\"10 minutes to pandas\"](https://pandas.pydata.org/docs/getting_started/10min.html)."
   ]
  },
  {
   "cell_type": "code",
   "execution_count": 187,
   "metadata": {},
   "outputs": [],
   "source": [
    "import numpy as np\n",
    "import pandas as pd\n",
    "import datetime"
   ]
  },
  {
   "cell_type": "markdown",
   "metadata": {},
   "source": [
    "---\n",
    "## 3.1 - `Series`\n",
    "\n",
    "En Python, las `Series` corresponden a un arreglo de una dimensión que admite diversos tipos de datos (números enteros, palabras, números flotantes, objetos de Python, etc.) que además están etiquetados mediante un índice que el usuario puede definir o permitir que Python lo cree por defecto. De manera que para crear una lista de valores y dejando que Python los etiqute, se utiliza el siguiente comando:"
   ]
  },
  {
   "cell_type": "code",
   "execution_count": 116,
   "metadata": {},
   "outputs": [
    {
     "data": {
      "text/plain": [
       "0          1\n",
       "1          3\n",
       "2          5\n",
       "3        NaN\n",
       "4    modelos\n",
       "5        8.5\n",
       "dtype: object"
      ]
     },
     "execution_count": 116,
     "metadata": {},
     "output_type": "execute_result"
    }
   ],
   "source": [
    "s = pd.Series([1, 3, 5, np.nan, \"modelos\", 8.5])\n",
    "s"
   ]
  },
  {
   "cell_type": "markdown",
   "metadata": {},
   "source": [
    "Utilizado el comando de numpy `random.randn` para generar datos aleatorios para la lista y si se desea agregar indices distintos a los numéricos se utiliza el siguiente comando:"
   ]
  },
  {
   "cell_type": "code",
   "execution_count": 117,
   "metadata": {},
   "outputs": [
    {
     "data": {
      "text/plain": [
       "a   -1.124088\n",
       "b    0.465861\n",
       "c   -1.403796\n",
       "d   -0.437219\n",
       "e   -0.146258\n",
       "dtype: float64"
      ]
     },
     "execution_count": 117,
     "metadata": {},
     "output_type": "execute_result"
    }
   ],
   "source": [
    "s = pd.Series(np.random.randn(5), index = ['a', 'b', 'c', 'd', 'e'])\n",
    "s"
   ]
  },
  {
   "cell_type": "markdown",
   "metadata": {},
   "source": [
    "Una vez creada la `Serie` se pueden ejecutar operaciones vetoriales con la misma o agregar atributos como un nombre, como se muestra a continuación:"
   ]
  },
  {
   "cell_type": "code",
   "execution_count": 118,
   "metadata": {},
   "outputs": [
    {
     "data": {
      "text/plain": [
       "a   -2.248176\n",
       "b    0.931722\n",
       "c   -2.807591\n",
       "d   -0.874438\n",
       "e   -0.292515\n",
       "Name: suma, dtype: float64"
      ]
     },
     "execution_count": 118,
     "metadata": {},
     "output_type": "execute_result"
    }
   ],
   "source": [
    "d= pd.Series(s+s,name = 'suma')\n",
    "d"
   ]
  },
  {
   "cell_type": "markdown",
   "metadata": {},
   "source": [
    "---\n",
    "## 3.2 - `DataFrame`\n",
    "\n",
    "En Python, la asignación de `DataFrames` corresponde a un arreglo de 2 dimensiones etiquetado, semejante a concatenar varias `Series` y de igual forma admite varios tipos de datos, algo así como una hoja de cálculo o una tabla SQL. De igual forma la asignación de las etiquetas puede ser decidida por el usuario y Python hará coincidir los valores, en caso de diferencias en los tamaños de las listas agregadas, rellenará esos espacios siguiendo reglas de sentido común. A continuación un ejemplo de dos `Series` de diferentes tamaños:"
   ]
  },
  {
   "cell_type": "code",
   "execution_count": 119,
   "metadata": {},
   "outputs": [
    {
     "data": {
      "text/html": [
       "<div>\n",
       "<style scoped>\n",
       "    .dataframe tbody tr th:only-of-type {\n",
       "        vertical-align: middle;\n",
       "    }\n",
       "\n",
       "    .dataframe tbody tr th {\n",
       "        vertical-align: top;\n",
       "    }\n",
       "\n",
       "    .dataframe thead th {\n",
       "        text-align: right;\n",
       "    }\n",
       "</style>\n",
       "<table border=\"1\" class=\"dataframe\">\n",
       "  <thead>\n",
       "    <tr style=\"text-align: right;\">\n",
       "      <th></th>\n",
       "      <th>one</th>\n",
       "      <th>two</th>\n",
       "    </tr>\n",
       "  </thead>\n",
       "  <tbody>\n",
       "    <tr>\n",
       "      <th>a</th>\n",
       "      <td>1.0</td>\n",
       "      <td>1.0</td>\n",
       "    </tr>\n",
       "    <tr>\n",
       "      <th>b</th>\n",
       "      <td>2.0</td>\n",
       "      <td>4.0</td>\n",
       "    </tr>\n",
       "    <tr>\n",
       "      <th>c</th>\n",
       "      <td>3.0</td>\n",
       "      <td>2.0</td>\n",
       "    </tr>\n",
       "    <tr>\n",
       "      <th>d</th>\n",
       "      <td>NaN</td>\n",
       "      <td>3.0</td>\n",
       "    </tr>\n",
       "  </tbody>\n",
       "</table>\n",
       "</div>"
      ],
      "text/plain": [
       "   one  two\n",
       "a  1.0  1.0\n",
       "b  2.0  4.0\n",
       "c  3.0  2.0\n",
       "d  NaN  3.0"
      ]
     },
     "execution_count": 119,
     "metadata": {},
     "output_type": "execute_result"
    }
   ],
   "source": [
    "d = {'one': pd.Series([1., 2., 3.], index=['a', 'b', 'c']),\n",
    "     'two': pd.Series([1., 2., 3., 4.], index=['a', 'c', 'd', 'b'])}\n",
    "df1 = pd.DataFrame(d)\n",
    "df1"
   ]
  },
  {
   "cell_type": "markdown",
   "metadata": {},
   "source": [
    "Estos indices también pueden indicar una estampa de tiempo, tal como se muestra en el siguiente ejemplo:"
   ]
  },
  {
   "cell_type": "code",
   "execution_count": 120,
   "metadata": {},
   "outputs": [
    {
     "data": {
      "text/html": [
       "<div>\n",
       "<style scoped>\n",
       "    .dataframe tbody tr th:only-of-type {\n",
       "        vertical-align: middle;\n",
       "    }\n",
       "\n",
       "    .dataframe tbody tr th {\n",
       "        vertical-align: top;\n",
       "    }\n",
       "\n",
       "    .dataframe thead th {\n",
       "        text-align: right;\n",
       "    }\n",
       "</style>\n",
       "<table border=\"1\" class=\"dataframe\">\n",
       "  <thead>\n",
       "    <tr style=\"text-align: right;\">\n",
       "      <th></th>\n",
       "      <th>A</th>\n",
       "      <th>B</th>\n",
       "      <th>C</th>\n",
       "      <th>D</th>\n",
       "    </tr>\n",
       "  </thead>\n",
       "  <tbody>\n",
       "    <tr>\n",
       "      <th>2020-05-01</th>\n",
       "      <td>-1.438720</td>\n",
       "      <td>-1.001775</td>\n",
       "      <td>1.002984</td>\n",
       "      <td>-0.725545</td>\n",
       "    </tr>\n",
       "    <tr>\n",
       "      <th>2020-05-02</th>\n",
       "      <td>-1.393482</td>\n",
       "      <td>0.949427</td>\n",
       "      <td>0.089621</td>\n",
       "      <td>0.613263</td>\n",
       "    </tr>\n",
       "    <tr>\n",
       "      <th>2020-05-03</th>\n",
       "      <td>-1.137339</td>\n",
       "      <td>-0.207908</td>\n",
       "      <td>-0.737793</td>\n",
       "      <td>-2.144175</td>\n",
       "    </tr>\n",
       "    <tr>\n",
       "      <th>2020-05-04</th>\n",
       "      <td>-1.291017</td>\n",
       "      <td>-0.965923</td>\n",
       "      <td>0.096711</td>\n",
       "      <td>-1.001480</td>\n",
       "    </tr>\n",
       "    <tr>\n",
       "      <th>2020-05-05</th>\n",
       "      <td>0.760491</td>\n",
       "      <td>0.493574</td>\n",
       "      <td>0.392614</td>\n",
       "      <td>-1.200108</td>\n",
       "    </tr>\n",
       "    <tr>\n",
       "      <th>2020-05-06</th>\n",
       "      <td>0.650867</td>\n",
       "      <td>0.208342</td>\n",
       "      <td>-1.657304</td>\n",
       "      <td>-0.819852</td>\n",
       "    </tr>\n",
       "  </tbody>\n",
       "</table>\n",
       "</div>"
      ],
      "text/plain": [
       "                   A         B         C         D\n",
       "2020-05-01 -1.438720 -1.001775  1.002984 -0.725545\n",
       "2020-05-02 -1.393482  0.949427  0.089621  0.613263\n",
       "2020-05-03 -1.137339 -0.207908 -0.737793 -2.144175\n",
       "2020-05-04 -1.291017 -0.965923  0.096711 -1.001480\n",
       "2020-05-05  0.760491  0.493574  0.392614 -1.200108\n",
       "2020-05-06  0.650867  0.208342 -1.657304 -0.819852"
      ]
     },
     "execution_count": 120,
     "metadata": {},
     "output_type": "execute_result"
    }
   ],
   "source": [
    "dates = pd.date_range('20200501', periods=6)\n",
    "df = pd.DataFrame(np.random.randn(6, 4), index=dates, columns=list('ABCD'))\n",
    "df    "
   ]
  },
  {
   "cell_type": "markdown",
   "metadata": {},
   "source": [
    "De igual forma que las `Series`, los `DataFrame` pueden asignarse como diccionarios, utilizando diferentes tipos de datos en cada columna, como se muestra a continuación:"
   ]
  },
  {
   "cell_type": "code",
   "execution_count": 121,
   "metadata": {},
   "outputs": [
    {
     "data": {
      "text/html": [
       "<div>\n",
       "<style scoped>\n",
       "    .dataframe tbody tr th:only-of-type {\n",
       "        vertical-align: middle;\n",
       "    }\n",
       "\n",
       "    .dataframe tbody tr th {\n",
       "        vertical-align: top;\n",
       "    }\n",
       "\n",
       "    .dataframe thead th {\n",
       "        text-align: right;\n",
       "    }\n",
       "</style>\n",
       "<table border=\"1\" class=\"dataframe\">\n",
       "  <thead>\n",
       "    <tr style=\"text-align: right;\">\n",
       "      <th></th>\n",
       "      <th>A</th>\n",
       "      <th>B</th>\n",
       "      <th>C</th>\n",
       "      <th>D</th>\n",
       "      <th>E</th>\n",
       "      <th>F</th>\n",
       "    </tr>\n",
       "  </thead>\n",
       "  <tbody>\n",
       "    <tr>\n",
       "      <th>0</th>\n",
       "      <td>1.0</td>\n",
       "      <td>2020-05-21</td>\n",
       "      <td>1.0</td>\n",
       "      <td>3</td>\n",
       "      <td>ceviche</td>\n",
       "      <td>foo</td>\n",
       "    </tr>\n",
       "    <tr>\n",
       "      <th>1</th>\n",
       "      <td>1.0</td>\n",
       "      <td>2020-05-21</td>\n",
       "      <td>1.0</td>\n",
       "      <td>3</td>\n",
       "      <td>pizza</td>\n",
       "      <td>foo</td>\n",
       "    </tr>\n",
       "    <tr>\n",
       "      <th>2</th>\n",
       "      <td>1.0</td>\n",
       "      <td>2020-05-21</td>\n",
       "      <td>1.0</td>\n",
       "      <td>3</td>\n",
       "      <td>nachos</td>\n",
       "      <td>foo</td>\n",
       "    </tr>\n",
       "    <tr>\n",
       "      <th>3</th>\n",
       "      <td>1.0</td>\n",
       "      <td>2020-05-21</td>\n",
       "      <td>1.0</td>\n",
       "      <td>3</td>\n",
       "      <td>chifrijo</td>\n",
       "      <td>foo</td>\n",
       "    </tr>\n",
       "  </tbody>\n",
       "</table>\n",
       "</div>"
      ],
      "text/plain": [
       "     A          B    C  D         E    F\n",
       "0  1.0 2020-05-21  1.0  3   ceviche  foo\n",
       "1  1.0 2020-05-21  1.0  3     pizza  foo\n",
       "2  1.0 2020-05-21  1.0  3    nachos  foo\n",
       "3  1.0 2020-05-21  1.0  3  chifrijo  foo"
      ]
     },
     "execution_count": 121,
     "metadata": {},
     "output_type": "execute_result"
    }
   ],
   "source": [
    "df2 = pd.DataFrame({'A': 1.,\n",
    "                     'B': pd.Timestamp('20200521'),\n",
    "                     'C': pd.Series(1, index=list(range(4)), dtype='float32'),\n",
    "                     'D': np.array([3] * 4, dtype='int32'),\n",
    "                     'E': pd.Categorical([\"ceviche\", \"pizza\", \"nachos\", \"chifrijo\"]),\n",
    "                     'F': 'foo'})\n",
    "df2"
   ]
  },
  {
   "cell_type": "markdown",
   "metadata": {},
   "source": [
    "Una vez incializada, se pueden ejecutar acciones como extraer, eliminar e insertar de la misma manera que los diccionarios. A continuación un ejemplo: "
   ]
  },
  {
   "cell_type": "code",
   "execution_count": 122,
   "metadata": {},
   "outputs": [
    {
     "data": {
      "text/plain": [
       "0     ceviche\n",
       "1       pizza\n",
       "2      nachos\n",
       "3    chifrijo\n",
       "Name: E, dtype: category\n",
       "Categories (4, object): [ceviche, chifrijo, nachos, pizza]"
      ]
     },
     "execution_count": 122,
     "metadata": {},
     "output_type": "execute_result"
    }
   ],
   "source": [
    "df2['E']"
   ]
  },
  {
   "cell_type": "code",
   "execution_count": 123,
   "metadata": {},
   "outputs": [
    {
     "data": {
      "text/html": [
       "<div>\n",
       "<style scoped>\n",
       "    .dataframe tbody tr th:only-of-type {\n",
       "        vertical-align: middle;\n",
       "    }\n",
       "\n",
       "    .dataframe tbody tr th {\n",
       "        vertical-align: top;\n",
       "    }\n",
       "\n",
       "    .dataframe thead th {\n",
       "        text-align: right;\n",
       "    }\n",
       "</style>\n",
       "<table border=\"1\" class=\"dataframe\">\n",
       "  <thead>\n",
       "    <tr style=\"text-align: right;\">\n",
       "      <th></th>\n",
       "      <th>A</th>\n",
       "      <th>B</th>\n",
       "      <th>D</th>\n",
       "      <th>E</th>\n",
       "      <th>F</th>\n",
       "    </tr>\n",
       "  </thead>\n",
       "  <tbody>\n",
       "    <tr>\n",
       "      <th>0</th>\n",
       "      <td>1.0</td>\n",
       "      <td>2020-05-21</td>\n",
       "      <td>3</td>\n",
       "      <td>ceviche</td>\n",
       "      <td>foo</td>\n",
       "    </tr>\n",
       "    <tr>\n",
       "      <th>1</th>\n",
       "      <td>1.0</td>\n",
       "      <td>2020-05-21</td>\n",
       "      <td>3</td>\n",
       "      <td>pizza</td>\n",
       "      <td>foo</td>\n",
       "    </tr>\n",
       "    <tr>\n",
       "      <th>2</th>\n",
       "      <td>1.0</td>\n",
       "      <td>2020-05-21</td>\n",
       "      <td>3</td>\n",
       "      <td>nachos</td>\n",
       "      <td>foo</td>\n",
       "    </tr>\n",
       "    <tr>\n",
       "      <th>3</th>\n",
       "      <td>1.0</td>\n",
       "      <td>2020-05-21</td>\n",
       "      <td>3</td>\n",
       "      <td>chifrijo</td>\n",
       "      <td>foo</td>\n",
       "    </tr>\n",
       "  </tbody>\n",
       "</table>\n",
       "</div>"
      ],
      "text/plain": [
       "     A          B  D         E    F\n",
       "0  1.0 2020-05-21  3   ceviche  foo\n",
       "1  1.0 2020-05-21  3     pizza  foo\n",
       "2  1.0 2020-05-21  3    nachos  foo\n",
       "3  1.0 2020-05-21  3  chifrijo  foo"
      ]
     },
     "execution_count": 123,
     "metadata": {},
     "output_type": "execute_result"
    }
   ],
   "source": [
    "del df2['C']\n",
    "df2"
   ]
  },
  {
   "cell_type": "code",
   "execution_count": 124,
   "metadata": {},
   "outputs": [
    {
     "data": {
      "text/html": [
       "<div>\n",
       "<style scoped>\n",
       "    .dataframe tbody tr th:only-of-type {\n",
       "        vertical-align: middle;\n",
       "    }\n",
       "\n",
       "    .dataframe tbody tr th {\n",
       "        vertical-align: top;\n",
       "    }\n",
       "\n",
       "    .dataframe thead th {\n",
       "        text-align: right;\n",
       "    }\n",
       "</style>\n",
       "<table border=\"1\" class=\"dataframe\">\n",
       "  <thead>\n",
       "    <tr style=\"text-align: right;\">\n",
       "      <th></th>\n",
       "      <th>A</th>\n",
       "      <th>B</th>\n",
       "      <th>D</th>\n",
       "      <th>E</th>\n",
       "      <th>F</th>\n",
       "      <th>mayorA1</th>\n",
       "    </tr>\n",
       "  </thead>\n",
       "  <tbody>\n",
       "    <tr>\n",
       "      <th>0</th>\n",
       "      <td>0.336258</td>\n",
       "      <td>2020-05-21</td>\n",
       "      <td>3</td>\n",
       "      <td>ceviche</td>\n",
       "      <td>foo</td>\n",
       "      <td>False</td>\n",
       "    </tr>\n",
       "    <tr>\n",
       "      <th>1</th>\n",
       "      <td>0.245925</td>\n",
       "      <td>2020-05-21</td>\n",
       "      <td>3</td>\n",
       "      <td>pizza</td>\n",
       "      <td>foo</td>\n",
       "      <td>False</td>\n",
       "    </tr>\n",
       "    <tr>\n",
       "      <th>2</th>\n",
       "      <td>1.040845</td>\n",
       "      <td>2020-05-21</td>\n",
       "      <td>3</td>\n",
       "      <td>nachos</td>\n",
       "      <td>foo</td>\n",
       "      <td>True</td>\n",
       "    </tr>\n",
       "    <tr>\n",
       "      <th>3</th>\n",
       "      <td>-0.751170</td>\n",
       "      <td>2020-05-21</td>\n",
       "      <td>3</td>\n",
       "      <td>chifrijo</td>\n",
       "      <td>foo</td>\n",
       "      <td>False</td>\n",
       "    </tr>\n",
       "  </tbody>\n",
       "</table>\n",
       "</div>"
      ],
      "text/plain": [
       "          A          B  D         E    F  mayorA1\n",
       "0  0.336258 2020-05-21  3   ceviche  foo    False\n",
       "1  0.245925 2020-05-21  3     pizza  foo    False\n",
       "2  1.040845 2020-05-21  3    nachos  foo     True\n",
       "3 -0.751170 2020-05-21  3  chifrijo  foo    False"
      ]
     },
     "execution_count": 124,
     "metadata": {},
     "output_type": "execute_result"
    }
   ],
   "source": [
    "df2['A']=pd.Series(np.random.randn(4), index=list(range(4)))\n",
    "df2['mayorA1']=df2['A']>1\n",
    "df2"
   ]
  },
  {
   "cell_type": "markdown",
   "metadata": {},
   "source": [
    "---\n",
    "## 3.3 - Ver los datos\n",
    "\n",
    "En Python, la visualización de datos permite decidir cuáles datos se quieren ver, por ejemplo del `DataFrame` df, para ver las primeras filas de datos se utiliza el comando `head`:"
   ]
  },
  {
   "cell_type": "code",
   "execution_count": 125,
   "metadata": {},
   "outputs": [
    {
     "data": {
      "text/html": [
       "<div>\n",
       "<style scoped>\n",
       "    .dataframe tbody tr th:only-of-type {\n",
       "        vertical-align: middle;\n",
       "    }\n",
       "\n",
       "    .dataframe tbody tr th {\n",
       "        vertical-align: top;\n",
       "    }\n",
       "\n",
       "    .dataframe thead th {\n",
       "        text-align: right;\n",
       "    }\n",
       "</style>\n",
       "<table border=\"1\" class=\"dataframe\">\n",
       "  <thead>\n",
       "    <tr style=\"text-align: right;\">\n",
       "      <th></th>\n",
       "      <th>A</th>\n",
       "      <th>B</th>\n",
       "      <th>C</th>\n",
       "      <th>D</th>\n",
       "    </tr>\n",
       "  </thead>\n",
       "  <tbody>\n",
       "    <tr>\n",
       "      <th>2020-05-01</th>\n",
       "      <td>-1.438720</td>\n",
       "      <td>-1.001775</td>\n",
       "      <td>1.002984</td>\n",
       "      <td>-0.725545</td>\n",
       "    </tr>\n",
       "    <tr>\n",
       "      <th>2020-05-02</th>\n",
       "      <td>-1.393482</td>\n",
       "      <td>0.949427</td>\n",
       "      <td>0.089621</td>\n",
       "      <td>0.613263</td>\n",
       "    </tr>\n",
       "  </tbody>\n",
       "</table>\n",
       "</div>"
      ],
      "text/plain": [
       "                   A         B         C         D\n",
       "2020-05-01 -1.438720 -1.001775  1.002984 -0.725545\n",
       "2020-05-02 -1.393482  0.949427  0.089621  0.613263"
      ]
     },
     "execution_count": 125,
     "metadata": {},
     "output_type": "execute_result"
    }
   ],
   "source": [
    "df.head(2)"
   ]
  },
  {
   "cell_type": "markdown",
   "metadata": {},
   "source": [
    "Pero si sólo se desea visualizar las útimas 3 líneas se utiliza el comando `tail`:"
   ]
  },
  {
   "cell_type": "code",
   "execution_count": 126,
   "metadata": {},
   "outputs": [
    {
     "data": {
      "text/html": [
       "<div>\n",
       "<style scoped>\n",
       "    .dataframe tbody tr th:only-of-type {\n",
       "        vertical-align: middle;\n",
       "    }\n",
       "\n",
       "    .dataframe tbody tr th {\n",
       "        vertical-align: top;\n",
       "    }\n",
       "\n",
       "    .dataframe thead th {\n",
       "        text-align: right;\n",
       "    }\n",
       "</style>\n",
       "<table border=\"1\" class=\"dataframe\">\n",
       "  <thead>\n",
       "    <tr style=\"text-align: right;\">\n",
       "      <th></th>\n",
       "      <th>A</th>\n",
       "      <th>B</th>\n",
       "      <th>C</th>\n",
       "      <th>D</th>\n",
       "    </tr>\n",
       "  </thead>\n",
       "  <tbody>\n",
       "    <tr>\n",
       "      <th>2020-05-04</th>\n",
       "      <td>-1.291017</td>\n",
       "      <td>-0.965923</td>\n",
       "      <td>0.096711</td>\n",
       "      <td>-1.001480</td>\n",
       "    </tr>\n",
       "    <tr>\n",
       "      <th>2020-05-05</th>\n",
       "      <td>0.760491</td>\n",
       "      <td>0.493574</td>\n",
       "      <td>0.392614</td>\n",
       "      <td>-1.200108</td>\n",
       "    </tr>\n",
       "    <tr>\n",
       "      <th>2020-05-06</th>\n",
       "      <td>0.650867</td>\n",
       "      <td>0.208342</td>\n",
       "      <td>-1.657304</td>\n",
       "      <td>-0.819852</td>\n",
       "    </tr>\n",
       "  </tbody>\n",
       "</table>\n",
       "</div>"
      ],
      "text/plain": [
       "                   A         B         C         D\n",
       "2020-05-04 -1.291017 -0.965923  0.096711 -1.001480\n",
       "2020-05-05  0.760491  0.493574  0.392614 -1.200108\n",
       "2020-05-06  0.650867  0.208342 -1.657304 -0.819852"
      ]
     },
     "execution_count": 126,
     "metadata": {},
     "output_type": "execute_result"
    }
   ],
   "source": [
    "df.tail(3)"
   ]
  },
  {
   "cell_type": "markdown",
   "metadata": {},
   "source": [
    "Si bien sólo se desean visualizar los indices, se utiliza:"
   ]
  },
  {
   "cell_type": "code",
   "execution_count": 127,
   "metadata": {},
   "outputs": [
    {
     "data": {
      "text/plain": [
       "DatetimeIndex(['2020-05-01', '2020-05-02', '2020-05-03', '2020-05-04',\n",
       "               '2020-05-05', '2020-05-06'],\n",
       "              dtype='datetime64[ns]', freq='D')"
      ]
     },
     "execution_count": 127,
     "metadata": {},
     "output_type": "execute_result"
    }
   ],
   "source": [
    "df.index"
   ]
  },
  {
   "cell_type": "markdown",
   "metadata": {},
   "source": [
    "Además, en el caso de un `DataFrame` con elementos del mismo tipo de datos, se puede transformar en un dato compatible con Numpy:"
   ]
  },
  {
   "cell_type": "code",
   "execution_count": 128,
   "metadata": {},
   "outputs": [
    {
     "data": {
      "text/plain": [
       "array([[-1.43872   , -1.00177501,  1.00298437, -0.72554541],\n",
       "       [-1.39348156,  0.94942708,  0.0896212 ,  0.61326349],\n",
       "       [-1.13733887, -0.20790778, -0.73779329, -2.14417456],\n",
       "       [-1.29101654, -0.96592347,  0.09671108, -1.0014799 ],\n",
       "       [ 0.76049082,  0.4935742 ,  0.39261434, -1.20010841],\n",
       "       [ 0.65086734,  0.20834165, -1.65730362, -0.81985218]])"
      ]
     },
     "execution_count": 128,
     "metadata": {},
     "output_type": "execute_result"
    }
   ],
   "source": [
    "df.to_numpy()"
   ]
  },
  {
   "cell_type": "markdown",
   "metadata": {},
   "source": [
    "Incluso si el `DataFrame` tiene diversos tipos de datos, también se puede transferir los datos a un arreglo de Numpy:"
   ]
  },
  {
   "cell_type": "code",
   "execution_count": 129,
   "metadata": {},
   "outputs": [
    {
     "data": {
      "text/plain": [
       "array([[0.3362582902233097, Timestamp('2020-05-21 00:00:00'), 3,\n",
       "        'ceviche', 'foo', False],\n",
       "       [0.24592480247012838, Timestamp('2020-05-21 00:00:00'), 3,\n",
       "        'pizza', 'foo', False],\n",
       "       [1.04084464434323, Timestamp('2020-05-21 00:00:00'), 3, 'nachos',\n",
       "        'foo', True],\n",
       "       [-0.7511703966915082, Timestamp('2020-05-21 00:00:00'), 3,\n",
       "        'chifrijo', 'foo', False]], dtype=object)"
      ]
     },
     "execution_count": 129,
     "metadata": {},
     "output_type": "execute_result"
    }
   ],
   "source": [
    "df2.to_numpy()"
   ]
  },
  {
   "cell_type": "markdown",
   "metadata": {},
   "source": [
    "Sin embargo, si todos los elementos son del mismo tipo, se pueden ejecutar más funciones como una rápida revisión de las principales características estadísticas de cada columna:"
   ]
  },
  {
   "cell_type": "code",
   "execution_count": 130,
   "metadata": {},
   "outputs": [
    {
     "data": {
      "text/html": [
       "<div>\n",
       "<style scoped>\n",
       "    .dataframe tbody tr th:only-of-type {\n",
       "        vertical-align: middle;\n",
       "    }\n",
       "\n",
       "    .dataframe tbody tr th {\n",
       "        vertical-align: top;\n",
       "    }\n",
       "\n",
       "    .dataframe thead th {\n",
       "        text-align: right;\n",
       "    }\n",
       "</style>\n",
       "<table border=\"1\" class=\"dataframe\">\n",
       "  <thead>\n",
       "    <tr style=\"text-align: right;\">\n",
       "      <th></th>\n",
       "      <th>A</th>\n",
       "      <th>B</th>\n",
       "      <th>C</th>\n",
       "      <th>D</th>\n",
       "    </tr>\n",
       "  </thead>\n",
       "  <tbody>\n",
       "    <tr>\n",
       "      <th>count</th>\n",
       "      <td>6.000000</td>\n",
       "      <td>6.000000</td>\n",
       "      <td>6.000000</td>\n",
       "      <td>6.000000</td>\n",
       "    </tr>\n",
       "    <tr>\n",
       "      <th>mean</th>\n",
       "      <td>-0.641533</td>\n",
       "      <td>-0.087377</td>\n",
       "      <td>-0.135528</td>\n",
       "      <td>-0.879649</td>\n",
       "    </tr>\n",
       "    <tr>\n",
       "      <th>std</th>\n",
       "      <td>1.049243</td>\n",
       "      <td>0.790242</td>\n",
       "      <td>0.933627</td>\n",
       "      <td>0.891367</td>\n",
       "    </tr>\n",
       "    <tr>\n",
       "      <th>min</th>\n",
       "      <td>-1.438720</td>\n",
       "      <td>-1.001775</td>\n",
       "      <td>-1.657304</td>\n",
       "      <td>-2.144175</td>\n",
       "    </tr>\n",
       "    <tr>\n",
       "      <th>25%</th>\n",
       "      <td>-1.367865</td>\n",
       "      <td>-0.776420</td>\n",
       "      <td>-0.530940</td>\n",
       "      <td>-1.150451</td>\n",
       "    </tr>\n",
       "    <tr>\n",
       "      <th>50%</th>\n",
       "      <td>-1.214178</td>\n",
       "      <td>0.000217</td>\n",
       "      <td>0.093166</td>\n",
       "      <td>-0.910666</td>\n",
       "    </tr>\n",
       "    <tr>\n",
       "      <th>75%</th>\n",
       "      <td>0.203816</td>\n",
       "      <td>0.422266</td>\n",
       "      <td>0.318639</td>\n",
       "      <td>-0.749122</td>\n",
       "    </tr>\n",
       "    <tr>\n",
       "      <th>max</th>\n",
       "      <td>0.760491</td>\n",
       "      <td>0.949427</td>\n",
       "      <td>1.002984</td>\n",
       "      <td>0.613263</td>\n",
       "    </tr>\n",
       "  </tbody>\n",
       "</table>\n",
       "</div>"
      ],
      "text/plain": [
       "              A         B         C         D\n",
       "count  6.000000  6.000000  6.000000  6.000000\n",
       "mean  -0.641533 -0.087377 -0.135528 -0.879649\n",
       "std    1.049243  0.790242  0.933627  0.891367\n",
       "min   -1.438720 -1.001775 -1.657304 -2.144175\n",
       "25%   -1.367865 -0.776420 -0.530940 -1.150451\n",
       "50%   -1.214178  0.000217  0.093166 -0.910666\n",
       "75%    0.203816  0.422266  0.318639 -0.749122\n",
       "max    0.760491  0.949427  1.002984  0.613263"
      ]
     },
     "execution_count": 130,
     "metadata": {},
     "output_type": "execute_result"
    }
   ],
   "source": [
    "df.describe()"
   ]
  },
  {
   "cell_type": "markdown",
   "metadata": {},
   "source": [
    "O también reordenar los datos con alguna columna de referencia:"
   ]
  },
  {
   "cell_type": "code",
   "execution_count": 131,
   "metadata": {},
   "outputs": [
    {
     "data": {
      "text/html": [
       "<div>\n",
       "<style scoped>\n",
       "    .dataframe tbody tr th:only-of-type {\n",
       "        vertical-align: middle;\n",
       "    }\n",
       "\n",
       "    .dataframe tbody tr th {\n",
       "        vertical-align: top;\n",
       "    }\n",
       "\n",
       "    .dataframe thead th {\n",
       "        text-align: right;\n",
       "    }\n",
       "</style>\n",
       "<table border=\"1\" class=\"dataframe\">\n",
       "  <thead>\n",
       "    <tr style=\"text-align: right;\">\n",
       "      <th></th>\n",
       "      <th>A</th>\n",
       "      <th>B</th>\n",
       "      <th>C</th>\n",
       "      <th>D</th>\n",
       "    </tr>\n",
       "  </thead>\n",
       "  <tbody>\n",
       "    <tr>\n",
       "      <th>2020-05-01</th>\n",
       "      <td>-1.438720</td>\n",
       "      <td>-1.001775</td>\n",
       "      <td>1.002984</td>\n",
       "      <td>-0.725545</td>\n",
       "    </tr>\n",
       "    <tr>\n",
       "      <th>2020-05-04</th>\n",
       "      <td>-1.291017</td>\n",
       "      <td>-0.965923</td>\n",
       "      <td>0.096711</td>\n",
       "      <td>-1.001480</td>\n",
       "    </tr>\n",
       "    <tr>\n",
       "      <th>2020-05-03</th>\n",
       "      <td>-1.137339</td>\n",
       "      <td>-0.207908</td>\n",
       "      <td>-0.737793</td>\n",
       "      <td>-2.144175</td>\n",
       "    </tr>\n",
       "    <tr>\n",
       "      <th>2020-05-06</th>\n",
       "      <td>0.650867</td>\n",
       "      <td>0.208342</td>\n",
       "      <td>-1.657304</td>\n",
       "      <td>-0.819852</td>\n",
       "    </tr>\n",
       "    <tr>\n",
       "      <th>2020-05-05</th>\n",
       "      <td>0.760491</td>\n",
       "      <td>0.493574</td>\n",
       "      <td>0.392614</td>\n",
       "      <td>-1.200108</td>\n",
       "    </tr>\n",
       "    <tr>\n",
       "      <th>2020-05-02</th>\n",
       "      <td>-1.393482</td>\n",
       "      <td>0.949427</td>\n",
       "      <td>0.089621</td>\n",
       "      <td>0.613263</td>\n",
       "    </tr>\n",
       "  </tbody>\n",
       "</table>\n",
       "</div>"
      ],
      "text/plain": [
       "                   A         B         C         D\n",
       "2020-05-01 -1.438720 -1.001775  1.002984 -0.725545\n",
       "2020-05-04 -1.291017 -0.965923  0.096711 -1.001480\n",
       "2020-05-03 -1.137339 -0.207908 -0.737793 -2.144175\n",
       "2020-05-06  0.650867  0.208342 -1.657304 -0.819852\n",
       "2020-05-05  0.760491  0.493574  0.392614 -1.200108\n",
       "2020-05-02 -1.393482  0.949427  0.089621  0.613263"
      ]
     },
     "execution_count": 131,
     "metadata": {},
     "output_type": "execute_result"
    }
   ],
   "source": [
    "df.sort_values(by='B')"
   ]
  },
  {
   "cell_type": "markdown",
   "metadata": {},
   "source": [
    "---\n",
    "## 3.4 - Seleccionar datos\n",
    "\n",
    "En Python, la selección de datos utilizando Pandas es más eficiente que las expresiones para seleccionar y obtener datos en Numpy. Por ejemplo, para ubicar una fila de datos, se puede utilizar el comando  `loc`:"
   ]
  },
  {
   "cell_type": "code",
   "execution_count": 132,
   "metadata": {},
   "outputs": [
    {
     "data": {
      "text/plain": [
       "A                      1.04084\n",
       "B          2020-05-21 00:00:00\n",
       "D                            3\n",
       "E                       nachos\n",
       "F                          foo\n",
       "mayorA1                   True\n",
       "Name: 2, dtype: object"
      ]
     },
     "execution_count": 132,
     "metadata": {},
     "output_type": "execute_result"
    }
   ],
   "source": [
    "df2.loc[2]"
   ]
  },
  {
   "cell_type": "markdown",
   "metadata": {},
   "source": [
    "También se pueden seleccionar un rango de columnas al mismo tiempo:"
   ]
  },
  {
   "cell_type": "code",
   "execution_count": 133,
   "metadata": {},
   "outputs": [
    {
     "data": {
      "text/html": [
       "<div>\n",
       "<style scoped>\n",
       "    .dataframe tbody tr th:only-of-type {\n",
       "        vertical-align: middle;\n",
       "    }\n",
       "\n",
       "    .dataframe tbody tr th {\n",
       "        vertical-align: top;\n",
       "    }\n",
       "\n",
       "    .dataframe thead th {\n",
       "        text-align: right;\n",
       "    }\n",
       "</style>\n",
       "<table border=\"1\" class=\"dataframe\">\n",
       "  <thead>\n",
       "    <tr style=\"text-align: right;\">\n",
       "      <th></th>\n",
       "      <th>A</th>\n",
       "      <th>B</th>\n",
       "      <th>C</th>\n",
       "      <th>D</th>\n",
       "    </tr>\n",
       "  </thead>\n",
       "  <tbody>\n",
       "    <tr>\n",
       "      <th>2020-05-01</th>\n",
       "      <td>-1.438720</td>\n",
       "      <td>-1.001775</td>\n",
       "      <td>1.002984</td>\n",
       "      <td>-0.725545</td>\n",
       "    </tr>\n",
       "    <tr>\n",
       "      <th>2020-05-02</th>\n",
       "      <td>-1.393482</td>\n",
       "      <td>0.949427</td>\n",
       "      <td>0.089621</td>\n",
       "      <td>0.613263</td>\n",
       "    </tr>\n",
       "    <tr>\n",
       "      <th>2020-05-03</th>\n",
       "      <td>-1.137339</td>\n",
       "      <td>-0.207908</td>\n",
       "      <td>-0.737793</td>\n",
       "      <td>-2.144175</td>\n",
       "    </tr>\n",
       "  </tbody>\n",
       "</table>\n",
       "</div>"
      ],
      "text/plain": [
       "                   A         B         C         D\n",
       "2020-05-01 -1.438720 -1.001775  1.002984 -0.725545\n",
       "2020-05-02 -1.393482  0.949427  0.089621  0.613263\n",
       "2020-05-03 -1.137339 -0.207908 -0.737793 -2.144175"
      ]
     },
     "execution_count": 133,
     "metadata": {},
     "output_type": "execute_result"
    }
   ],
   "source": [
    "df[0:3]"
   ]
  },
  {
   "cell_type": "markdown",
   "metadata": {},
   "source": [
    "Para obtener una posición en específico, se debe indicar la fila y la columna mediante el comando `at`:"
   ]
  },
  {
   "cell_type": "code",
   "execution_count": 134,
   "metadata": {},
   "outputs": [
    {
     "data": {
      "text/plain": [
       "-1.1373388706865102"
      ]
     },
     "execution_count": 134,
     "metadata": {},
     "output_type": "execute_result"
    }
   ],
   "source": [
    "df.at[dates[2], 'A']"
   ]
  },
  {
   "cell_type": "markdown",
   "metadata": {},
   "source": [
    "De igual forma se puede ubicar ese mismo elemento por medio de la posición en lugar de los indices, utilizando el comando `iloc`:"
   ]
  },
  {
   "cell_type": "code",
   "execution_count": 135,
   "metadata": {},
   "outputs": [
    {
     "data": {
      "text/plain": [
       "-1.1373388706865102"
      ]
     },
     "execution_count": 135,
     "metadata": {},
     "output_type": "execute_result"
    }
   ],
   "source": [
    "df.iloc[2, 0]"
   ]
  },
  {
   "cell_type": "markdown",
   "metadata": {},
   "source": [
    "De igual manera se pueden ubicar los datos que cumplan con cierta condición booleana:"
   ]
  },
  {
   "cell_type": "code",
   "execution_count": 136,
   "metadata": {},
   "outputs": [
    {
     "data": {
      "text/html": [
       "<div>\n",
       "<style scoped>\n",
       "    .dataframe tbody tr th:only-of-type {\n",
       "        vertical-align: middle;\n",
       "    }\n",
       "\n",
       "    .dataframe tbody tr th {\n",
       "        vertical-align: top;\n",
       "    }\n",
       "\n",
       "    .dataframe thead th {\n",
       "        text-align: right;\n",
       "    }\n",
       "</style>\n",
       "<table border=\"1\" class=\"dataframe\">\n",
       "  <thead>\n",
       "    <tr style=\"text-align: right;\">\n",
       "      <th></th>\n",
       "      <th>A</th>\n",
       "      <th>B</th>\n",
       "      <th>C</th>\n",
       "      <th>D</th>\n",
       "    </tr>\n",
       "  </thead>\n",
       "  <tbody>\n",
       "    <tr>\n",
       "      <th>2020-05-05</th>\n",
       "      <td>0.760491</td>\n",
       "      <td>0.493574</td>\n",
       "      <td>0.392614</td>\n",
       "      <td>-1.200108</td>\n",
       "    </tr>\n",
       "    <tr>\n",
       "      <th>2020-05-06</th>\n",
       "      <td>0.650867</td>\n",
       "      <td>0.208342</td>\n",
       "      <td>-1.657304</td>\n",
       "      <td>-0.819852</td>\n",
       "    </tr>\n",
       "  </tbody>\n",
       "</table>\n",
       "</div>"
      ],
      "text/plain": [
       "                   A         B         C         D\n",
       "2020-05-05  0.760491  0.493574  0.392614 -1.200108\n",
       "2020-05-06  0.650867  0.208342 -1.657304 -0.819852"
      ]
     },
     "execution_count": 136,
     "metadata": {},
     "output_type": "execute_result"
    }
   ],
   "source": [
    "df[df['A']>0]"
   ]
  },
  {
   "cell_type": "markdown",
   "metadata": {},
   "source": [
    "---\n",
    "## 3.5 - Operaciones\n",
    "\n",
    "En Python, las operaciones se ejecutan sobre todos los datos arrojando el valor de salida por filas o columnas, por ejemplo para calcular la media estadística de los datos de cada columna, se utiliza el comando `mean` de la siguiente manera:"
   ]
  },
  {
   "cell_type": "code",
   "execution_count": 137,
   "metadata": {},
   "outputs": [
    {
     "data": {
      "text/plain": [
       "A   -0.641533\n",
       "B   -0.087377\n",
       "C   -0.135528\n",
       "D   -0.879649\n",
       "dtype: float64"
      ]
     },
     "execution_count": 137,
     "metadata": {},
     "output_type": "execute_result"
    }
   ],
   "source": [
    "df.mean()"
   ]
  },
  {
   "cell_type": "markdown",
   "metadata": {},
   "source": [
    "Si en cambio se desea conocer la media de los valores por filas, se utiliza la siguiente variación:"
   ]
  },
  {
   "cell_type": "code",
   "execution_count": 138,
   "metadata": {},
   "outputs": [
    {
     "data": {
      "text/plain": [
       "2020-05-01   -0.540764\n",
       "2020-05-02    0.064708\n",
       "2020-05-03   -1.056804\n",
       "2020-05-04   -0.790427\n",
       "2020-05-05    0.111643\n",
       "2020-05-06   -0.404487\n",
       "Freq: D, dtype: float64"
      ]
     },
     "execution_count": 138,
     "metadata": {},
     "output_type": "execute_result"
    }
   ],
   "source": [
    "df.mean(1)"
   ]
  },
  {
   "cell_type": "markdown",
   "metadata": {},
   "source": [
    "También se pueden aplicar operaciones tales como el conteo sobre dichos datos:"
   ]
  },
  {
   "cell_type": "code",
   "execution_count": 139,
   "metadata": {},
   "outputs": [
    {
     "data": {
      "text/plain": [
       "0    5\n",
       "1    0\n",
       "2    4\n",
       "3    1\n",
       "4    1\n",
       "5    6\n",
       "6    1\n",
       "7    5\n",
       "8    6\n",
       "9    2\n",
       "dtype: int32"
      ]
     },
     "execution_count": 139,
     "metadata": {},
     "output_type": "execute_result"
    }
   ],
   "source": [
    "f = pd.Series(np.random.randint(0, 7, size=10))\n",
    "f"
   ]
  },
  {
   "cell_type": "code",
   "execution_count": 140,
   "metadata": {},
   "outputs": [
    {
     "data": {
      "text/plain": [
       "1    3\n",
       "6    2\n",
       "5    2\n",
       "4    1\n",
       "2    1\n",
       "0    1\n",
       "dtype: int64"
      ]
     },
     "execution_count": 140,
     "metadata": {},
     "output_type": "execute_result"
    }
   ],
   "source": [
    "f.value_counts()"
   ]
  },
  {
   "cell_type": "markdown",
   "metadata": {},
   "source": [
    "También existen operaciones que se pueden aplicar sobre `Series` de palabras:"
   ]
  },
  {
   "cell_type": "code",
   "execution_count": 141,
   "metadata": {},
   "outputs": [
    {
     "data": {
      "text/plain": [
       "0     arbol\n",
       "1    blanco\n",
       "2       ave\n",
       "3     burro\n",
       "4       NaN\n",
       "dtype: object"
      ]
     },
     "execution_count": 141,
     "metadata": {},
     "output_type": "execute_result"
    }
   ],
   "source": [
    "g = pd.Series(['ARbOL', 'BLanCO', 'AvE', 'BuRRo', np.nan])\n",
    "g.str.lower()"
   ]
  },
  {
   "cell_type": "markdown",
   "metadata": {},
   "source": [
    "---\n",
    "## 3.6 - Fusionar datos\n",
    "\n",
    "En Python, para concatenar datos se utiliza el comando `concat()` de la siguiente forma:"
   ]
  },
  {
   "cell_type": "code",
   "execution_count": 142,
   "metadata": {},
   "outputs": [
    {
     "data": {
      "text/html": [
       "<div>\n",
       "<style scoped>\n",
       "    .dataframe tbody tr th:only-of-type {\n",
       "        vertical-align: middle;\n",
       "    }\n",
       "\n",
       "    .dataframe tbody tr th {\n",
       "        vertical-align: top;\n",
       "    }\n",
       "\n",
       "    .dataframe thead th {\n",
       "        text-align: right;\n",
       "    }\n",
       "</style>\n",
       "<table border=\"1\" class=\"dataframe\">\n",
       "  <thead>\n",
       "    <tr style=\"text-align: right;\">\n",
       "      <th></th>\n",
       "      <th>0</th>\n",
       "      <th>1</th>\n",
       "    </tr>\n",
       "  </thead>\n",
       "  <tbody>\n",
       "    <tr>\n",
       "      <th>0</th>\n",
       "      <td>-1.114509</td>\n",
       "      <td>0.335679</td>\n",
       "    </tr>\n",
       "    <tr>\n",
       "      <th>1</th>\n",
       "      <td>0.420652</td>\n",
       "      <td>-0.143768</td>\n",
       "    </tr>\n",
       "    <tr>\n",
       "      <th>2</th>\n",
       "      <td>-1.511412</td>\n",
       "      <td>0.290205</td>\n",
       "    </tr>\n",
       "    <tr>\n",
       "      <th>3</th>\n",
       "      <td>-0.319198</td>\n",
       "      <td>0.575385</td>\n",
       "    </tr>\n",
       "    <tr>\n",
       "      <th>4</th>\n",
       "      <td>-0.200441</td>\n",
       "      <td>-0.145279</td>\n",
       "    </tr>\n",
       "    <tr>\n",
       "      <th>5</th>\n",
       "      <td>0.077536</td>\n",
       "      <td>-0.599292</td>\n",
       "    </tr>\n",
       "    <tr>\n",
       "      <th>6</th>\n",
       "      <td>1.172419</td>\n",
       "      <td>-0.263597</td>\n",
       "    </tr>\n",
       "    <tr>\n",
       "      <th>7</th>\n",
       "      <td>0.589820</td>\n",
       "      <td>-0.561852</td>\n",
       "    </tr>\n",
       "    <tr>\n",
       "      <th>8</th>\n",
       "      <td>0.294062</td>\n",
       "      <td>-0.019284</td>\n",
       "    </tr>\n",
       "    <tr>\n",
       "      <th>9</th>\n",
       "      <td>-1.946265</td>\n",
       "      <td>0.025824</td>\n",
       "    </tr>\n",
       "    <tr>\n",
       "      <th>0</th>\n",
       "      <td>1.240836</td>\n",
       "      <td>0.875071</td>\n",
       "    </tr>\n",
       "    <tr>\n",
       "      <th>1</th>\n",
       "      <td>-0.605906</td>\n",
       "      <td>-0.719338</td>\n",
       "    </tr>\n",
       "    <tr>\n",
       "      <th>2</th>\n",
       "      <td>-0.824265</td>\n",
       "      <td>-1.586706</td>\n",
       "    </tr>\n",
       "    <tr>\n",
       "      <th>3</th>\n",
       "      <td>-0.875269</td>\n",
       "      <td>0.972054</td>\n",
       "    </tr>\n",
       "    <tr>\n",
       "      <th>4</th>\n",
       "      <td>1.078175</td>\n",
       "      <td>-1.077085</td>\n",
       "    </tr>\n",
       "    <tr>\n",
       "      <th>5</th>\n",
       "      <td>0.107128</td>\n",
       "      <td>-1.172883</td>\n",
       "    </tr>\n",
       "    <tr>\n",
       "      <th>6</th>\n",
       "      <td>1.610326</td>\n",
       "      <td>-0.486428</td>\n",
       "    </tr>\n",
       "    <tr>\n",
       "      <th>7</th>\n",
       "      <td>1.820736</td>\n",
       "      <td>-0.969288</td>\n",
       "    </tr>\n",
       "    <tr>\n",
       "      <th>8</th>\n",
       "      <td>0.454974</td>\n",
       "      <td>-0.739986</td>\n",
       "    </tr>\n",
       "    <tr>\n",
       "      <th>9</th>\n",
       "      <td>-1.267807</td>\n",
       "      <td>-0.191708</td>\n",
       "    </tr>\n",
       "  </tbody>\n",
       "</table>\n",
       "</div>"
      ],
      "text/plain": [
       "          0         1\n",
       "0 -1.114509  0.335679\n",
       "1  0.420652 -0.143768\n",
       "2 -1.511412  0.290205\n",
       "3 -0.319198  0.575385\n",
       "4 -0.200441 -0.145279\n",
       "5  0.077536 -0.599292\n",
       "6  1.172419 -0.263597\n",
       "7  0.589820 -0.561852\n",
       "8  0.294062 -0.019284\n",
       "9 -1.946265  0.025824\n",
       "0  1.240836  0.875071\n",
       "1 -0.605906 -0.719338\n",
       "2 -0.824265 -1.586706\n",
       "3 -0.875269  0.972054\n",
       "4  1.078175 -1.077085\n",
       "5  0.107128 -1.172883\n",
       "6  1.610326 -0.486428\n",
       "7  1.820736 -0.969288\n",
       "8  0.454974 -0.739986\n",
       "9 -1.267807 -0.191708"
      ]
     },
     "execution_count": 142,
     "metadata": {},
     "output_type": "execute_result"
    }
   ],
   "source": [
    "df = pd.DataFrame(np.random.randn(10,2))\n",
    "df2 = pd.DataFrame(np.random.randn(10,2))\n",
    "pieces = [df[:], df2[:]]\n",
    "pd.concat(pieces)"
   ]
  },
  {
   "cell_type": "code",
   "execution_count": null,
   "metadata": {},
   "outputs": [],
   "source": []
  },
  {
   "cell_type": "markdown",
   "metadata": {},
   "source": [
    "---\n",
    "## 3.7 - Agrupar datos\n",
    "\n",
    "En Python, la agrupación se refiere a:\n",
    "- Separar los datos en grupos basandose en un criterio.\n",
    "- Aplicar una función a cada grupo independientemente.\n",
    "- Combinar los resultados en una estructura de datos.\n",
    "A continuación un ejemplo de agrupación aplicando una suma a los datos:"
   ]
  },
  {
   "cell_type": "code",
   "execution_count": 143,
   "metadata": {},
   "outputs": [
    {
     "data": {
      "text/html": [
       "<div>\n",
       "<style scoped>\n",
       "    .dataframe tbody tr th:only-of-type {\n",
       "        vertical-align: middle;\n",
       "    }\n",
       "\n",
       "    .dataframe tbody tr th {\n",
       "        vertical-align: top;\n",
       "    }\n",
       "\n",
       "    .dataframe thead th {\n",
       "        text-align: right;\n",
       "    }\n",
       "</style>\n",
       "<table border=\"1\" class=\"dataframe\">\n",
       "  <thead>\n",
       "    <tr style=\"text-align: right;\">\n",
       "      <th></th>\n",
       "      <th>A</th>\n",
       "      <th>B</th>\n",
       "      <th>C</th>\n",
       "      <th>D</th>\n",
       "    </tr>\n",
       "  </thead>\n",
       "  <tbody>\n",
       "    <tr>\n",
       "      <th>0</th>\n",
       "      <td>foo</td>\n",
       "      <td>one</td>\n",
       "      <td>-0.142607</td>\n",
       "      <td>0.648502</td>\n",
       "    </tr>\n",
       "    <tr>\n",
       "      <th>1</th>\n",
       "      <td>bar</td>\n",
       "      <td>one</td>\n",
       "      <td>-0.722310</td>\n",
       "      <td>-1.143858</td>\n",
       "    </tr>\n",
       "    <tr>\n",
       "      <th>2</th>\n",
       "      <td>foo</td>\n",
       "      <td>two</td>\n",
       "      <td>0.139778</td>\n",
       "      <td>-1.313456</td>\n",
       "    </tr>\n",
       "    <tr>\n",
       "      <th>3</th>\n",
       "      <td>bar</td>\n",
       "      <td>three</td>\n",
       "      <td>-2.288673</td>\n",
       "      <td>0.232728</td>\n",
       "    </tr>\n",
       "    <tr>\n",
       "      <th>4</th>\n",
       "      <td>foo</td>\n",
       "      <td>two</td>\n",
       "      <td>1.110147</td>\n",
       "      <td>-1.641392</td>\n",
       "    </tr>\n",
       "    <tr>\n",
       "      <th>5</th>\n",
       "      <td>bar</td>\n",
       "      <td>two</td>\n",
       "      <td>-0.008290</td>\n",
       "      <td>-1.371454</td>\n",
       "    </tr>\n",
       "    <tr>\n",
       "      <th>6</th>\n",
       "      <td>foo</td>\n",
       "      <td>one</td>\n",
       "      <td>-0.149783</td>\n",
       "      <td>0.942481</td>\n",
       "    </tr>\n",
       "    <tr>\n",
       "      <th>7</th>\n",
       "      <td>foo</td>\n",
       "      <td>three</td>\n",
       "      <td>0.495100</td>\n",
       "      <td>0.158854</td>\n",
       "    </tr>\n",
       "  </tbody>\n",
       "</table>\n",
       "</div>"
      ],
      "text/plain": [
       "     A      B         C         D\n",
       "0  foo    one -0.142607  0.648502\n",
       "1  bar    one -0.722310 -1.143858\n",
       "2  foo    two  0.139778 -1.313456\n",
       "3  bar  three -2.288673  0.232728\n",
       "4  foo    two  1.110147 -1.641392\n",
       "5  bar    two -0.008290 -1.371454\n",
       "6  foo    one -0.149783  0.942481\n",
       "7  foo  three  0.495100  0.158854"
      ]
     },
     "execution_count": 143,
     "metadata": {},
     "output_type": "execute_result"
    }
   ],
   "source": [
    "df = pd.DataFrame({'A': ['foo', 'bar', 'foo', 'bar', 'foo',\n",
    "                         'bar', 'foo', 'foo'],\n",
    "                  'B': ['one', 'one', 'two', 'three', 'two',\n",
    "                       'two', 'one', 'three'],\n",
    "                  'C': np.random.randn(8),\n",
    "                  'D': np.random.randn(8)})\n",
    "df"
   ]
  },
  {
   "cell_type": "code",
   "execution_count": 144,
   "metadata": {},
   "outputs": [
    {
     "data": {
      "text/html": [
       "<div>\n",
       "<style scoped>\n",
       "    .dataframe tbody tr th:only-of-type {\n",
       "        vertical-align: middle;\n",
       "    }\n",
       "\n",
       "    .dataframe tbody tr th {\n",
       "        vertical-align: top;\n",
       "    }\n",
       "\n",
       "    .dataframe thead th {\n",
       "        text-align: right;\n",
       "    }\n",
       "</style>\n",
       "<table border=\"1\" class=\"dataframe\">\n",
       "  <thead>\n",
       "    <tr style=\"text-align: right;\">\n",
       "      <th></th>\n",
       "      <th>C</th>\n",
       "      <th>D</th>\n",
       "    </tr>\n",
       "    <tr>\n",
       "      <th>A</th>\n",
       "      <th></th>\n",
       "      <th></th>\n",
       "    </tr>\n",
       "  </thead>\n",
       "  <tbody>\n",
       "    <tr>\n",
       "      <th>bar</th>\n",
       "      <td>-3.019273</td>\n",
       "      <td>-2.282583</td>\n",
       "    </tr>\n",
       "    <tr>\n",
       "      <th>foo</th>\n",
       "      <td>1.452635</td>\n",
       "      <td>-1.205011</td>\n",
       "    </tr>\n",
       "  </tbody>\n",
       "</table>\n",
       "</div>"
      ],
      "text/plain": [
       "            C         D\n",
       "A                      \n",
       "bar -3.019273 -2.282583\n",
       "foo  1.452635 -1.205011"
      ]
     },
     "execution_count": 144,
     "metadata": {},
     "output_type": "execute_result"
    }
   ],
   "source": [
    "df.groupby('A').sum()"
   ]
  },
  {
   "cell_type": "code",
   "execution_count": 145,
   "metadata": {},
   "outputs": [
    {
     "data": {
      "text/html": [
       "<div>\n",
       "<style scoped>\n",
       "    .dataframe tbody tr th:only-of-type {\n",
       "        vertical-align: middle;\n",
       "    }\n",
       "\n",
       "    .dataframe tbody tr th {\n",
       "        vertical-align: top;\n",
       "    }\n",
       "\n",
       "    .dataframe thead th {\n",
       "        text-align: right;\n",
       "    }\n",
       "</style>\n",
       "<table border=\"1\" class=\"dataframe\">\n",
       "  <thead>\n",
       "    <tr style=\"text-align: right;\">\n",
       "      <th></th>\n",
       "      <th></th>\n",
       "      <th>C</th>\n",
       "      <th>D</th>\n",
       "    </tr>\n",
       "    <tr>\n",
       "      <th>A</th>\n",
       "      <th>B</th>\n",
       "      <th></th>\n",
       "      <th></th>\n",
       "    </tr>\n",
       "  </thead>\n",
       "  <tbody>\n",
       "    <tr>\n",
       "      <th rowspan=\"3\" valign=\"top\">bar</th>\n",
       "      <th>one</th>\n",
       "      <td>-0.722310</td>\n",
       "      <td>-1.143858</td>\n",
       "    </tr>\n",
       "    <tr>\n",
       "      <th>three</th>\n",
       "      <td>-2.288673</td>\n",
       "      <td>0.232728</td>\n",
       "    </tr>\n",
       "    <tr>\n",
       "      <th>two</th>\n",
       "      <td>-0.008290</td>\n",
       "      <td>-1.371454</td>\n",
       "    </tr>\n",
       "    <tr>\n",
       "      <th rowspan=\"3\" valign=\"top\">foo</th>\n",
       "      <th>one</th>\n",
       "      <td>-0.292390</td>\n",
       "      <td>1.590983</td>\n",
       "    </tr>\n",
       "    <tr>\n",
       "      <th>three</th>\n",
       "      <td>0.495100</td>\n",
       "      <td>0.158854</td>\n",
       "    </tr>\n",
       "    <tr>\n",
       "      <th>two</th>\n",
       "      <td>1.249925</td>\n",
       "      <td>-2.954848</td>\n",
       "    </tr>\n",
       "  </tbody>\n",
       "</table>\n",
       "</div>"
      ],
      "text/plain": [
       "                  C         D\n",
       "A   B                        \n",
       "bar one   -0.722310 -1.143858\n",
       "    three -2.288673  0.232728\n",
       "    two   -0.008290 -1.371454\n",
       "foo one   -0.292390  1.590983\n",
       "    three  0.495100  0.158854\n",
       "    two    1.249925 -2.954848"
      ]
     },
     "execution_count": 145,
     "metadata": {},
     "output_type": "execute_result"
    }
   ],
   "source": [
    "df.groupby(['A', 'B']).sum()"
   ]
  },
  {
   "cell_type": "markdown",
   "metadata": {},
   "source": [
    "---\n",
    "## 3.8 - Reacomodar datos\n",
    "\n",
    "En Python, una forma de reacomodar los datos es comprimiendolos mediante el comando `stack`:"
   ]
  },
  {
   "cell_type": "code",
   "execution_count": 146,
   "metadata": {},
   "outputs": [
    {
     "data": {
      "text/plain": [
       "0  A           foo\n",
       "   B           one\n",
       "   C     -0.142607\n",
       "   D      0.648502\n",
       "1  A           bar\n",
       "   B           one\n",
       "   C      -0.72231\n",
       "   D      -1.14386\n",
       "2  A           foo\n",
       "   B           two\n",
       "   C      0.139778\n",
       "   D      -1.31346\n",
       "3  A           bar\n",
       "   B         three\n",
       "   C      -2.28867\n",
       "   D      0.232728\n",
       "4  A           foo\n",
       "   B           two\n",
       "   C       1.11015\n",
       "   D      -1.64139\n",
       "5  A           bar\n",
       "   B           two\n",
       "   C   -0.00829022\n",
       "   D      -1.37145\n",
       "6  A           foo\n",
       "   B           one\n",
       "   C     -0.149783\n",
       "   D      0.942481\n",
       "7  A           foo\n",
       "   B         three\n",
       "   C        0.4951\n",
       "   D      0.158854\n",
       "dtype: object"
      ]
     },
     "execution_count": 146,
     "metadata": {},
     "output_type": "execute_result"
    }
   ],
   "source": [
    "stacked = df.stack()\n",
    "stacked"
   ]
  },
  {
   "cell_type": "markdown",
   "metadata": {},
   "source": [
    "También se puede cambiar la forma de ordenar los datos como tablas de pivot:"
   ]
  },
  {
   "cell_type": "code",
   "execution_count": 147,
   "metadata": {},
   "outputs": [
    {
     "data": {
      "text/html": [
       "<div>\n",
       "<style scoped>\n",
       "    .dataframe tbody tr th:only-of-type {\n",
       "        vertical-align: middle;\n",
       "    }\n",
       "\n",
       "    .dataframe tbody tr th {\n",
       "        vertical-align: top;\n",
       "    }\n",
       "\n",
       "    .dataframe thead th {\n",
       "        text-align: right;\n",
       "    }\n",
       "</style>\n",
       "<table border=\"1\" class=\"dataframe\">\n",
       "  <thead>\n",
       "    <tr style=\"text-align: right;\">\n",
       "      <th></th>\n",
       "      <th>A</th>\n",
       "      <th>B</th>\n",
       "      <th>C</th>\n",
       "      <th>D</th>\n",
       "      <th>E</th>\n",
       "    </tr>\n",
       "  </thead>\n",
       "  <tbody>\n",
       "    <tr>\n",
       "      <th>0</th>\n",
       "      <td>one</td>\n",
       "      <td>A</td>\n",
       "      <td>foo</td>\n",
       "      <td>0.238635</td>\n",
       "      <td>-1.649049</td>\n",
       "    </tr>\n",
       "    <tr>\n",
       "      <th>1</th>\n",
       "      <td>one</td>\n",
       "      <td>B</td>\n",
       "      <td>foo</td>\n",
       "      <td>1.347773</td>\n",
       "      <td>-0.519648</td>\n",
       "    </tr>\n",
       "    <tr>\n",
       "      <th>2</th>\n",
       "      <td>two</td>\n",
       "      <td>C</td>\n",
       "      <td>foo</td>\n",
       "      <td>2.193222</td>\n",
       "      <td>-0.517296</td>\n",
       "    </tr>\n",
       "    <tr>\n",
       "      <th>3</th>\n",
       "      <td>three</td>\n",
       "      <td>A</td>\n",
       "      <td>bar</td>\n",
       "      <td>0.144136</td>\n",
       "      <td>0.665141</td>\n",
       "    </tr>\n",
       "    <tr>\n",
       "      <th>4</th>\n",
       "      <td>one</td>\n",
       "      <td>B</td>\n",
       "      <td>bar</td>\n",
       "      <td>-0.214475</td>\n",
       "      <td>-0.298625</td>\n",
       "    </tr>\n",
       "    <tr>\n",
       "      <th>5</th>\n",
       "      <td>one</td>\n",
       "      <td>C</td>\n",
       "      <td>bar</td>\n",
       "      <td>-1.021996</td>\n",
       "      <td>-1.126982</td>\n",
       "    </tr>\n",
       "    <tr>\n",
       "      <th>6</th>\n",
       "      <td>two</td>\n",
       "      <td>A</td>\n",
       "      <td>foo</td>\n",
       "      <td>0.957939</td>\n",
       "      <td>0.133001</td>\n",
       "    </tr>\n",
       "    <tr>\n",
       "      <th>7</th>\n",
       "      <td>three</td>\n",
       "      <td>B</td>\n",
       "      <td>foo</td>\n",
       "      <td>0.236537</td>\n",
       "      <td>-0.245365</td>\n",
       "    </tr>\n",
       "    <tr>\n",
       "      <th>8</th>\n",
       "      <td>one</td>\n",
       "      <td>C</td>\n",
       "      <td>foo</td>\n",
       "      <td>0.160371</td>\n",
       "      <td>-0.606876</td>\n",
       "    </tr>\n",
       "    <tr>\n",
       "      <th>9</th>\n",
       "      <td>one</td>\n",
       "      <td>A</td>\n",
       "      <td>bar</td>\n",
       "      <td>-0.272002</td>\n",
       "      <td>-2.279926</td>\n",
       "    </tr>\n",
       "    <tr>\n",
       "      <th>10</th>\n",
       "      <td>two</td>\n",
       "      <td>B</td>\n",
       "      <td>bar</td>\n",
       "      <td>-0.533063</td>\n",
       "      <td>1.582535</td>\n",
       "    </tr>\n",
       "    <tr>\n",
       "      <th>11</th>\n",
       "      <td>three</td>\n",
       "      <td>C</td>\n",
       "      <td>bar</td>\n",
       "      <td>0.100551</td>\n",
       "      <td>0.123808</td>\n",
       "    </tr>\n",
       "  </tbody>\n",
       "</table>\n",
       "</div>"
      ],
      "text/plain": [
       "        A  B    C         D         E\n",
       "0     one  A  foo  0.238635 -1.649049\n",
       "1     one  B  foo  1.347773 -0.519648\n",
       "2     two  C  foo  2.193222 -0.517296\n",
       "3   three  A  bar  0.144136  0.665141\n",
       "4     one  B  bar -0.214475 -0.298625\n",
       "5     one  C  bar -1.021996 -1.126982\n",
       "6     two  A  foo  0.957939  0.133001\n",
       "7   three  B  foo  0.236537 -0.245365\n",
       "8     one  C  foo  0.160371 -0.606876\n",
       "9     one  A  bar -0.272002 -2.279926\n",
       "10    two  B  bar -0.533063  1.582535\n",
       "11  three  C  bar  0.100551  0.123808"
      ]
     },
     "execution_count": 147,
     "metadata": {},
     "output_type": "execute_result"
    }
   ],
   "source": [
    "df=pd.DataFrame({'A': ['one', 'one', 'two', 'three']*3,\n",
    "                'B': ['A', 'B', 'C']*4,\n",
    "                'C': ['foo', 'foo', 'foo', 'bar', 'bar', 'bar']*2,\n",
    "                'D': np.random.randn(12),\n",
    "                'E': np.random.randn(12)})\n",
    "df"
   ]
  },
  {
   "cell_type": "code",
   "execution_count": 148,
   "metadata": {},
   "outputs": [
    {
     "data": {
      "text/html": [
       "<div>\n",
       "<style scoped>\n",
       "    .dataframe tbody tr th:only-of-type {\n",
       "        vertical-align: middle;\n",
       "    }\n",
       "\n",
       "    .dataframe tbody tr th {\n",
       "        vertical-align: top;\n",
       "    }\n",
       "\n",
       "    .dataframe thead th {\n",
       "        text-align: right;\n",
       "    }\n",
       "</style>\n",
       "<table border=\"1\" class=\"dataframe\">\n",
       "  <thead>\n",
       "    <tr style=\"text-align: right;\">\n",
       "      <th></th>\n",
       "      <th>C</th>\n",
       "      <th>bar</th>\n",
       "      <th>foo</th>\n",
       "    </tr>\n",
       "    <tr>\n",
       "      <th>A</th>\n",
       "      <th>B</th>\n",
       "      <th></th>\n",
       "      <th></th>\n",
       "    </tr>\n",
       "  </thead>\n",
       "  <tbody>\n",
       "    <tr>\n",
       "      <th rowspan=\"3\" valign=\"top\">one</th>\n",
       "      <th>A</th>\n",
       "      <td>-0.272002</td>\n",
       "      <td>0.238635</td>\n",
       "    </tr>\n",
       "    <tr>\n",
       "      <th>B</th>\n",
       "      <td>-0.214475</td>\n",
       "      <td>1.347773</td>\n",
       "    </tr>\n",
       "    <tr>\n",
       "      <th>C</th>\n",
       "      <td>-1.021996</td>\n",
       "      <td>0.160371</td>\n",
       "    </tr>\n",
       "    <tr>\n",
       "      <th rowspan=\"3\" valign=\"top\">three</th>\n",
       "      <th>A</th>\n",
       "      <td>0.144136</td>\n",
       "      <td>NaN</td>\n",
       "    </tr>\n",
       "    <tr>\n",
       "      <th>B</th>\n",
       "      <td>NaN</td>\n",
       "      <td>0.236537</td>\n",
       "    </tr>\n",
       "    <tr>\n",
       "      <th>C</th>\n",
       "      <td>0.100551</td>\n",
       "      <td>NaN</td>\n",
       "    </tr>\n",
       "    <tr>\n",
       "      <th rowspan=\"3\" valign=\"top\">two</th>\n",
       "      <th>A</th>\n",
       "      <td>NaN</td>\n",
       "      <td>0.957939</td>\n",
       "    </tr>\n",
       "    <tr>\n",
       "      <th>B</th>\n",
       "      <td>-0.533063</td>\n",
       "      <td>NaN</td>\n",
       "    </tr>\n",
       "    <tr>\n",
       "      <th>C</th>\n",
       "      <td>NaN</td>\n",
       "      <td>2.193222</td>\n",
       "    </tr>\n",
       "  </tbody>\n",
       "</table>\n",
       "</div>"
      ],
      "text/plain": [
       "C             bar       foo\n",
       "A     B                    \n",
       "one   A -0.272002  0.238635\n",
       "      B -0.214475  1.347773\n",
       "      C -1.021996  0.160371\n",
       "three A  0.144136       NaN\n",
       "      B       NaN  0.236537\n",
       "      C  0.100551       NaN\n",
       "two   A       NaN  0.957939\n",
       "      B -0.533063       NaN\n",
       "      C       NaN  2.193222"
      ]
     },
     "execution_count": 148,
     "metadata": {},
     "output_type": "execute_result"
    }
   ],
   "source": [
    "pd.pivot_table(df, values='D', index=['A', 'B'], columns=['C'])"
   ]
  },
  {
   "cell_type": "markdown",
   "metadata": {},
   "source": [
    "---\n",
    "## 3.9 - Series de tiempo\n",
    "\n",
    "En Python, la asignación de series de tiempo permite generar secuencias con una frecuencia fija y un lapso de tiempo, como por ejemplo:"
   ]
  },
  {
   "cell_type": "code",
   "execution_count": 156,
   "metadata": {},
   "outputs": [
    {
     "data": {
      "text/plain": [
       "DatetimeIndex(['2020-01-05 00:00:00', '2020-01-05 01:00:00',\n",
       "               '2020-01-05 02:00:00'],\n",
       "              dtype='datetime64[ns]', freq='H')"
      ]
     },
     "execution_count": 156,
     "metadata": {},
     "output_type": "execute_result"
    }
   ],
   "source": [
    "dti = pd.date_range('1-5-2020', periods=3, freq='H')\n",
    "dti"
   ]
  },
  {
   "cell_type": "markdown",
   "metadata": {},
   "source": [
    "Cuya hora se puede convertir a una zona horaria diferente, como Central Time:"
   ]
  },
  {
   "cell_type": "code",
   "execution_count": 159,
   "metadata": {},
   "outputs": [
    {
     "data": {
      "text/plain": [
       "DatetimeIndex(['2020-01-05 00:00:00+00:00', '2020-01-05 01:00:00+00:00',\n",
       "               '2020-01-05 02:00:00+00:00'],\n",
       "              dtype='datetime64[ns, UTC]', freq='H')"
      ]
     },
     "execution_count": 159,
     "metadata": {},
     "output_type": "execute_result"
    }
   ],
   "source": [
    "dti = dti.tz_localize('UTC')\n",
    "dti"
   ]
  },
  {
   "cell_type": "markdown",
   "metadata": {},
   "source": [
    "O el Pacífico de los Estados Unidos:"
   ]
  },
  {
   "cell_type": "code",
   "execution_count": 167,
   "metadata": {},
   "outputs": [
    {
     "data": {
      "text/plain": [
       "DatetimeIndex(['2020-01-04 16:00:00-08:00', '2020-01-04 17:00:00-08:00',\n",
       "               '2020-01-04 18:00:00-08:00'],\n",
       "              dtype='datetime64[ns, US/Pacific]', freq='H')"
      ]
     },
     "execution_count": 167,
     "metadata": {},
     "output_type": "execute_result"
    }
   ],
   "source": [
    "dti.tz_convert('US/Pacific')"
   ]
  },
  {
   "cell_type": "markdown",
   "metadata": {},
   "source": [
    "También se pueden convertir una serie de tiempo a una frecuencia particular:"
   ]
  },
  {
   "cell_type": "code",
   "execution_count": 168,
   "metadata": {},
   "outputs": [
    {
     "data": {
      "text/plain": [
       "2020-05-01 00:00:00    0\n",
       "2020-05-01 01:00:00    1\n",
       "2020-05-01 02:00:00    2\n",
       "2020-05-01 03:00:00    3\n",
       "2020-05-01 04:00:00    4\n",
       "Freq: H, dtype: int64"
      ]
     },
     "execution_count": 168,
     "metadata": {},
     "output_type": "execute_result"
    }
   ],
   "source": [
    "idx = pd.date_range('2020-05-01', periods=5, freq='H')\n",
    "ts = pd.Series(range(len(idx)), index=idx)\n",
    "ts"
   ]
  },
  {
   "cell_type": "code",
   "execution_count": 169,
   "metadata": {},
   "outputs": [
    {
     "data": {
      "text/plain": [
       "2020-05-01 00:00:00    0.5\n",
       "2020-05-01 02:00:00    2.5\n",
       "2020-05-01 04:00:00    4.0\n",
       "Freq: 2H, dtype: float64"
      ]
     },
     "execution_count": 169,
     "metadata": {},
     "output_type": "execute_result"
    }
   ],
   "source": [
    "ts.resample('2H').mean()"
   ]
  },
  {
   "cell_type": "markdown",
   "metadata": {},
   "source": [
    "---\n",
    "## 3.10 - Gráficas\n",
    "\n",
    "En Python, se utiliza la asignación estándar para utilizar los comandos del API de `matplotlib`, con el cuál se puede graficar una `Serie` de datos:"
   ]
  },
  {
   "cell_type": "code",
   "execution_count": 173,
   "metadata": {},
   "outputs": [
    {
     "data": {
      "text/plain": [
       "<matplotlib.axes._subplots.AxesSubplot at 0x26cc46c26d8>"
      ]
     },
     "execution_count": 173,
     "metadata": {},
     "output_type": "execute_result"
    },
    {
     "data": {
      "image/png": "[encoded data removed]",
      "text/plain": [
       "<Figure size 432x288 with 1 Axes>"
      ]
     },
     "metadata": {
      "needs_background": "light"
     },
     "output_type": "display_data"
    }
   ],
   "source": [
    "import matplotlib.pyplot as plt\n",
    "plt.close('all')\n",
    "ts = pd.Series(np.random.randn(1000),\n",
    "              index=pd.date_range('1/5/2020', periods=1000))\n",
    "ts = ts.cumsum()\n",
    "ts.plot()"
   ]
  },
  {
   "cell_type": "markdown",
   "metadata": {},
   "source": [
    "También se pueden graficar arreglos del tipo `DataFrame` de manera que se grafican varias curvas en una misma gráfica como se muestra a continuación:"
   ]
  },
  {
   "cell_type": "code",
   "execution_count": 172,
   "metadata": {
    "scrolled": true
   },
   "outputs": [
    {
     "data": {
      "text/plain": [
       "<matplotlib.legend.Legend at 0x26cc45b70b8>"
      ]
     },
     "execution_count": 172,
     "metadata": {},
     "output_type": "execute_result"
    },
    {
     "data": {
      "text/plain": [
       "<Figure size 432x288 with 0 Axes>"
      ]
     },
     "metadata": {},
     "output_type": "display_data"
    },
    {
     "data": {
      "image/png": "[encoded data removed]",
      "text/plain": [
       "<Figure size 432x288 with 1 Axes>"
      ]
     },
     "metadata": {
      "needs_background": "light"
     },
     "output_type": "display_data"
    }
   ],
   "source": [
    "df = pd.DataFrame(np.random.randn(1000, 4), index=ts.index,\n",
    "                 columns=['A', 'B', 'C', 'D'])\n",
    "df=df.cumsum()\n",
    "plt.figure()\n",
    "df.plot()\n",
    "plt.legend(loc='best')"
   ]
  },
  {
   "cell_type": "markdown",
   "metadata": {},
   "source": [
    "---\n",
    "## 3.11 - Importar y exportar datos\n",
    "\n",
    "En Python, se puede escribir en un archivo de excel mediante el siguiente comando:"
   ]
  },
  {
   "cell_type": "code",
   "execution_count": 195,
   "metadata": {
    "scrolled": true
   },
   "outputs": [],
   "source": [
    "df.to_csv('modelos')"
   ]
  },
  {
   "cell_type": "markdown",
   "metadata": {},
   "source": [
    "Cuyo contenido se puede llamar desde python utilizando el comando:"
   ]
  },
  {
   "cell_type": "code",
   "execution_count": 196,
   "metadata": {},
   "outputs": [
    {
     "data": {
      "text/html": [
       "<div>\n",
       "<style scoped>\n",
       "    .dataframe tbody tr th:only-of-type {\n",
       "        vertical-align: middle;\n",
       "    }\n",
       "\n",
       "    .dataframe tbody tr th {\n",
       "        vertical-align: top;\n",
       "    }\n",
       "\n",
       "    .dataframe thead th {\n",
       "        text-align: right;\n",
       "    }\n",
       "</style>\n",
       "<table border=\"1\" class=\"dataframe\">\n",
       "  <thead>\n",
       "    <tr style=\"text-align: right;\">\n",
       "      <th></th>\n",
       "      <th>Unnamed: 0</th>\n",
       "      <th>A</th>\n",
       "      <th>B</th>\n",
       "      <th>C</th>\n",
       "      <th>D</th>\n",
       "    </tr>\n",
       "  </thead>\n",
       "  <tbody>\n",
       "    <tr>\n",
       "      <th>0</th>\n",
       "      <td>2020-01-05</td>\n",
       "      <td>1.578467</td>\n",
       "      <td>1.046580</td>\n",
       "      <td>0.768684</td>\n",
       "      <td>0.120352</td>\n",
       "    </tr>\n",
       "    <tr>\n",
       "      <th>1</th>\n",
       "      <td>2020-01-06</td>\n",
       "      <td>1.108046</td>\n",
       "      <td>0.834367</td>\n",
       "      <td>0.039375</td>\n",
       "      <td>-1.132746</td>\n",
       "    </tr>\n",
       "    <tr>\n",
       "      <th>2</th>\n",
       "      <td>2020-01-07</td>\n",
       "      <td>-0.140812</td>\n",
       "      <td>0.781934</td>\n",
       "      <td>1.078894</td>\n",
       "      <td>-1.306276</td>\n",
       "    </tr>\n",
       "    <tr>\n",
       "      <th>3</th>\n",
       "      <td>2020-01-08</td>\n",
       "      <td>-0.966631</td>\n",
       "      <td>1.684931</td>\n",
       "      <td>2.266512</td>\n",
       "      <td>-2.280685</td>\n",
       "    </tr>\n",
       "    <tr>\n",
       "      <th>4</th>\n",
       "      <td>2020-01-09</td>\n",
       "      <td>-2.159600</td>\n",
       "      <td>2.633410</td>\n",
       "      <td>1.508797</td>\n",
       "      <td>-3.029249</td>\n",
       "    </tr>\n",
       "    <tr>\n",
       "      <th>5</th>\n",
       "      <td>2020-01-10</td>\n",
       "      <td>-1.509164</td>\n",
       "      <td>0.965633</td>\n",
       "      <td>0.750043</td>\n",
       "      <td>-4.698713</td>\n",
       "    </tr>\n",
       "    <tr>\n",
       "      <th>6</th>\n",
       "      <td>2020-01-11</td>\n",
       "      <td>-2.430032</td>\n",
       "      <td>1.558558</td>\n",
       "      <td>1.211158</td>\n",
       "      <td>-3.414235</td>\n",
       "    </tr>\n",
       "    <tr>\n",
       "      <th>7</th>\n",
       "      <td>2020-01-12</td>\n",
       "      <td>-2.334888</td>\n",
       "      <td>1.917398</td>\n",
       "      <td>1.115480</td>\n",
       "      <td>-2.433254</td>\n",
       "    </tr>\n",
       "    <tr>\n",
       "      <th>8</th>\n",
       "      <td>2020-01-13</td>\n",
       "      <td>-2.149272</td>\n",
       "      <td>1.523294</td>\n",
       "      <td>2.672400</td>\n",
       "      <td>-1.024708</td>\n",
       "    </tr>\n",
       "    <tr>\n",
       "      <th>9</th>\n",
       "      <td>2020-01-14</td>\n",
       "      <td>-2.454048</td>\n",
       "      <td>2.635852</td>\n",
       "      <td>2.882226</td>\n",
       "      <td>-0.211721</td>\n",
       "    </tr>\n",
       "    <tr>\n",
       "      <th>10</th>\n",
       "      <td>2020-01-15</td>\n",
       "      <td>-2.165491</td>\n",
       "      <td>-0.055398</td>\n",
       "      <td>0.479567</td>\n",
       "      <td>-0.736584</td>\n",
       "    </tr>\n",
       "    <tr>\n",
       "      <th>11</th>\n",
       "      <td>2020-01-16</td>\n",
       "      <td>-0.416559</td>\n",
       "      <td>-0.232021</td>\n",
       "      <td>1.299065</td>\n",
       "      <td>-1.373169</td>\n",
       "    </tr>\n",
       "    <tr>\n",
       "      <th>12</th>\n",
       "      <td>2020-01-17</td>\n",
       "      <td>-0.873942</td>\n",
       "      <td>-1.921314</td>\n",
       "      <td>-0.023873</td>\n",
       "      <td>-1.491766</td>\n",
       "    </tr>\n",
       "    <tr>\n",
       "      <th>13</th>\n",
       "      <td>2020-01-18</td>\n",
       "      <td>-1.161795</td>\n",
       "      <td>-1.892790</td>\n",
       "      <td>0.703275</td>\n",
       "      <td>0.270877</td>\n",
       "    </tr>\n",
       "    <tr>\n",
       "      <th>14</th>\n",
       "      <td>2020-01-19</td>\n",
       "      <td>-1.824923</td>\n",
       "      <td>-0.865084</td>\n",
       "      <td>-0.574296</td>\n",
       "      <td>-0.610749</td>\n",
       "    </tr>\n",
       "    <tr>\n",
       "      <th>15</th>\n",
       "      <td>2020-01-20</td>\n",
       "      <td>-1.006330</td>\n",
       "      <td>-1.408963</td>\n",
       "      <td>-0.101303</td>\n",
       "      <td>0.071515</td>\n",
       "    </tr>\n",
       "    <tr>\n",
       "      <th>16</th>\n",
       "      <td>2020-01-21</td>\n",
       "      <td>-0.191228</td>\n",
       "      <td>-2.678507</td>\n",
       "      <td>-0.059074</td>\n",
       "      <td>0.739813</td>\n",
       "    </tr>\n",
       "    <tr>\n",
       "      <th>17</th>\n",
       "      <td>2020-01-22</td>\n",
       "      <td>-0.755026</td>\n",
       "      <td>-3.403722</td>\n",
       "      <td>-0.754532</td>\n",
       "      <td>1.899027</td>\n",
       "    </tr>\n",
       "    <tr>\n",
       "      <th>18</th>\n",
       "      <td>2020-01-23</td>\n",
       "      <td>-0.977193</td>\n",
       "      <td>-2.992242</td>\n",
       "      <td>-1.137862</td>\n",
       "      <td>2.573239</td>\n",
       "    </tr>\n",
       "    <tr>\n",
       "      <th>19</th>\n",
       "      <td>2020-01-24</td>\n",
       "      <td>-0.353020</td>\n",
       "      <td>-1.855000</td>\n",
       "      <td>-0.920970</td>\n",
       "      <td>3.146057</td>\n",
       "    </tr>\n",
       "    <tr>\n",
       "      <th>20</th>\n",
       "      <td>2020-01-25</td>\n",
       "      <td>-1.279944</td>\n",
       "      <td>-0.478033</td>\n",
       "      <td>1.050079</td>\n",
       "      <td>2.964648</td>\n",
       "    </tr>\n",
       "    <tr>\n",
       "      <th>21</th>\n",
       "      <td>2020-01-26</td>\n",
       "      <td>-2.329142</td>\n",
       "      <td>-0.979825</td>\n",
       "      <td>0.342908</td>\n",
       "      <td>1.880950</td>\n",
       "    </tr>\n",
       "    <tr>\n",
       "      <th>22</th>\n",
       "      <td>2020-01-27</td>\n",
       "      <td>-2.242891</td>\n",
       "      <td>-1.470713</td>\n",
       "      <td>0.892054</td>\n",
       "      <td>1.942400</td>\n",
       "    </tr>\n",
       "    <tr>\n",
       "      <th>23</th>\n",
       "      <td>2020-01-28</td>\n",
       "      <td>-1.604429</td>\n",
       "      <td>-1.280500</td>\n",
       "      <td>-0.346008</td>\n",
       "      <td>3.686122</td>\n",
       "    </tr>\n",
       "    <tr>\n",
       "      <th>24</th>\n",
       "      <td>2020-01-29</td>\n",
       "      <td>-2.824818</td>\n",
       "      <td>-0.905345</td>\n",
       "      <td>-0.621565</td>\n",
       "      <td>3.480333</td>\n",
       "    </tr>\n",
       "    <tr>\n",
       "      <th>25</th>\n",
       "      <td>2020-01-30</td>\n",
       "      <td>-2.137904</td>\n",
       "      <td>-1.402051</td>\n",
       "      <td>-0.687897</td>\n",
       "      <td>4.141557</td>\n",
       "    </tr>\n",
       "    <tr>\n",
       "      <th>26</th>\n",
       "      <td>2020-01-31</td>\n",
       "      <td>-2.913254</td>\n",
       "      <td>-1.041746</td>\n",
       "      <td>-1.479314</td>\n",
       "      <td>5.041481</td>\n",
       "    </tr>\n",
       "    <tr>\n",
       "      <th>27</th>\n",
       "      <td>2020-02-01</td>\n",
       "      <td>-1.491853</td>\n",
       "      <td>-0.255722</td>\n",
       "      <td>-1.247728</td>\n",
       "      <td>5.237051</td>\n",
       "    </tr>\n",
       "    <tr>\n",
       "      <th>28</th>\n",
       "      <td>2020-02-02</td>\n",
       "      <td>-2.161689</td>\n",
       "      <td>-0.865640</td>\n",
       "      <td>-0.623125</td>\n",
       "      <td>5.295940</td>\n",
       "    </tr>\n",
       "    <tr>\n",
       "      <th>29</th>\n",
       "      <td>2020-02-03</td>\n",
       "      <td>-2.129531</td>\n",
       "      <td>-0.945636</td>\n",
       "      <td>0.867187</td>\n",
       "      <td>6.362913</td>\n",
       "    </tr>\n",
       "    <tr>\n",
       "      <th>...</th>\n",
       "      <td>...</td>\n",
       "      <td>...</td>\n",
       "      <td>...</td>\n",
       "      <td>...</td>\n",
       "      <td>...</td>\n",
       "    </tr>\n",
       "    <tr>\n",
       "      <th>970</th>\n",
       "      <td>2022-09-01</td>\n",
       "      <td>-10.874750</td>\n",
       "      <td>92.372976</td>\n",
       "      <td>39.661092</td>\n",
       "      <td>-0.926267</td>\n",
       "    </tr>\n",
       "    <tr>\n",
       "      <th>971</th>\n",
       "      <td>2022-09-02</td>\n",
       "      <td>-10.440899</td>\n",
       "      <td>91.117663</td>\n",
       "      <td>39.343784</td>\n",
       "      <td>-0.884632</td>\n",
       "    </tr>\n",
       "    <tr>\n",
       "      <th>972</th>\n",
       "      <td>2022-09-03</td>\n",
       "      <td>-11.822770</td>\n",
       "      <td>90.844290</td>\n",
       "      <td>39.150430</td>\n",
       "      <td>-1.308328</td>\n",
       "    </tr>\n",
       "    <tr>\n",
       "      <th>973</th>\n",
       "      <td>2022-09-04</td>\n",
       "      <td>-11.006262</td>\n",
       "      <td>91.142225</td>\n",
       "      <td>38.300498</td>\n",
       "      <td>1.085970</td>\n",
       "    </tr>\n",
       "    <tr>\n",
       "      <th>974</th>\n",
       "      <td>2022-09-05</td>\n",
       "      <td>-10.520548</td>\n",
       "      <td>89.777157</td>\n",
       "      <td>37.050230</td>\n",
       "      <td>1.613701</td>\n",
       "    </tr>\n",
       "    <tr>\n",
       "      <th>975</th>\n",
       "      <td>2022-09-06</td>\n",
       "      <td>-11.049245</td>\n",
       "      <td>89.097602</td>\n",
       "      <td>36.708397</td>\n",
       "      <td>-0.326266</td>\n",
       "    </tr>\n",
       "    <tr>\n",
       "      <th>976</th>\n",
       "      <td>2022-09-07</td>\n",
       "      <td>-11.191770</td>\n",
       "      <td>89.734386</td>\n",
       "      <td>37.264677</td>\n",
       "      <td>-1.250699</td>\n",
       "    </tr>\n",
       "    <tr>\n",
       "      <th>977</th>\n",
       "      <td>2022-09-08</td>\n",
       "      <td>-10.317456</td>\n",
       "      <td>89.489201</td>\n",
       "      <td>36.696866</td>\n",
       "      <td>0.141228</td>\n",
       "    </tr>\n",
       "    <tr>\n",
       "      <th>978</th>\n",
       "      <td>2022-09-09</td>\n",
       "      <td>-10.043643</td>\n",
       "      <td>90.109166</td>\n",
       "      <td>36.102156</td>\n",
       "      <td>0.083595</td>\n",
       "    </tr>\n",
       "    <tr>\n",
       "      <th>979</th>\n",
       "      <td>2022-09-10</td>\n",
       "      <td>-9.542498</td>\n",
       "      <td>91.782210</td>\n",
       "      <td>36.638285</td>\n",
       "      <td>1.062556</td>\n",
       "    </tr>\n",
       "    <tr>\n",
       "      <th>980</th>\n",
       "      <td>2022-09-11</td>\n",
       "      <td>-9.423081</td>\n",
       "      <td>92.234668</td>\n",
       "      <td>36.998393</td>\n",
       "      <td>-0.231482</td>\n",
       "    </tr>\n",
       "    <tr>\n",
       "      <th>981</th>\n",
       "      <td>2022-09-12</td>\n",
       "      <td>-9.741774</td>\n",
       "      <td>92.204833</td>\n",
       "      <td>35.942913</td>\n",
       "      <td>-1.131151</td>\n",
       "    </tr>\n",
       "    <tr>\n",
       "      <th>982</th>\n",
       "      <td>2022-09-13</td>\n",
       "      <td>-10.833060</td>\n",
       "      <td>93.852863</td>\n",
       "      <td>33.688774</td>\n",
       "      <td>-2.349279</td>\n",
       "    </tr>\n",
       "    <tr>\n",
       "      <th>983</th>\n",
       "      <td>2022-09-14</td>\n",
       "      <td>-11.368128</td>\n",
       "      <td>92.721717</td>\n",
       "      <td>32.330965</td>\n",
       "      <td>-2.525765</td>\n",
       "    </tr>\n",
       "    <tr>\n",
       "      <th>984</th>\n",
       "      <td>2022-09-15</td>\n",
       "      <td>-11.937107</td>\n",
       "      <td>93.166477</td>\n",
       "      <td>33.018993</td>\n",
       "      <td>-2.917463</td>\n",
       "    </tr>\n",
       "    <tr>\n",
       "      <th>985</th>\n",
       "      <td>2022-09-16</td>\n",
       "      <td>-11.055192</td>\n",
       "      <td>92.911454</td>\n",
       "      <td>33.091041</td>\n",
       "      <td>-2.707646</td>\n",
       "    </tr>\n",
       "    <tr>\n",
       "      <th>986</th>\n",
       "      <td>2022-09-17</td>\n",
       "      <td>-12.126252</td>\n",
       "      <td>92.535830</td>\n",
       "      <td>33.140271</td>\n",
       "      <td>-2.837427</td>\n",
       "    </tr>\n",
       "    <tr>\n",
       "      <th>987</th>\n",
       "      <td>2022-09-18</td>\n",
       "      <td>-12.908971</td>\n",
       "      <td>92.478721</td>\n",
       "      <td>32.305180</td>\n",
       "      <td>-3.397401</td>\n",
       "    </tr>\n",
       "    <tr>\n",
       "      <th>988</th>\n",
       "      <td>2022-09-19</td>\n",
       "      <td>-15.452968</td>\n",
       "      <td>93.749104</td>\n",
       "      <td>34.445637</td>\n",
       "      <td>-3.692844</td>\n",
       "    </tr>\n",
       "    <tr>\n",
       "      <th>989</th>\n",
       "      <td>2022-09-20</td>\n",
       "      <td>-14.534499</td>\n",
       "      <td>93.799698</td>\n",
       "      <td>34.053353</td>\n",
       "      <td>-3.875581</td>\n",
       "    </tr>\n",
       "    <tr>\n",
       "      <th>990</th>\n",
       "      <td>2022-09-21</td>\n",
       "      <td>-14.672913</td>\n",
       "      <td>94.801115</td>\n",
       "      <td>34.485189</td>\n",
       "      <td>-4.235191</td>\n",
       "    </tr>\n",
       "    <tr>\n",
       "      <th>991</th>\n",
       "      <td>2022-09-22</td>\n",
       "      <td>-14.463419</td>\n",
       "      <td>93.843664</td>\n",
       "      <td>35.431698</td>\n",
       "      <td>-3.119905</td>\n",
       "    </tr>\n",
       "    <tr>\n",
       "      <th>992</th>\n",
       "      <td>2022-09-23</td>\n",
       "      <td>-13.455968</td>\n",
       "      <td>94.274966</td>\n",
       "      <td>34.556554</td>\n",
       "      <td>-4.086026</td>\n",
       "    </tr>\n",
       "    <tr>\n",
       "      <th>993</th>\n",
       "      <td>2022-09-24</td>\n",
       "      <td>-13.797796</td>\n",
       "      <td>93.481890</td>\n",
       "      <td>36.337090</td>\n",
       "      <td>-3.420518</td>\n",
       "    </tr>\n",
       "    <tr>\n",
       "      <th>994</th>\n",
       "      <td>2022-09-25</td>\n",
       "      <td>-13.872550</td>\n",
       "      <td>93.593897</td>\n",
       "      <td>36.177995</td>\n",
       "      <td>-3.218676</td>\n",
       "    </tr>\n",
       "    <tr>\n",
       "      <th>995</th>\n",
       "      <td>2022-09-26</td>\n",
       "      <td>-14.924198</td>\n",
       "      <td>94.337217</td>\n",
       "      <td>36.769978</td>\n",
       "      <td>-2.003786</td>\n",
       "    </tr>\n",
       "    <tr>\n",
       "      <th>996</th>\n",
       "      <td>2022-09-27</td>\n",
       "      <td>-15.370155</td>\n",
       "      <td>94.976063</td>\n",
       "      <td>33.147424</td>\n",
       "      <td>-2.698599</td>\n",
       "    </tr>\n",
       "    <tr>\n",
       "      <th>997</th>\n",
       "      <td>2022-09-28</td>\n",
       "      <td>-13.611471</td>\n",
       "      <td>94.902053</td>\n",
       "      <td>33.232687</td>\n",
       "      <td>-1.680934</td>\n",
       "    </tr>\n",
       "    <tr>\n",
       "      <th>998</th>\n",
       "      <td>2022-09-29</td>\n",
       "      <td>-14.031579</td>\n",
       "      <td>93.618542</td>\n",
       "      <td>33.410472</td>\n",
       "      <td>-1.789692</td>\n",
       "    </tr>\n",
       "    <tr>\n",
       "      <th>999</th>\n",
       "      <td>2022-09-30</td>\n",
       "      <td>-13.136303</td>\n",
       "      <td>93.124888</td>\n",
       "      <td>31.984868</td>\n",
       "      <td>-2.365142</td>\n",
       "    </tr>\n",
       "  </tbody>\n",
       "</table>\n",
       "<p>1000 rows × 5 columns</p>\n",
       "</div>"
      ],
      "text/plain": [
       "     Unnamed: 0          A          B          C         D\n",
       "0    2020-01-05   1.578467   1.046580   0.768684  0.120352\n",
       "1    2020-01-06   1.108046   0.834367   0.039375 -1.132746\n",
       "2    2020-01-07  -0.140812   0.781934   1.078894 -1.306276\n",
       "3    2020-01-08  -0.966631   1.684931   2.266512 -2.280685\n",
       "4    2020-01-09  -2.159600   2.633410   1.508797 -3.029249\n",
       "5    2020-01-10  -1.509164   0.965633   0.750043 -4.698713\n",
       "6    2020-01-11  -2.430032   1.558558   1.211158 -3.414235\n",
       "7    2020-01-12  -2.334888   1.917398   1.115480 -2.433254\n",
       "8    2020-01-13  -2.149272   1.523294   2.672400 -1.024708\n",
       "9    2020-01-14  -2.454048   2.635852   2.882226 -0.211721\n",
       "10   2020-01-15  -2.165491  -0.055398   0.479567 -0.736584\n",
       "11   2020-01-16  -0.416559  -0.232021   1.299065 -1.373169\n",
       "12   2020-01-17  -0.873942  -1.921314  -0.023873 -1.491766\n",
       "13   2020-01-18  -1.161795  -1.892790   0.703275  0.270877\n",
       "14   2020-01-19  -1.824923  -0.865084  -0.574296 -0.610749\n",
       "15   2020-01-20  -1.006330  -1.408963  -0.101303  0.071515\n",
       "16   2020-01-21  -0.191228  -2.678507  -0.059074  0.739813\n",
       "17   2020-01-22  -0.755026  -3.403722  -0.754532  1.899027\n",
       "18   2020-01-23  -0.977193  -2.992242  -1.137862  2.573239\n",
       "19   2020-01-24  -0.353020  -1.855000  -0.920970  3.146057\n",
       "20   2020-01-25  -1.279944  -0.478033   1.050079  2.964648\n",
       "21   2020-01-26  -2.329142  -0.979825   0.342908  1.880950\n",
       "22   2020-01-27  -2.242891  -1.470713   0.892054  1.942400\n",
       "23   2020-01-28  -1.604429  -1.280500  -0.346008  3.686122\n",
       "24   2020-01-29  -2.824818  -0.905345  -0.621565  3.480333\n",
       "25   2020-01-30  -2.137904  -1.402051  -0.687897  4.141557\n",
       "26   2020-01-31  -2.913254  -1.041746  -1.479314  5.041481\n",
       "27   2020-02-01  -1.491853  -0.255722  -1.247728  5.237051\n",
       "28   2020-02-02  -2.161689  -0.865640  -0.623125  5.295940\n",
       "29   2020-02-03  -2.129531  -0.945636   0.867187  6.362913\n",
       "..          ...        ...        ...        ...       ...\n",
       "970  2022-09-01 -10.874750  92.372976  39.661092 -0.926267\n",
       "971  2022-09-02 -10.440899  91.117663  39.343784 -0.884632\n",
       "972  2022-09-03 -11.822770  90.844290  39.150430 -1.308328\n",
       "973  2022-09-04 -11.006262  91.142225  38.300498  1.085970\n",
       "974  2022-09-05 -10.520548  89.777157  37.050230  1.613701\n",
       "975  2022-09-06 -11.049245  89.097602  36.708397 -0.326266\n",
       "976  2022-09-07 -11.191770  89.734386  37.264677 -1.250699\n",
       "977  2022-09-08 -10.317456  89.489201  36.696866  0.141228\n",
       "978  2022-09-09 -10.043643  90.109166  36.102156  0.083595\n",
       "979  2022-09-10  -9.542498  91.782210  36.638285  1.062556\n",
       "980  2022-09-11  -9.423081  92.234668  36.998393 -0.231482\n",
       "981  2022-09-12  -9.741774  92.204833  35.942913 -1.131151\n",
       "982  2022-09-13 -10.833060  93.852863  33.688774 -2.349279\n",
       "983  2022-09-14 -11.368128  92.721717  32.330965 -2.525765\n",
       "984  2022-09-15 -11.937107  93.166477  33.018993 -2.917463\n",
       "985  2022-09-16 -11.055192  92.911454  33.091041 -2.707646\n",
       "986  2022-09-17 -12.126252  92.535830  33.140271 -2.837427\n",
       "987  2022-09-18 -12.908971  92.478721  32.305180 -3.397401\n",
       "988  2022-09-19 -15.452968  93.749104  34.445637 -3.692844\n",
       "989  2022-09-20 -14.534499  93.799698  34.053353 -3.875581\n",
       "990  2022-09-21 -14.672913  94.801115  34.485189 -4.235191\n",
       "991  2022-09-22 -14.463419  93.843664  35.431698 -3.119905\n",
       "992  2022-09-23 -13.455968  94.274966  34.556554 -4.086026\n",
       "993  2022-09-24 -13.797796  93.481890  36.337090 -3.420518\n",
       "994  2022-09-25 -13.872550  93.593897  36.177995 -3.218676\n",
       "995  2022-09-26 -14.924198  94.337217  36.769978 -2.003786\n",
       "996  2022-09-27 -15.370155  94.976063  33.147424 -2.698599\n",
       "997  2022-09-28 -13.611471  94.902053  33.232687 -1.680934\n",
       "998  2022-09-29 -14.031579  93.618542  33.410472 -1.789692\n",
       "999  2022-09-30 -13.136303  93.124888  31.984868 -2.365142\n",
       "\n",
       "[1000 rows x 5 columns]"
      ]
     },
     "execution_count": 196,
     "metadata": {},
     "output_type": "execute_result"
    }
   ],
   "source": [
    "pd.read_csv('modelos')"
   ]
  },
  {
   "cell_type": "markdown",
   "metadata": {},
   "source": [
    "---\n",
    "### Más información\n",
    "\n",
    "* [Página web](https://www.google.com/)\n",
    "* Libro o algo\n",
    "* Tutorial [w3schools](https://www.w3schools.com/python/)\n",
    "---"
   ]
  },
  {
   "cell_type": "markdown",
   "metadata": {},
   "source": [
    "---\n",
    "\n",
    "**Universidad de Costa Rica**\n",
    "\n",
    "Facultad de Ingeniería\n",
    "\n",
    "Escuela de Ingeniería Eléctrica\n",
    "\n",
    "---"
   ]
  }
 ],
 "metadata": {
  "kernelspec": {
   "display_name": "Python 3",
   "language": "python",
   "name": "python3"
  },
  "language_info": {
   "codemirror_mode": {
    "name": "ipython",
    "version": 3
   },
   "file_extension": ".py",
   "mimetype": "text/x-python",
   "name": "python",
   "nbconvert_exporter": "python",
   "pygments_lexer": "ipython3",
   "version": "3.7.3"
  }
 },
 "nbformat": 4,
 "nbformat_minor": 2
}
