{
 "cells": [
  {
   "cell_type": "markdown",
   "metadata": {},
   "source": [
    "---\n",
    "### Universidad de Costa Rica\n",
    "#### IE0405 - Modelos Probabilísticos de Señales y Sistemas\n",
    "---\n",
    "\n",
    "# `Py6` - *Módulo de estadística para cálculo de momentos*\n",
    "\n",
    "> Todos los modelos probabilísticos tienen \"momentos\", que son descriptores estadísticos de su forma y tendencias. Entre ellos (infinitos) son más relevantes: la media, la varianza, la inclinación y la kurtosis. Se pueden conocer de forma analítica con los parámetros de cada modelo, pero también a partir numéricamente a partir de una muestra de datos.\n",
    "\n",
    "---"
   ]
  },
  {
   "cell_type": "markdown",
   "metadata": {},
   "source": [
    "## Ajuste de modelos\n",
    "\n",
    "El ajuste de modelos...\n",
    "\n",
    "### Estimación de máxima verosimilitud (MLE)\n",
    "\n",
    "(Esto es de menor prioridad) La estimación de máxima verosimilitud (**MLE**, *maximum likelihood estimation*)\n"
   ]
  },
  {
   "cell_type": "markdown",
   "metadata": {},
   "source": [
    "---\n",
    "## 6.1 - Con la librería `numpy`\n",
    "\n",
    "Para iniciar ...\n",
    "\n",
    "### Cálculo de momentos para una muestra de datos"
   ]
  },
  {
   "cell_type": "code",
   "execution_count": null,
   "metadata": {},
   "outputs": [],
   "source": []
  },
  {
   "cell_type": "markdown",
   "metadata": {},
   "source": [
    "---\n",
    "## 6.2 - Con el módulo `stats`\n",
    "\n",
    "Si es necesario ..."
   ]
  },
  {
   "cell_type": "code",
   "execution_count": null,
   "metadata": {},
   "outputs": [],
   "source": []
  },
  {
   "cell_type": "markdown",
   "metadata": {},
   "source": [
    "---\n",
    "### Más información\n",
    "\n",
    "* [Página web](https://www.google.com/)\n",
    "* Libro o algo\n",
    "* Tutorial [w3schools](https://www.w3schools.com/python/)\n",
    "---"
   ]
  },
  {
   "cell_type": "markdown",
   "metadata": {},
   "source": [
    "---\n",
    "\n",
    "**Universidad de Costa Rica**\n",
    "\n",
    "Facultad de Ingeniería\n",
    "\n",
    "Escuela de Ingeniería Eléctrica\n",
    "\n",
    "---"
   ]
  }
 ],
 "metadata": {
  "kernelspec": {
   "display_name": "Python 3",
   "language": "python",
   "name": "python3"
  },
  "language_info": {
   "codemirror_mode": {
    "name": "ipython",
    "version": 3
   },
   "file_extension": ".py",
   "mimetype": "text/x-python",
   "name": "python",
   "nbconvert_exporter": "python",
   "pygments_lexer": "ipython3",
   "version": "3.7.1"
  }
 },
 "nbformat": 4,
 "nbformat_minor": 2
}
