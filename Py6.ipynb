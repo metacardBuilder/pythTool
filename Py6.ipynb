{
 "cells": [
  {
   "cell_type": "markdown",
   "metadata": {},
   "source": [
    "---\n",
    "### Universidad de Costa Rica\n",
    "#### IE0405 - Modelos Probabilísticos de Señales y Sistemas\n",
    "---\n",
    "\n",
    "# `Py6` - *Módulo de estadística para cálculo de momentos*\n",
    "\n",
    "> Todos los modelos probabilísticos tienen \"momentos\", que son descriptores estadísticos de su forma y tendencias. Entre ellos (infinitos) son más relevantes: la media, la varianza, la inclinación y la kurtosis. Se pueden conocer de forma analítica con los parámetros de cada modelo, pero también numéricamente a partir de una muestra de datos.\n",
    "\n",
    "---"
   ]
  },
  {
   "cell_type": "markdown",
   "metadata": {},
   "source": [
    "## Ajuste de modelos\n",
    "\n",
    "El ajuste de modelos tiene el objetivo de encontrar un modelo que describa adecuadamente un conjunto de datos. Esta descripción nunca será perfecta, ya que cualquier modelo será en cierto grado una simplificación, y siempre habrá factores que no logra tomar en cuenta. \n",
    "\n",
    "Los modelos generalmente se obtienen mediante un análisis de regresión en el que, dada una variable dependiente que es función de una serie de variables independientes, se toma una ecuación de dependencia dada por una serie de parámetros libres, y se encuentran los valores de dichos parámetros que minimizan el error.\n",
    "\n",
    "### Estimación de máxima verosimilitud (MLE)\n",
    "\n",
    "La [estimación de máxima verosimilitud](https://towardsdatascience.com/maximum-likelihood-estimation-how-it-works-and-implementing-in-python-b0eb2efb360f) (**MLE**, *maximum likelihood estimation*) es un método para realizar ajuste de modelos asociados a distribuciones probabilísticas de variables aleatorias. En esencia, funciona de manera análoga a una regresión. Consiste en encontrar los parámetros de una función de distribución probabilística que maximicen la probabilidad de ocurrencia, de acuerdo a esta distribución, de los datos que se están tomando como muestra.\n"
   ]
  },
  {
   "cell_type": "markdown",
   "metadata": {},
   "source": [
    "---\n",
    "## 6.1 - Con la librería `numpy`\n",
    "\n",
    "Inicialmente, se requiere importar la libería `numpy`, como se mostró guías anteriores. Los datos sobre los cuáles se están calculando los momentos deben estar dados en un array, que se expresará para propósitos de esta guía mediante la variable `a`. \n",
    "\n",
    "A continuación se muestran las funciones para calcular distintos momentos:\n",
    "\n",
    "* Valor esperado: `numpy.mean(a)`\n",
    "* Varianza: `numpy.var(a)`\n",
    "* Desviación estándar: `numpy.std(a)`\n",
    "* Inclinación: Esta función no se encuentra en `numpy`\n",
    "* Kurtosis: Esta función no se encuentra en `numpy`\n",
    "\n",
    "\n",
    "### Ejemplo de cálculo de momentos para una muestra de datos:"
   ]
  },
  {
   "cell_type": "code",
   "execution_count": null,
   "metadata": {},
   "outputs": [],
   "source": [
    "import numpy as np\n",
    "a=[1,5,7,5,45,76,8,9,7,65,4,5,6,78,98,9,90,8,76,5,4]\n",
    "mu=np.mean(a)\n",
    "print(mu)\n",
    "var=np.var(a)\n",
    "print(var)\n",
    "std=np.std(a)\n",
    "print(std)"
   ]
  },
  {
   "cell_type": "markdown",
   "metadata": {},
   "source": [
    "---\n",
    "## 6.2 - Con el módulo `stats`\n",
    "\n",
    "El módulo `stats`de `scipy` proporciona una gama más amplia de funciones estadísticas para cálculo de momentos. Se requiere importar `scipy.stats`. A diferencia de `numpy`, que posee funciones que se operan sobre un array, el módulo `stats` crea una variable aleatoria, con sus respectivas funciones de distribución y densidad, a partir de las clases definidias. No obstante, también es posible aplicar métodos que operan sobre arrays, de la misma manera que lo hace `numpy` mediante la sublibrería `scipy.stats.mstats`.\n",
    "\n",
    "A continuación se muestran las funciones para los momentos que no se habían podido calcular anteriormente, utilizando `mstats`: \n",
    "\n",
    "* Inclinación: `scipy.stats.mstats.skew(a)`  \n",
    "* Kurtosis: `scipy.stats.mstats.kurtosis(a)`\n",
    "* Momento central general: `scipy.stats.mstats.moment(a,moment=1)`, cambiando el valor de `moment` se asigna el orden del momento\n",
    "\n",
    "### Ejemplo del cálculo de momentos para una muestra de datos:"
   ]
  },
  {
   "cell_type": "code",
   "execution_count": null,
   "metadata": {},
   "outputs": [],
   "source": [
    "import scipy.stats.mstats as ms\n",
    "a=[1,5,7,5,45,76,8,9,7,65,4,5,6,78,98,9,90,8,76,5,4]\n",
    "sk=ms.skew(a)\n",
    "print(sk)\n",
    "kur=ms.kurtosis(a)\n",
    "print(kur)\n",
    "var1=ms.moment(a,2) # Debería ser igual a la varianza calculada anteriormente con numpy, es el momento central de segundo orden\n",
    "print(var1) # En efecto, presenta el mismo valor"
   ]
  },
  {
   "cell_type": "markdown",
   "metadata": {},
   "source": [
    "---\n",
    "### Más información\n",
    "\n",
    "* [Funciones estadísticas de `numpy`](https://numpy.org/doc/1.18/reference/routines.statistics.html)\n",
    "* [Funciones estadísticas de `mstats`](https://docs.scipy.org/doc/scipy/reference/stats.mstats.html)\n",
    "* [Más documentación de `stats`](https://docs.scipy.org/doc/scipy/reference/stats.html)\n",
    "* [Tutorial de `stats`](https://www.tutorialspoint.com/scipy/scipy_stats.htm)\n",
    "---"
   ]
  },
  {
   "cell_type": "markdown",
   "metadata": {},
   "source": [
    "---\n",
    "\n",
    "**Universidad de Costa Rica**\n",
    "\n",
    "Facultad de Ingeniería\n",
    "\n",
    "Escuela de Ingeniería Eléctrica\n",
    "\n",
    "---"
   ]
  }
 ],
 "metadata": {
  "kernelspec": {
   "display_name": "Python 3",
   "language": "python",
   "name": "python3"
  },
  "language_info": {
   "codemirror_mode": {
    "name": "ipython",
    "version": 3
   },
   "file_extension": ".py",
   "mimetype": "text/x-python",
   "name": "python",
   "nbconvert_exporter": "python",
   "pygments_lexer": "ipython3",
   "version": "3.7.4"
  }
 },
 "nbformat": 4,
 "nbformat_minor": 2
}
