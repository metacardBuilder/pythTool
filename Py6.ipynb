{
 "cells": [
  {
   "cell_type": "markdown",
   "metadata": {},
   "source": [
    "---\n",
    "### Universidad de Costa Rica\n",
    "#### IE0405 - Modelos Probabilísticos de Señales y Sistemas\n",
    "---\n",
    "\n",
    "# `Py6` - *Módulo de estadística para cálculo de momentos*\n",
    "\n",
    "> Todos los modelos probabilísticos tienen \"momentos\", que son descriptores estadísticos de su forma y tendencias. Entre ellos (infinitos) son más relevantes: la media, la varianza, la inclinación y la kurtosis. Se pueden conocer de forma analítica con los parámetros de cada modelo, pero también numéricamente a partir de una muestra de datos.\n",
    "\n",
    "---"
   ]
  },
  {
   "cell_type": "markdown",
   "metadata": {},
   "source": [
    "## Ajuste de modelos\n",
    "\n",
    "El ajuste de modelos tiene el objetivo de encontrar un modelo que describa adecuadamente un conjunto de datos. Esta descripción nunca será perfecta, ya que cualquier modelo será en cierto grado una simplificación, y siempre habrá factores que no logra tomar en cuenta. \n",
    "\n",
    "Los modelos generalmente se obtienen mediante un análisis de regresión en el que, dada una variable dependiente que es función de una serie de variables independientes, se toma una ecuación de dependencia dada por una serie de parámetros libres, y se encuentran los valores de dichos parámetros que minimizan el error.\n",
    "\n",
    "### Estimación de máxima verosimilitud (MLE)\n",
    "\n",
    "La [estimación de máxima verosimilitud](https://towardsdatascience.com/maximum-likelihood-estimation-how-it-works-and-implementing-in-python-b0eb2efb360f) (**MLE**, *maximum likelihood estimation*) es un método para realizar ajuste de modelos asociados a distribuciones probabilísticas de variables aleatorias. En esencia, funciona de manera análoga a una regresión. Consiste en encontrar los parámetros de una función de distribución probabilística que maximicen la probabilidad de ocurrencia, de acuerdo a esta distribución, de los datos que se están tomando como muestra.\n"
   ]
  },
  {
   "cell_type": "markdown",
   "metadata": {},
   "source": [
    "---\n",
    "## 6.1 - Con la librería `numpy`\n",
    "\n",
    "### Momentos a partir de una muestra de datos\n",
    "\n",
    "Inicialmente, se requiere importar la libería `numpy`, como se mostró guías anteriores. Los datos sobre los cuáles se están calculando los momentos deben estar dados en un array, que se expresará para propósitos de esta guía mediante la variable `a`. \n",
    "\n",
    "A continuación se muestran las funciones para calcular distintos momentos:\n",
    "\n",
    "* Valor esperado: `numpy.mean(a)`\n",
    "* Varianza: `numpy.var(a)`\n",
    "* Desviación estándar: `numpy.std(a)`\n",
    "* Inclinación: Esta función no se encuentra en `numpy`\n",
    "* Kurtosis: Esta función no se encuentra en `numpy`\n",
    "\n",
    "\n",
    "#### Ejemplo de cálculo de momentos para una muestra de datos:"
   ]
  },
  {
   "cell_type": "code",
   "execution_count": null,
   "metadata": {},
   "outputs": [],
   "source": [
    "import numpy as np\n",
    "a = [1,5,7,5,45,76,8,9,7,65,4,5,6,78,98,9,90,8,76,5,4]\n",
    "mu = np.mean(a)\n",
    "print(mu)\n",
    "var = np.var(a)\n",
    "print(var)\n",
    "std = np.std(a)\n",
    "print(std)"
   ]
  },
  {
   "cell_type": "markdown",
   "metadata": {},
   "source": [
    "---\n",
    "## 6.2 - Con el módulo `stats`\n",
    "\n",
    "El módulo `stats`de `scipy` proporciona una gama más amplia de funciones estadísticas para cálculo de momentos. Se requiere importar `scipy.stats`. A diferencia de `numpy`, que posee funciones que se operan sobre un array, el módulo `stats` crea una variable aleatoria, con sus respectivas funciones de distribución y densidad, a partir de las clases definidias. No obstante, también es posible aplicar métodos que operan sobre arrays, de la misma manera que lo hace `numpy` mediante la sublibrería `scipy.stats.mstats`.\n",
    "\n",
    "### Momentos a partir de una muestra de datos\n",
    "\n",
    "A continuación se muestran las funciones para los momentos que no se habían podido calcular anteriormente, utilizando `mstats`: \n",
    "\n",
    "* Inclinación: `scipy.stats.mstats.skew(a)`  \n",
    "* Kurtosis: `scipy.stats.mstats.kurtosis(a)`\n",
    "* Momento central general: `scipy.stats.mstats.moment(a,moment=1)`, cambiando el valor de `moment` se asigna el orden del momento\n",
    "\n",
    "#### Ejemplo de cálculo de momentos para una muestra de datos:"
   ]
  },
  {
   "cell_type": "code",
   "execution_count": null,
   "metadata": {},
   "outputs": [],
   "source": [
    "import scipy.stats.mstats as ms\n",
    "a = [1,5,7,5,45,76,8,9,7,65,4,5,6,78,98,9,90,8,76,5,4]\n",
    "sk = ms.skew(a)\n",
    "print(sk)\n",
    "kur = ms.kurtosis(a)\n",
    "print(kur)\n",
    "var1 = ms.moment(a,2) # Debería ser igual a la varianza calculada anteriormente con numpy, es el momento central de segundo orden\n",
    "print(var1) # En efecto, presenta el mismo valor"
   ]
  },
  {
   "cell_type": "markdown",
   "metadata": {},
   "source": [
    "### Momentos a partir de un modelo\n",
    "\n",
    "Hasta ahora se ha mostrado cómo calcular momentos a partir de una muestra de datos definida mediante un array de valores. Como se mencionó anteriormente, también es posible, con ayuda del módulo `stats`, obtener los momentos a partir de un modelo probabilístico dado como se mostrará a continuación. Cada distribución continua es un objeto, representado mediante una instancia de la clase `rv_continuous`. Algunas distribuciones continuas comunes son `expon`, `norm`, `rayleigh`, `uniform`, entre otras. Las distribuciones discretas funcionan de igual manera, pero son instancias de la clase `rv_discrete`. Algunas distribuciones discretas comunes son `bernoulli`, `binom`, `poisson`, `randint`, entre otras. Se pueden generar arrays a partir de estas distribuciones con la función `rvs(size=1)`. Estos arrays tendrán datos aleatorios que siguen dicha distribución que no pueden ser reproducidos posteriormente. Para obtener sus momentos se pueden utilizar las funciones presentadas anteriormente para obtención de momentos a partir de una muestra de datos.\n",
    "\n",
    "#### Ejemplo de creación de datos aleatorios a partir de una distribución:"
   ]
  },
  {
   "cell_type": "code",
   "execution_count": null,
   "metadata": {},
   "outputs": [],
   "source": [
    "from scipy.stats import norm\n",
    "\n",
    "valores = norm.rvs(size=5)\n",
    "print(valores)\n",
    "\n",
    "valores1 = norm.rvs(size=5)\n",
    "print(valores1) # Son diferentes, a menos que se tenga un seed asociado a la generación de números aleatorios"
   ]
  },
  {
   "cell_type": "markdown",
   "metadata": {},
   "source": [
    "También es posible obtener los cuatro momentos presentados anteriormente (media, varianza, inclinación y kurtosis) directamente del modelo dado, mediante la función `stats`, así como un momento generalizado de orden n, centrado en cualquier punto, mediante la función `moment`. Ambas funciones están asociadas al objeto de una variable aleatoria.\n",
    "\n",
    "#### Ejemplo de cálculo de momentos a partir de una distribución:"
   ]
  },
  {
   "cell_type": "code",
   "execution_count": null,
   "metadata": {},
   "outputs": [],
   "source": [
    "from scipy.stats import rayleigh\n",
    "\n",
    "mr, vr, sr, kr = rayleigh.stats(moments='mvsk')\n",
    "print('Media: ')\n",
    "print(mr)\n",
    "print('Varianza: ')\n",
    "print(vr)\n",
    "print('Inclinación: ')\n",
    "print(sr)\n",
    "print('Kurtosis: ')\n",
    "print(kr)\n",
    "\n",
    "mom = rayleigh.moment(5,loc=0)\n",
    "print('Momento de orden 5 alrededor del origen:')\n",
    "print(mom)"
   ]
  },
  {
   "attachments": {},
   "cell_type": "markdown",
   "metadata": {},
   "source": [
    "## Momentos a partir de los parámetros de los modelos\n",
    "\n",
    "Por último, es posible calcular algunos momentos de forma manual, a partir de los parámetros del modelo que se está utilizando. Estas relaciones ya son conocidas, y se pueden utilizar. La siguiente tabla muestra algunas:\n",
    "\n",
    "|     Distribución    |     Parámetros    |     Media           |     Varianza          |     Inclinación                            |     Kurtosis                         |\n",
    "|---------------------|-------------------|---------------------|-----------------------|--------------------------------------------|--------------------------------------|\n",
    "|     Normal          | $\\mu,\\;\\sigma$    | $\\mu$               | $\\sigma$              | $0$                                        | $0$                                  |\n",
    "|     Exponencial     | $\\lambda$         | $\\frac{1}{\\lambda}$ | $\\frac{1}{\\lambda^2}$ | $2$                                        | $6$                                  |\n",
    "|     Rayleigh        | $a$               | $a\\sqrt{2ln(2)}$    | $\\frac{4-\\pi}{2}a^2$  | $\\frac{2\\sqrt{\\pi}(\\pi-3)}{(4-\\pi)^{3/2}}$ | $-\\frac{6\\pi^2-24\\pi+16}{(4-\\pi)^2}$ |\n",
    "|     Continua        | $a,\\;b$           | $\\frac{a+b}{2}$     | $\\frac{1}{12}(b-a)^2$ | $0$                                        | $-\\frac{6}{5}$                       |\n",
    "|     Bernoulli       | $p,\\;q$           | $p$                 | $pq$                  | $\\frac{q-p}{\\sqrt{pq}}$                    | $\\frac{1-6pq}{pq}$                   |\n",
    "|     Poisson         | $\\lambda$         | $\\lambda$           | $\\lambda$             | $\\lambda^{-1/2}$                           | $\\lambda^{-1}$                       |"
   ]
  },
  {
   "cell_type": "markdown",
   "metadata": {},
   "source": [
    "---\n",
    "### Más información\n",
    "\n",
    "* [Funciones estadísticas de `numpy`](https://numpy.org/doc/1.18/reference/routines.statistics.html)\n",
    "* [Funciones estadísticas de `mstats`](https://docs.scipy.org/doc/scipy/reference/stats.mstats.html)\n",
    "* [Documentación de `stats`](https://docs.scipy.org/doc/scipy/reference/stats.html)\n",
    "* [Tutorial de `stats`](https://www.tutorialspoint.com/scipy/scipy_stats.htm)\n",
    "---"
   ]
  },
  {
   "cell_type": "markdown",
   "metadata": {},
   "source": [
    "---\n",
    "\n",
    "**Universidad de Costa Rica**\n",
    "\n",
    "Facultad de Ingeniería\n",
    "\n",
    "Escuela de Ingeniería Eléctrica\n",
    "\n",
    "---"
   ]
  }
 ],
 "metadata": {
  "kernelspec": {
   "display_name": "Python 3",
   "language": "python",
   "name": "python3"
  },
  "language_info": {
   "codemirror_mode": {
    "name": "ipython",
    "version": 3
   },
   "file_extension": ".py",
   "mimetype": "text/x-python",
   "name": "python",
   "nbconvert_exporter": "python",
   "pygments_lexer": "ipython3",
   "version": "3.7.4"
  }
 },
 "nbformat": 4,
 "nbformat_minor": 2
}
